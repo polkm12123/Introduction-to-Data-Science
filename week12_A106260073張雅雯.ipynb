{
  "nbformat": 4,
  "nbformat_minor": 0,
  "metadata": {
    "colab": {
      "name": "week12 A106260073張雅雯.ipynb",
      "provenance": [],
      "collapsed_sections": [],
      "authorship_tag": "ABX9TyNaly2hDDyAm0qOfnGG12uA",
      "include_colab_link": true
    },
    "kernelspec": {
      "name": "python3",
      "display_name": "Python 3"
    }
  },
  "cells": [
    {
      "cell_type": "markdown",
      "metadata": {
        "id": "view-in-github",
        "colab_type": "text"
      },
      "source": [
        "<a href=\"https://colab.research.google.com/github/polkm12123/Introduction-to-Data-Science/blob/master/week12_A106260073%E5%BC%B5%E9%9B%85%E9%9B%AF.ipynb\" target=\"_parent\"><img src=\"https://colab.research.google.com/assets/colab-badge.svg\" alt=\"Open In Colab\"/></a>"
      ]
    },
    {
      "cell_type": "code",
      "metadata": {
        "id": "xZfBdPeR6vUD",
        "colab_type": "code",
        "colab": {}
      },
      "source": [
        "#iterables= in python\n",
        "primes_list=[2,3,5,7,11]\n",
        "primes_tuple=(2,3,5,7,11)\n",
        "weekdays_dict={\n",
        "    'Monday':1,\n",
        "    'Tuesday':2,\n",
        "    'Wednesday':3,\n",
        "    'Thursday':4,\n",
        "    'Friday':5\n",
        "}\n",
        "primes_set={2,3,5,7,11}"
      ],
      "execution_count": 0,
      "outputs": []
    },
    {
      "cell_type": "code",
      "metadata": {
        "id": "I_PLMbNT9t3i",
        "colab_type": "code",
        "outputId": "1b96acdb-5907-4a44-97ce-2e0b116c9d9e",
        "colab": {
          "base_uri": "https://localhost:8080/",
          "height": 183
        }
      },
      "source": [
        "help(iter)"
      ],
      "execution_count": 4,
      "outputs": [
        {
          "output_type": "stream",
          "text": [
            "Help on built-in function iter in module builtins:\n",
            "\n",
            "iter(...)\n",
            "    iter(iterable) -> iterator\n",
            "    iter(callable, sentinel) -> iterator\n",
            "    \n",
            "    Get an iterator from an object.  In the first form, the argument must\n",
            "    supply its own iterator, or be a sequence.\n",
            "    In the second form, the callable is called until it returns the sentinel.\n",
            "\n"
          ],
          "name": "stdout"
        }
      ]
    },
    {
      "cell_type": "code",
      "metadata": {
        "id": "Y2tPB19c9t6w",
        "colab_type": "code",
        "outputId": "97954173-d96c-45cb-e4d8-121db003e72e",
        "colab": {
          "base_uri": "https://localhost:8080/",
          "height": 33
        }
      },
      "source": [
        "I=iter(primes_list)\n",
        "next(I)"
      ],
      "execution_count": 5,
      "outputs": [
        {
          "output_type": "execute_result",
          "data": {
            "text/plain": [
              "2"
            ]
          },
          "metadata": {
            "tags": []
          },
          "execution_count": 5
        }
      ]
    },
    {
      "cell_type": "code",
      "metadata": {
        "id": "_egGt2Jh9t9B",
        "colab_type": "code",
        "outputId": "0b42570f-a1c5-4838-ee65-74ba3cb2eeef",
        "colab": {
          "base_uri": "https://localhost:8080/",
          "height": 33
        }
      },
      "source": [
        "I=iter(primes_tuple)\n",
        "next(I)"
      ],
      "execution_count": 6,
      "outputs": [
        {
          "output_type": "execute_result",
          "data": {
            "text/plain": [
              "2"
            ]
          },
          "metadata": {
            "tags": []
          },
          "execution_count": 6
        }
      ]
    },
    {
      "cell_type": "code",
      "metadata": {
        "id": "W2bHxe2M9t_Z",
        "colab_type": "code",
        "outputId": "97e62c8b-0b62-4398-9174-f4e9d85e698e",
        "colab": {
          "base_uri": "https://localhost:8080/",
          "height": 33
        }
      },
      "source": [
        "I=iter(weekdays_dict)\n",
        "next(I)"
      ],
      "execution_count": 7,
      "outputs": [
        {
          "output_type": "execute_result",
          "data": {
            "text/plain": [
              "'Monday'"
            ]
          },
          "metadata": {
            "tags": []
          },
          "execution_count": 7
        }
      ]
    },
    {
      "cell_type": "code",
      "metadata": {
        "id": "s75Do3aw_xcq",
        "colab_type": "code",
        "outputId": "9c766c18-27c5-4c04-bad2-dd922357f7af",
        "colab": {
          "base_uri": "https://localhost:8080/",
          "height": 33
        }
      },
      "source": [
        "I = iter(weekdays_dict.keys())\n",
        "next(I)"
      ],
      "execution_count": 8,
      "outputs": [
        {
          "output_type": "execute_result",
          "data": {
            "text/plain": [
              "'Monday'"
            ]
          },
          "metadata": {
            "tags": []
          },
          "execution_count": 8
        }
      ]
    },
    {
      "cell_type": "code",
      "metadata": {
        "id": "Ermk3-9o_3BY",
        "colab_type": "code",
        "outputId": "c4d6c15a-3956-4d5d-93e1-439b5e089abf",
        "colab": {
          "base_uri": "https://localhost:8080/",
          "height": 33
        }
      },
      "source": [
        "I=iter(weekdays_dict.values())\n",
        "next(I)"
      ],
      "execution_count": 11,
      "outputs": [
        {
          "output_type": "execute_result",
          "data": {
            "text/plain": [
              "1"
            ]
          },
          "metadata": {
            "tags": []
          },
          "execution_count": 11
        }
      ]
    },
    {
      "cell_type": "code",
      "metadata": {
        "id": "WBrBEm9L_9KA",
        "colab_type": "code",
        "outputId": "b6b3418a-a37f-4c89-fb1a-c96cb9a56ba4",
        "colab": {
          "base_uri": "https://localhost:8080/",
          "height": 33
        }
      },
      "source": [
        "I=iter(weekdays_dict.items()) \n",
        "next(I)"
      ],
      "execution_count": 12,
      "outputs": [
        {
          "output_type": "execute_result",
          "data": {
            "text/plain": [
              "('Monday', 1)"
            ]
          },
          "metadata": {
            "tags": []
          },
          "execution_count": 12
        }
      ]
    },
    {
      "cell_type": "code",
      "metadata": {
        "id": "E2K5vHmG9uB6",
        "colab_type": "code",
        "outputId": "f2a8a025-9608-46cc-8404-442de13c2fb0",
        "colab": {
          "base_uri": "https://localhost:8080/",
          "height": 33
        }
      },
      "source": [
        "I=iter(primes_set)\n",
        "next(I)"
      ],
      "execution_count": 13,
      "outputs": [
        {
          "output_type": "execute_result",
          "data": {
            "text/plain": [
              "2"
            ]
          },
          "metadata": {
            "tags": []
          },
          "execution_count": 13
        }
      ]
    },
    {
      "cell_type": "code",
      "metadata": {
        "id": "AdTVfWkR9uD6",
        "colab_type": "code",
        "outputId": "0de81ec5-e220-4b7d-ad69-52c2f468c79c",
        "colab": {
          "base_uri": "https://localhost:8080/",
          "height": 33
        }
      },
      "source": [
        "may4th='Luke,use the Force!'#可疊帶物件\n",
        "I=iter(may4th)\n",
        "next(I)"
      ],
      "execution_count": 14,
      "outputs": [
        {
          "output_type": "execute_result",
          "data": {
            "text/plain": [
              "'L'"
            ]
          },
          "metadata": {
            "tags": []
          },
          "execution_count": 14
        }
      ]
    },
    {
      "cell_type": "code",
      "metadata": {
        "id": "LcC_Z-XB9uMa",
        "colab_type": "code",
        "outputId": "931b4718-91cd-4abd-851f-36913aff0b78",
        "colab": {
          "base_uri": "https://localhost:8080/",
          "height": 195
        }
      },
      "source": [
        "iter(5566)\n",
        "iter(True)\n",
        "iter(False)"
      ],
      "execution_count": 15,
      "outputs": [
        {
          "output_type": "error",
          "ename": "TypeError",
          "evalue": "ignored",
          "traceback": [
            "\u001b[0;31m---------------------------------------------------------------------------\u001b[0m",
            "\u001b[0;31mTypeError\u001b[0m                                 Traceback (most recent call last)",
            "\u001b[0;32m<ipython-input-15-65a508bb5df7>\u001b[0m in \u001b[0;36m<module>\u001b[0;34m()\u001b[0m\n\u001b[0;32m----> 1\u001b[0;31m \u001b[0miter\u001b[0m\u001b[0;34m(\u001b[0m\u001b[0;36m5566\u001b[0m\u001b[0;34m)\u001b[0m\u001b[0;34m\u001b[0m\u001b[0;34m\u001b[0m\u001b[0m\n\u001b[0m\u001b[1;32m      2\u001b[0m \u001b[0miter\u001b[0m\u001b[0;34m(\u001b[0m\u001b[0;32mTrue\u001b[0m\u001b[0;34m)\u001b[0m\u001b[0;34m\u001b[0m\u001b[0;34m\u001b[0m\u001b[0m\n\u001b[1;32m      3\u001b[0m \u001b[0miter\u001b[0m\u001b[0;34m(\u001b[0m\u001b[0;32mFalse\u001b[0m\u001b[0;34m)\u001b[0m\u001b[0;34m\u001b[0m\u001b[0;34m\u001b[0m\u001b[0m\n",
            "\u001b[0;31mTypeError\u001b[0m: 'int' object is not iterable"
          ]
        }
      ]
    },
    {
      "cell_type": "code",
      "metadata": {
        "id": "pyyzgxPH9uQB",
        "colab_type": "code",
        "outputId": "bacc9f12-d7d7-4c6d-a8e7-e4cc8f3f29fa",
        "colab": {
          "base_uri": "https://localhost:8080/",
          "height": 333
        }
      },
      "source": [
        "for i in may4th: #從....(寫for迴圈)\n",
        "  print(i)"
      ],
      "execution_count": 16,
      "outputs": [
        {
          "output_type": "stream",
          "text": [
            "L\n",
            "u\n",
            "k\n",
            "e\n",
            ",\n",
            "u\n",
            "s\n",
            "e\n",
            " \n",
            "t\n",
            "h\n",
            "e\n",
            " \n",
            "F\n",
            "o\n",
            "r\n",
            "c\n",
            "e\n",
            "!\n"
          ],
          "name": "stdout"
        }
      ]
    },
    {
      "cell_type": "code",
      "metadata": {
        "id": "rRqHU9fa9uS5",
        "colab_type": "code",
        "outputId": "263e26a5-f858-4c28-d713-38c13d405f84",
        "colab": {
          "base_uri": "https://localhost:8080/",
          "height": 33
        }
      },
      "source": [
        "may4th[0]\n",
        "may4th[len(may4th)-1]"
      ],
      "execution_count": 17,
      "outputs": [
        {
          "output_type": "execute_result",
          "data": {
            "text/plain": [
              "'!'"
            ]
          },
          "metadata": {
            "tags": []
          },
          "execution_count": 17
        }
      ]
    },
    {
      "cell_type": "code",
      "metadata": {
        "id": "QoBVcuQA9uVx",
        "colab_type": "code",
        "outputId": "4d229123-6319-4842-eddd-8fcca82f7c8e",
        "colab": {
          "base_uri": "https://localhost:8080/",
          "height": 333
        }
      },
      "source": [
        "i=0\n",
        "while i<len(may4th):\n",
        "  print(may4th[i])\n",
        "  i+=1"
      ],
      "execution_count": 18,
      "outputs": [
        {
          "output_type": "stream",
          "text": [
            "L\n",
            "u\n",
            "k\n",
            "e\n",
            ",\n",
            "u\n",
            "s\n",
            "e\n",
            " \n",
            "t\n",
            "h\n",
            "e\n",
            " \n",
            "F\n",
            "o\n",
            "r\n",
            "c\n",
            "e\n",
            "!\n"
          ],
          "name": "stdout"
        }
      ]
    },
    {
      "cell_type": "code",
      "metadata": {
        "id": "hpr2HcWT9uYT",
        "colab_type": "code",
        "colab": {}
      },
      "source": [
        "#我們說過的迴圈三要素：start、stop、step 去哪裡了呢？\n",
        "#在可迭代物件中就具備了迴圈三要素：\n",
        "\n",
        "#start：可迭代物件中的第 0 項\n",
        "#stop：可迭代物件中的第 -1 項\n",
        "#step：可迭代物件中每個物件的間隔"
      ],
      "execution_count": 0,
      "outputs": []
    },
    {
      "cell_type": "code",
      "metadata": {
        "id": "MzZWVx6S9ubR",
        "colab_type": "code",
        "outputId": "36ce5b05-2448-46d5-8d26-13626008135b",
        "colab": {
          "base_uri": "https://localhost:8080/",
          "height": 1000
        }
      },
      "source": [
        "help(range)"
      ],
      "execution_count": 20,
      "outputs": [
        {
          "output_type": "stream",
          "text": [
            "Help on class range in module builtins:\n",
            "\n",
            "class range(object)\n",
            " |  range(stop) -> range object\n",
            " |  range(start, stop[, step]) -> range object\n",
            " |  \n",
            " |  Return an object that produces a sequence of integers from start (inclusive)\n",
            " |  to stop (exclusive) by step.  range(i, j) produces i, i+1, i+2, ..., j-1.\n",
            " |  start defaults to 0, and stop is omitted!  range(4) produces 0, 1, 2, 3.\n",
            " |  These are exactly the valid indices for a list of 4 elements.\n",
            " |  When step is given, it specifies the increment (or decrement).\n",
            " |  \n",
            " |  Methods defined here:\n",
            " |  \n",
            " |  __bool__(self, /)\n",
            " |      self != 0\n",
            " |  \n",
            " |  __contains__(self, key, /)\n",
            " |      Return key in self.\n",
            " |  \n",
            " |  __eq__(self, value, /)\n",
            " |      Return self==value.\n",
            " |  \n",
            " |  __ge__(self, value, /)\n",
            " |      Return self>=value.\n",
            " |  \n",
            " |  __getattribute__(self, name, /)\n",
            " |      Return getattr(self, name).\n",
            " |  \n",
            " |  __getitem__(self, key, /)\n",
            " |      Return self[key].\n",
            " |  \n",
            " |  __gt__(self, value, /)\n",
            " |      Return self>value.\n",
            " |  \n",
            " |  __hash__(self, /)\n",
            " |      Return hash(self).\n",
            " |  \n",
            " |  __iter__(self, /)\n",
            " |      Implement iter(self).\n",
            " |  \n",
            " |  __le__(self, value, /)\n",
            " |      Return self<=value.\n",
            " |  \n",
            " |  __len__(self, /)\n",
            " |      Return len(self).\n",
            " |  \n",
            " |  __lt__(self, value, /)\n",
            " |      Return self<value.\n",
            " |  \n",
            " |  __ne__(self, value, /)\n",
            " |      Return self!=value.\n",
            " |  \n",
            " |  __new__(*args, **kwargs) from builtins.type\n",
            " |      Create and return a new object.  See help(type) for accurate signature.\n",
            " |  \n",
            " |  __reduce__(...)\n",
            " |      helper for pickle\n",
            " |  \n",
            " |  __repr__(self, /)\n",
            " |      Return repr(self).\n",
            " |  \n",
            " |  __reversed__(...)\n",
            " |      Return a reverse iterator.\n",
            " |  \n",
            " |  count(...)\n",
            " |      rangeobject.count(value) -> integer -- return number of occurrences of value\n",
            " |  \n",
            " |  index(...)\n",
            " |      rangeobject.index(value, [start, [stop]]) -> integer -- return index of value.\n",
            " |      Raise ValueError if the value is not present.\n",
            " |  \n",
            " |  ----------------------------------------------------------------------\n",
            " |  Data descriptors defined here:\n",
            " |  \n",
            " |  start\n",
            " |  \n",
            " |  step\n",
            " |  \n",
            " |  stop\n",
            "\n"
          ],
          "name": "stdout"
        }
      ]
    },
    {
      "cell_type": "code",
      "metadata": {
        "id": "Ia2uu1eTDAK4",
        "colab_type": "code",
        "outputId": "ef2584a3-bbe4-4abe-dc5f-5a1751303b56",
        "colab": {
          "base_uri": "https://localhost:8080/",
          "height": 53
        }
      },
      "source": [
        "print(list(range(1,101)))"
      ],
      "execution_count": 21,
      "outputs": [
        {
          "output_type": "stream",
          "text": [
            "[1, 2, 3, 4, 5, 6, 7, 8, 9, 10, 11, 12, 13, 14, 15, 16, 17, 18, 19, 20, 21, 22, 23, 24, 25, 26, 27, 28, 29, 30, 31, 32, 33, 34, 35, 36, 37, 38, 39, 40, 41, 42, 43, 44, 45, 46, 47, 48, 49, 50, 51, 52, 53, 54, 55, 56, 57, 58, 59, 60, 61, 62, 63, 64, 65, 66, 67, 68, 69, 70, 71, 72, 73, 74, 75, 76, 77, 78, 79, 80, 81, 82, 83, 84, 85, 86, 87, 88, 89, 90, 91, 92, 93, 94, 95, 96, 97, 98, 99, 100]\n"
          ],
          "name": "stdout"
        }
      ]
    },
    {
      "cell_type": "code",
      "metadata": {
        "id": "-Rp37lRQDAPH",
        "colab_type": "code",
        "outputId": "3e29f91d-38cc-4deb-e0d3-2508a2f3d7dc",
        "colab": {
          "base_uri": "https://localhost:8080/",
          "height": 53
        }
      },
      "source": [
        "print(list(range(0,100,2)))"
      ],
      "execution_count": 22,
      "outputs": [
        {
          "output_type": "stream",
          "text": [
            "[0, 2, 4, 6, 8, 10, 12, 14, 16, 18, 20, 22, 24, 26, 28, 30, 32, 34, 36, 38, 40, 42, 44, 46, 48, 50, 52, 54, 56, 58, 60, 62, 64, 66, 68, 70, 72, 74, 76, 78, 80, 82, 84, 86, 88, 90, 92, 94, 96, 98]\n"
          ],
          "name": "stdout"
        }
      ]
    },
    {
      "cell_type": "code",
      "metadata": {
        "id": "LS7nLKA_DASW",
        "colab_type": "code",
        "outputId": "a8d38fd6-a728-476a-9408-0d262e086714",
        "colab": {
          "base_uri": "https://localhost:8080/",
          "height": 67
        }
      },
      "source": [
        "x=int(input(\"請輸入起始正數數:\"))\n",
        "y=int(input(\"請輸入終止正數數:\"))\n",
        "odds=[]#空的list\n",
        "for i in range(x,y+1):\n",
        "  mod=i % 2# 餘數\n",
        "  if mod==1:\n",
        "    odds.append(i)\n",
        "print(odds)"
      ],
      "execution_count": 23,
      "outputs": [
        {
          "output_type": "stream",
          "text": [
            "請輸入起始正數數:56\n",
            "請輸入終止正數數:100\n",
            "[57, 59, 61, 63, 65, 67, 69, 71, 73, 75, 77, 79, 81, 83, 85, 87, 89, 91, 93, 95, 97, 99]\n"
          ],
          "name": "stdout"
        }
      ]
    },
    {
      "cell_type": "code",
      "metadata": {
        "id": "hS9yBqyeDAYQ",
        "colab_type": "code",
        "outputId": "954856ff-ee7e-424f-c48c-cd95e14c831e",
        "colab": {
          "base_uri": "https://localhost:8080/",
          "height": 50
        }
      },
      "source": [
        "print(len(odds)) #記數\n",
        "print(sum(odds)) #加總"
      ],
      "execution_count": 24,
      "outputs": [
        {
          "output_type": "stream",
          "text": [
            "22\n",
            "1716\n"
          ],
          "name": "stdout"
        }
      ]
    },
    {
      "cell_type": "code",
      "metadata": {
        "id": "lIywxChoDAVi",
        "colab_type": "code",
        "outputId": "acd362b8-affc-4b03-f5da-334a2ed62f70",
        "colab": {
          "base_uri": "https://localhost:8080/",
          "height": 50
        }
      },
      "source": [
        "empty_list=[]\n",
        "print(empty_list)\n",
        "print(len(empty_list))"
      ],
      "execution_count": 25,
      "outputs": [
        {
          "output_type": "stream",
          "text": [
            "[]\n",
            "0\n"
          ],
          "name": "stdout"
        }
      ]
    },
    {
      "cell_type": "code",
      "metadata": {
        "id": "EM9Xeh2rDAav",
        "colab_type": "code",
        "outputId": "758ed5e6-c437-4b01-ff23-7969c2cdd426",
        "colab": {
          "base_uri": "https://localhost:8080/",
          "height": 67
        }
      },
      "source": [
        "x=int(input('請輸入一個正整數:'))\n",
        "divisors=[]\n",
        "for i in range(1,x+1):\n",
        "  if x%i==0:\n",
        "    divisors.append(i)\n",
        "print(divisors)#因數分解\n",
        "print(len(divisors)==2)"
      ],
      "execution_count": 26,
      "outputs": [
        {
          "output_type": "stream",
          "text": [
            "請輸入一個正整數:56\n",
            "[1, 2, 4, 7, 8, 14, 28, 56]\n",
            "False\n"
          ],
          "name": "stdout"
        }
      ]
    },
    {
      "cell_type": "code",
      "metadata": {
        "id": "cUuMdMtlDAde",
        "colab_type": "code",
        "outputId": "2b56787a-4b10-49bb-94cc-2224df41dbdf",
        "colab": {
          "base_uri": "https://localhost:8080/",
          "height": 67
        }
      },
      "source": [
        "x=int(input('請輸入一個正整數:'))\n",
        "divisors=[]\n",
        "for i in range(1,x+1):\n",
        "  if x%i==0:\n",
        "    divisors.append(i)\n",
        "print(divisors)#因數分解\n",
        "n_divisors=len(divisors)\n",
        "if n_divisors ==2:\n",
        "  print(\"{}是質數.format(x)\")\n",
        "else:\n",
        "  print(\"{}不是質數.format(x)\")"
      ],
      "execution_count": 27,
      "outputs": [
        {
          "output_type": "stream",
          "text": [
            "請輸入一個正整數:56\n",
            "[1, 2, 4, 7, 8, 14, 28, 56]\n",
            "{}不是質數.format(x)\n"
          ],
          "name": "stdout"
        }
      ]
    },
    {
      "cell_type": "code",
      "metadata": {
        "id": "Knb73SfTDAgY",
        "colab_type": "code",
        "outputId": "aba1a1e2-c5a4-44ed-98a5-fa52ae26478a",
        "colab": {
          "base_uri": "https://localhost:8080/",
          "height": 153
        }
      },
      "source": [
        "#random 產生100個隨機數\n",
        "import random\n",
        "random.randint(1,1000)\n",
        "#random 產生100個隨機數\n",
        "random_intergers=[]\n",
        "for i in range(100):\n",
        "  rand_int=random.randint(1,1000)\n",
        "  random_intergers.append(rand_int)\n",
        "print(random_intergers)\n",
        "print(len(random_intergers))\n",
        "#找出第一大與第一小的數字\n",
        "print(max(random_intergers))\n",
        "print(min(random_intergers))\n",
        "#找出第2大與第2小的數字\n",
        "#set()去除重複\n",
        "rand_int_unique=set(random_intergers)\n",
        "rand_int_unique_list=list(rand_int_unique)\n",
        "print(rand_int_unique)\n",
        "rand_int_unique_list.sort()\n",
        "print(rand_int_unique_list[1]) #second min\n",
        "print(rand_int_unique_list[-2])"
      ],
      "execution_count": 28,
      "outputs": [
        {
          "output_type": "stream",
          "text": [
            "[649, 217, 87, 16, 334, 344, 255, 48, 955, 720, 738, 265, 985, 189, 989, 402, 931, 105, 427, 798, 367, 369, 510, 786, 65, 697, 517, 377, 974, 185, 558, 604, 92, 289, 997, 985, 614, 649, 454, 120, 398, 941, 351, 56, 717, 29, 862, 154, 551, 401, 679, 78, 547, 874, 564, 722, 601, 263, 654, 70, 10, 293, 548, 954, 927, 883, 780, 51, 195, 91, 879, 38, 786, 421, 82, 628, 91, 816, 350, 42, 24, 514, 181, 551, 531, 108, 216, 227, 56, 747, 894, 942, 119, 576, 234, 275, 590, 522, 109, 264]\n",
            "100\n",
            "997\n",
            "10\n",
            "{514, 517, 10, 522, 16, 531, 24, 29, 547, 548, 38, 551, 42, 558, 48, 51, 564, 56, 576, 65, 70, 78, 590, 82, 87, 601, 91, 604, 92, 614, 105, 108, 109, 628, 119, 120, 649, 654, 154, 679, 181, 697, 185, 189, 195, 717, 720, 722, 216, 217, 738, 227, 234, 747, 255, 263, 264, 265, 780, 786, 275, 798, 289, 293, 816, 334, 344, 862, 351, 350, 874, 367, 879, 369, 883, 377, 894, 398, 401, 402, 927, 931, 421, 427, 941, 942, 954, 955, 454, 974, 985, 989, 997, 510}\n",
            "16\n",
            "989\n"
          ],
          "name": "stdout"
        }
      ]
    },
    {
      "cell_type": "code",
      "metadata": {
        "id": "QhYFqrFsDAjW",
        "colab_type": "code",
        "outputId": "f15f290a-64a0-4079-c133-c57d2567c5f8",
        "colab": {
          "base_uri": "https://localhost:8080/",
          "height": 33
        }
      },
      "source": [
        "list(range(10))"
      ],
      "execution_count": 29,
      "outputs": [
        {
          "output_type": "execute_result",
          "data": {
            "text/plain": [
              "[0, 1, 2, 3, 4, 5, 6, 7, 8, 9]"
            ]
          },
          "metadata": {
            "tags": []
          },
          "execution_count": 29
        }
      ]
    },
    {
      "cell_type": "code",
      "metadata": {
        "id": "-Wd2PwoPDAml",
        "colab_type": "code",
        "outputId": "82663340-7301-49f0-a9ee-59a25a05ff56",
        "colab": {
          "base_uri": "https://localhost:8080/",
          "height": 183
        }
      },
      "source": [
        "for i in range(10):\n",
        "  print(i**2)"
      ],
      "execution_count": 30,
      "outputs": [
        {
          "output_type": "stream",
          "text": [
            "0\n",
            "1\n",
            "4\n",
            "9\n",
            "16\n",
            "25\n",
            "36\n",
            "49\n",
            "64\n",
            "81\n"
          ],
          "name": "stdout"
        }
      ]
    },
    {
      "cell_type": "code",
      "metadata": {
        "id": "kunnzKVFDAqJ",
        "colab_type": "code",
        "outputId": "4c0af0bd-9c6e-498e-d899-5334222d36df",
        "colab": {
          "base_uri": "https://localhost:8080/",
          "height": 33
        }
      },
      "source": [
        "squared=[]\n",
        "for i in range(10):\n",
        "  squared.append(i**2)\n",
        "print(squared)"
      ],
      "execution_count": 31,
      "outputs": [
        {
          "output_type": "stream",
          "text": [
            "[0, 1, 4, 9, 16, 25, 36, 49, 64, 81]\n"
          ],
          "name": "stdout"
        }
      ]
    },
    {
      "cell_type": "code",
      "metadata": {
        "id": "3-tMR0zWDAuY",
        "colab_type": "code",
        "outputId": "ea66a464-1b42-468e-b9a8-d46fb95c542d",
        "colab": {
          "base_uri": "https://localhost:8080/",
          "height": 33
        }
      },
      "source": [
        "squared=[i**2 for i in range(10)]\n",
        "print(squared)"
      ],
      "execution_count": 32,
      "outputs": [
        {
          "output_type": "stream",
          "text": [
            "[0, 1, 4, 9, 16, 25, 36, 49, 64, 81]\n"
          ],
          "name": "stdout"
        }
      ]
    },
    {
      "cell_type": "code",
      "metadata": {
        "id": "_zNdfNogDAyP",
        "colab_type": "code",
        "outputId": "6054330b-f75f-43f5-f10b-465f1a6d11f9",
        "colab": {
          "base_uri": "https://localhost:8080/",
          "height": 33
        }
      },
      "source": [
        "odds_squared=[]\n",
        "for i in range(10):\n",
        "  if i%2==1:\n",
        "    odds_squared.append(i**2)\n",
        "print(odds_squared)"
      ],
      "execution_count": 33,
      "outputs": [
        {
          "output_type": "stream",
          "text": [
            "[1, 9, 25, 49, 81]\n"
          ],
          "name": "stdout"
        }
      ]
    },
    {
      "cell_type": "code",
      "metadata": {
        "id": "0ILL9V1MDA2v",
        "colab_type": "code",
        "outputId": "779d2483-35f7-48b5-e369-192f41781ba9",
        "colab": {
          "base_uri": "https://localhost:8080/",
          "height": 33
        }
      },
      "source": [
        "odds_squared=[i**2 for i in range(10) if i%2==1]\n",
        "print(odds_squared)"
      ],
      "execution_count": 34,
      "outputs": [
        {
          "output_type": "stream",
          "text": [
            "[1, 9, 25, 49, 81]\n"
          ],
          "name": "stdout"
        }
      ]
    },
    {
      "cell_type": "code",
      "metadata": {
        "id": "1fA9BMaBDA6X",
        "colab_type": "code",
        "outputId": "60d48f19-7db9-4d3c-fb0b-38addfcba0b7",
        "colab": {
          "base_uri": "https://localhost:8080/",
          "height": 33
        }
      },
      "source": [
        "random_intergers=[random.randint(1,100) for i in range(10)]\n",
        "print(random_intergers)"
      ],
      "execution_count": 35,
      "outputs": [
        {
          "output_type": "stream",
          "text": [
            "[14, 70, 20, 49, 8, 63, 82, 32, 70, 65]\n"
          ],
          "name": "stdout"
        }
      ]
    },
    {
      "cell_type": "code",
      "metadata": {
        "id": "royKr1IYDA_-",
        "colab_type": "code",
        "outputId": "df9f401e-d01d-4065-b7ed-6861abc4f610",
        "colab": {
          "base_uri": "https://localhost:8080/",
          "height": 50
        }
      },
      "source": [
        "random_intergers=[random.randint(1,100) for i in range(20)]\n",
        "is_odds_ints=[]\n",
        "for i in random_intergers:\n",
        "  if i % 2==1:\n",
        "    is_odds_ints.append(True)\n",
        "  else:\n",
        "    is_odds_ints.append(False)\n",
        "print(random_intergers)\n",
        "print(is_odds_ints)"
      ],
      "execution_count": 36,
      "outputs": [
        {
          "output_type": "stream",
          "text": [
            "[20, 84, 93, 68, 21, 94, 14, 93, 9, 34, 26, 32, 80, 28, 9, 99, 86, 37, 25, 28]\n",
            "[False, False, True, False, True, False, False, True, True, False, False, False, False, False, True, True, False, True, True, False]\n"
          ],
          "name": "stdout"
        }
      ]
    },
    {
      "cell_type": "code",
      "metadata": {
        "id": "gfRPLW4c9uep",
        "colab_type": "code",
        "outputId": "834fbdce-8c3f-42da-e04c-ada59bd3b04c",
        "colab": {
          "base_uri": "https://localhost:8080/",
          "height": 50
        }
      },
      "source": [
        "#list Comprehension\n",
        "random_intergers=[random.randint(1,100) for i in range(20)]\n",
        "is_odds_ints=[True if i %2==1 else False  for i in random_intergers]\n",
        "print(random_intergers)\n",
        "print(is_odds_ints)"
      ],
      "execution_count": 37,
      "outputs": [
        {
          "output_type": "stream",
          "text": [
            "[1, 90, 58, 51, 93, 39, 39, 63, 3, 74, 54, 51, 80, 6, 99, 25, 52, 98, 5, 84]\n",
            "[True, False, False, True, True, True, True, True, True, False, False, True, False, False, True, True, False, False, True, False]\n"
          ],
          "name": "stdout"
        }
      ]
    },
    {
      "cell_type": "code",
      "metadata": {
        "id": "Zrr1UkBR9uiR",
        "colab_type": "code",
        "outputId": "353d1f31-ddb5-4454-d100-da420fb61044",
        "colab": {
          "base_uri": "https://localhost:8080/",
          "height": 483
        }
      },
      "source": [
        "help(enumerate)"
      ],
      "execution_count": 38,
      "outputs": [
        {
          "output_type": "stream",
          "text": [
            "Help on class enumerate in module builtins:\n",
            "\n",
            "class enumerate(object)\n",
            " |  enumerate(iterable[, start]) -> iterator for index, value of iterable\n",
            " |  \n",
            " |  Return an enumerate object.  iterable must be another object that supports\n",
            " |  iteration.  The enumerate object yields pairs containing a count (from\n",
            " |  start, which defaults to zero) and a value yielded by the iterable argument.\n",
            " |  enumerate is useful for obtaining an indexed list:\n",
            " |      (0, seq[0]), (1, seq[1]), (2, seq[2]), ...\n",
            " |  \n",
            " |  Methods defined here:\n",
            " |  \n",
            " |  __getattribute__(self, name, /)\n",
            " |      Return getattr(self, name).\n",
            " |  \n",
            " |  __iter__(self, /)\n",
            " |      Implement iter(self).\n",
            " |  \n",
            " |  __new__(*args, **kwargs) from builtins.type\n",
            " |      Create and return a new object.  See help(type) for accurate signature.\n",
            " |  \n",
            " |  __next__(self, /)\n",
            " |      Implement next(self).\n",
            " |  \n",
            " |  __reduce__(...)\n",
            " |      Return state information for pickling.\n",
            "\n"
          ],
          "name": "stdout"
        }
      ]
    },
    {
      "cell_type": "code",
      "metadata": {
        "id": "gSs_-3Yk9ulp",
        "colab_type": "code",
        "outputId": "ecbb3bf1-5a93-484a-c7a0-591a41914906",
        "colab": {
          "base_uri": "https://localhost:8080/",
          "height": 100
        }
      },
      "source": [
        "weekdays=['Monday','Tuesday','Wednesday','Thursday','Friday']\n",
        "for i, wd in enumerate(weekdays):\n",
        "  print(\"{}:星期{}\".format(wd,i+1))"
      ],
      "execution_count": 39,
      "outputs": [
        {
          "output_type": "stream",
          "text": [
            "Monday:星期1\n",
            "Tuesday:星期2\n",
            "Wednesday:星期3\n",
            "Thursday:星期4\n",
            "Friday:星期5\n"
          ],
          "name": "stdout"
        }
      ]
    },
    {
      "cell_type": "code",
      "metadata": {
        "id": "VHGB4OYW9uoh",
        "colab_type": "code",
        "outputId": "50f3ea26-9c72-418c-bae0-d9cbed7e6efd",
        "colab": {
          "base_uri": "https://localhost:8080/",
          "height": 83
        }
      },
      "source": [
        "avengers=['The Avengers','Avengers: Age of Ultron','Avengers: Infinity War','Avengers: Endgame']\n",
        "for idx,movie in enumerate(avengers):\n",
        "  print(\"{}:上映順序{}\".format(idx+1,movie))"
      ],
      "execution_count": 40,
      "outputs": [
        {
          "output_type": "stream",
          "text": [
            "1:上映順序The Avengers\n",
            "2:上映順序Avengers: Age of Ultron\n",
            "3:上映順序Avengers: Infinity War\n",
            "4:上映順序Avengers: Endgame\n"
          ],
          "name": "stdout"
        }
      ]
    },
    {
      "cell_type": "code",
      "metadata": {
        "id": "o72ICTX2eTwA",
        "colab_type": "code",
        "outputId": "2ae807cc-3407-4a02-90a4-0bdc51669e2d",
        "colab": {
          "base_uri": "https://localhost:8080/",
          "height": 83
        }
      },
      "source": [
        "years=[2012,2015,2018,2019]\n",
        "for year, movie in zip(years,avengers):\n",
        "  print(\"{}上映的年份是{}\".format(movie,year))"
      ],
      "execution_count": 41,
      "outputs": [
        {
          "output_type": "stream",
          "text": [
            "The Avengers上映的年份是2012\n",
            "Avengers: Age of Ultron上映的年份是2015\n",
            "Avengers: Infinity War上映的年份是2018\n",
            "Avengers: Endgame上映的年份是2019\n"
          ],
          "name": "stdout"
        }
      ]
    },
    {
      "cell_type": "code",
      "metadata": {
        "id": "ODwJhSwOeUJR",
        "colab_type": "code",
        "outputId": "ed688fa4-9613-471d-bb8e-c119a5fb2b87",
        "colab": {
          "base_uri": "https://localhost:8080/",
          "height": 103
        }
      },
      "source": [
        "import pandas as pd\n",
        "\n",
        "covid19_ts = pd.read_csv(\"https://raw.githubusercontent.com/CSSEGISandData/COVID-19/master/csse_covid_19_data/csse_covid_19_time_series/time_series_covid19_confirmed_global.csv\")\n",
        "covid19_ts_tw = covid19_ts[covid19_ts['Country/Region'] == 'Taiwan*']\n",
        "cumulative_confirmed_tw = list(covid19_ts_tw.loc[:,'1/22/20':'5/21/20'].values.ravel())\n",
        "dates = list(covid19_ts_tw.loc[:, '1/22/20':'5/21/20'].columns)\n",
        "print(dates)\n",
        "print(len(dates))\n",
        "print(cumulative_confirmed_tw)\n",
        "print(len(cumulative_confirmed_tw))\n",
        "# 在這 121 天中，哪些\"日期\"是零新增確診?              "
      ],
      "execution_count": 42,
      "outputs": [
        {
          "output_type": "stream",
          "text": [
            "['1/22/20', '1/23/20', '1/24/20', '1/25/20', '1/26/20', '1/27/20', '1/28/20', '1/29/20', '1/30/20', '1/31/20', '2/1/20', '2/2/20', '2/3/20', '2/4/20', '2/5/20', '2/6/20', '2/7/20', '2/8/20', '2/9/20', '2/10/20', '2/11/20', '2/12/20', '2/13/20', '2/14/20', '2/15/20', '2/16/20', '2/17/20', '2/18/20', '2/19/20', '2/20/20', '2/21/20', '2/22/20', '2/23/20', '2/24/20', '2/25/20', '2/26/20', '2/27/20', '2/28/20', '2/29/20', '3/1/20', '3/2/20', '3/3/20', '3/4/20', '3/5/20', '3/6/20', '3/7/20', '3/8/20', '3/9/20', '3/10/20', '3/11/20', '3/12/20', '3/13/20', '3/14/20', '3/15/20', '3/16/20', '3/17/20', '3/18/20', '3/19/20', '3/20/20', '3/21/20', '3/22/20', '3/23/20', '3/24/20', '3/25/20', '3/26/20', '3/27/20', '3/28/20', '3/29/20', '3/30/20', '3/31/20', '4/1/20', '4/2/20', '4/3/20', '4/4/20', '4/5/20', '4/6/20', '4/7/20', '4/8/20', '4/9/20', '4/10/20', '4/11/20', '4/12/20', '4/13/20', '4/14/20', '4/15/20', '4/16/20', '4/17/20', '4/18/20', '4/19/20', '4/20/20', '4/21/20', '4/22/20', '4/23/20', '4/24/20', '4/25/20', '4/26/20', '4/27/20', '4/28/20', '4/29/20', '4/30/20', '5/1/20', '5/2/20', '5/3/20', '5/4/20', '5/5/20', '5/6/20', '5/7/20', '5/8/20', '5/9/20', '5/10/20', '5/11/20', '5/12/20', '5/13/20', '5/14/20', '5/15/20', '5/16/20', '5/17/20', '5/18/20', '5/19/20', '5/20/20', '5/21/20']\n",
            "121\n",
            "[1, 1, 3, 3, 4, 5, 8, 8, 9, 10, 10, 10, 10, 11, 11, 16, 16, 17, 18, 18, 18, 18, 18, 18, 18, 20, 22, 22, 23, 24, 26, 26, 28, 30, 31, 32, 32, 34, 39, 40, 41, 42, 42, 44, 45, 45, 45, 45, 47, 48, 49, 50, 53, 59, 67, 77, 100, 108, 135, 153, 169, 195, 215, 235, 252, 267, 283, 298, 306, 322, 329, 339, 348, 355, 363, 373, 376, 379, 380, 382, 385, 388, 393, 393, 395, 395, 395, 398, 420, 422, 425, 426, 427, 428, 429, 429, 429, 429, 429, 429, 429, 432, 436, 438, 438, 439, 440, 440, 440, 440, 440, 440, 440, 440, 440, 440, 440, 440, 440, 440, 440]\n",
            "121\n"
          ],
          "name": "stdout"
        }
      ]
    },
    {
      "cell_type": "code",
      "metadata": {
        "id": "RgBi7AuKeUNX",
        "colab_type": "code",
        "colab": {
          "base_uri": "https://localhost:8080/",
          "height": 70
        },
        "outputId": "2df5758e-34f0-423c-c536-030ca1ffa0d2"
      },
      "source": [
        "cumulative_confirmed_tw_lag = [cumulative_confirmed_tw[i] for i in range(len(cumulative_confirmed_tw)-1)]\n",
        "cumulative_confirmed_tw_lag.insert(0, 0)\n",
        "print(cumulative_confirmed_tw_lag)\n",
        "print(len(cumulative_confirmed_tw_lag))"
      ],
      "execution_count": 43,
      "outputs": [
        {
          "output_type": "stream",
          "text": [
            "[0, 1, 1, 3, 3, 4, 5, 8, 8, 9, 10, 10, 10, 10, 11, 11, 16, 16, 17, 18, 18, 18, 18, 18, 18, 18, 20, 22, 22, 23, 24, 26, 26, 28, 30, 31, 32, 32, 34, 39, 40, 41, 42, 42, 44, 45, 45, 45, 45, 47, 48, 49, 50, 53, 59, 67, 77, 100, 108, 135, 153, 169, 195, 215, 235, 252, 267, 283, 298, 306, 322, 329, 339, 348, 355, 363, 373, 376, 379, 380, 382, 385, 388, 393, 393, 395, 395, 395, 398, 420, 422, 425, 426, 427, 428, 429, 429, 429, 429, 429, 429, 429, 432, 436, 438, 438, 439, 440, 440, 440, 440, 440, 440, 440, 440, 440, 440, 440, 440, 440, 440]\n",
            "121\n"
          ],
          "name": "stdout"
        }
      ]
    }
  ]
}