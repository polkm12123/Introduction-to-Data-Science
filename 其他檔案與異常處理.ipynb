{
  "nbformat": 4,
  "nbformat_minor": 0,
  "metadata": {
    "colab": {
      "name": "其他檔案與異常處理.ipynb",
      "provenance": [],
      "collapsed_sections": [],
      "include_colab_link": true
    },
    "kernelspec": {
      "display_name": "Python 3",
      "language": "python",
      "name": "python3"
    },
    "language_info": {
      "codemirror_mode": {
        "name": "ipython",
        "version": 3
      },
      "file_extension": ".py",
      "mimetype": "text/x-python",
      "name": "python",
      "nbconvert_exporter": "python",
      "pygments_lexer": "ipython3",
      "version": "3.7.6"
    }
  },
  "cells": [
    {
      "cell_type": "markdown",
      "metadata": {
        "id": "view-in-github",
        "colab_type": "text"
      },
      "source": [
        "<a href=\"https://colab.research.google.com/github/polkm12123/Introduction-to-Data-Science/blob/master/%E5%85%B6%E4%BB%96%E6%AA%94%E6%A1%88%E8%88%87%E7%95%B0%E5%B8%B8%E8%99%95%E7%90%86.ipynb\" target=\"_parent\"><img src=\"https://colab.research.google.com/assets/colab-badge.svg\" alt=\"Open In Colab\"/></a>"
      ]
    },
    {
      "cell_type": "code",
      "metadata": {
        "colab_type": "code",
        "id": "02DvH9ngKtS3",
        "outputId": "66f01966-3fae-45ab-8e84-48370f6cdb00",
        "colab": {
          "base_uri": "https://localhost:8080/",
          "height": 317
        }
      },
      "source": [
        "#(王緯華)撰寫一個程式，以不定數迴圈輸入學生姓名，微積分與會計成績。當輸入學生姓名為none時，則結束輸入動作。並將上述輸入的資料寫入名為students.dat的檔案中。\n",
        "outfile = open('students.dat','w') #'students.dat' 為檔名  W 指說是寫輸入進去\n",
        "#write data to the file\n",
        "while True:\n",
        "  name = input()\n",
        "  calculus = input()\n",
        "  accounting = input()\n",
        "  if name == 'none':\n",
        "    break\n",
        "  else:\n",
        "    outfile.write(name)\n",
        "    outfile.write(' ')\n",
        "    outfile.write(calculus)\n",
        "    outfile.write(' ')\n",
        "    outfile.write(accounting)\n",
        "    outfile.write(' ')\n",
        "    outfile.write('\\n')\n",
        "outfile.close() #close 關閉檔案"
      ],
      "execution_count": 0,
      "outputs": [
        {
          "output_type": "stream",
          "text": [
            "Peter\n",
            "90\n",
            "89\n",
            "Mary\n",
            "88\n",
            "79\n",
            "John\n",
            "80\n",
            "95\n",
            "Nancy\n",
            "87\n",
            "76\n",
            "Lulu\n",
            "67\n",
            "99\n",
            "none\n",
            "10\n",
            "10\n"
          ],
          "name": "stdout"
        }
      ]
    },
    {
      "cell_type": "code",
      "metadata": {
        "colab_type": "code",
        "id": "LgxOhDmgvqL9",
        "outputId": "e4ba0cdf-9918-4e5e-be43-7024607151fd",
        "colab": {
          "base_uri": "https://localhost:8080/",
          "height": 183
        }
      },
      "source": [
        "#撰寫一程式，將綜合範例11所建立的students.dat檔案加以讀取之\n",
        "infile = open('students.dat','r')\n",
        "\n",
        "info = infile.readline() #r 為讀一行一行的方式\n",
        "while info != '': #當info 不等於 空字串\n",
        "  print(info) ) #執行這個\n",
        "  info = infile.readline() #區間\n",
        "\n",
        "infile.close()"
      ],
      "execution_count": 0,
      "outputs": [
        {
          "output_type": "stream",
          "text": [
            "Peter 90 89 \n",
            "\n",
            "Mary 88 79 \n",
            "\n",
            "John 80 95 \n",
            "\n",
            "Nancy 87 76 \n",
            "\n",
            "Lulu 67 99 \n",
            "\n"
          ],
          "name": "stdout"
        }
      ]
    },
    {
      "cell_type": "code",
      "metadata": {
        "colab_type": "code",
        "id": "5O-gleycdxgK",
        "outputId": "5d895dff-5e18-4893-d45d-1526c6bf0a08",
        "colab": {
          "base_uri": "https://localhost:8080/",
          "height": 100
        }
      },
      "source": [
        "#撰寫一程式，將宗和範力11所建立的students.dat檔案加以讀取之，並計算每位學生的平均分數。假設微積分的比重是60%，而會計的比重是40%。\n",
        "infile = open('students.dat','r')\n",
        "\n",
        "info = infile.readline()\n",
        "while info != '':\n",
        "  lst = info.split(' ')\n",
        "  calculus = eval(lst[1])   #eval 叫 lst得物件,回傳他的值\n",
        "  accounting = eval(lst[2])  #計算平均\n",
        "  average = calculus * 0.6 + accounting * 0.4\n",
        "  print('|%10s: %.2f|'%(lst[0], average)) #%s 為類似format的概念 將%帶換成後面的值   0.2為小數點後兩位\n",
        "  info = infile.readline()#區間\n",
        "\n",
        "infile.close()\n"
      ],
      "execution_count": 0,
      "outputs": [
        {
          "output_type": "stream",
          "text": [
            "|     Peter: 89.60|\n",
            "|      Mary: 84.40|\n",
            "|      John: 86.00|\n",
            "|     Nancy: 82.60|\n",
            "|      Lulu: 79.80|\n"
          ],
          "name": "stdout"
        }
      ]
    },
    {
      "cell_type": "code",
      "metadata": {
        "colab_type": "code",
        "id": "M4a_fR3NLIUj",
        "outputId": "be4b0802-321d-4d45-f87b-133e4c250eda",
        "colab": {
          "base_uri": "https://localhost:8080/",
          "height": 183
        }
      },
      "source": [
        "###(黃弘鑫)綜合範例１４：試撰寫一程式，將綜合範例１１所建立的 students.dat 檔案加以讀取之，看哪位學生的微積分最高\n",
        "\n",
        "infile = open(\"students.dat\", \"r\")\n",
        "\n",
        "max = -1\n",
        "info = infile.readline()\n",
        "while info != \"\":\n",
        "    lst = info.split(\" \")\n",
        "    calculus = eval(lst[1])\n",
        "    if calculus > max:\n",
        "        max = calculus\n",
        "        name = lst[0]\n",
        "    info = infile.readline()\n",
        "\n",
        "print(\"#1 calculus score is {}： {}.\".format(name, max))\n",
        "infile.close()"
      ],
      "execution_count": 0,
      "outputs": [
        {
          "output_type": "stream",
          "text": [
            "#1 calculus score is Peter： 90.\n"
          ],
          "name": "stdout"
        }
      ]
    },
    {
      "cell_type": "code",
      "metadata": {
        "colab_type": "code",
        "id": "kkCo3x4OLIbW",
        "outputId": "13a78980-110e-4e53-e6d6-ad82372c52f2",
        "colab": {
          "base_uri": "https://localhost:8080/",
          "height": 100
        }
      },
      "source": [
        "###綜合範例１５：試撰寫一程式，將綜合範例１１所建立的 students.dat 檔案加以讀取之，看哪位學生的會計最低\n",
        "\n",
        "infile = open(\"students.dat\",\"r\")\n",
        "\n",
        "min = 101\n",
        "info = infile.readline()\n",
        "while info != \"\":\n",
        "    lst = info.split(\" \")\n",
        "    accounting  =eval(lst[2])\n",
        "    if accounting < min:\n",
        "        min = accounting\n",
        "        name = lst[0]\n",
        "    info = infile.readline()\n",
        "\n",
        "print(\"The lowest accounting score is\\n          {}：    {}.\".format(name, max))\n",
        "infile.close()"
      ],
      "execution_count": 0,
      "outputs": [
        {
          "output_type": "stream",
          "text": [
            "The lowest accounting score is\n",
            "          Nancy：    90.\n"
          ],
          "name": "stdout"
        }
      ]
    },
    {
      "cell_type": "code",
      "metadata": {
        "colab_type": "code",
        "id": "tof7xf0TLIhq",
        "outputId": "fc882a92-d4fb-4441-9a82-ad933d9e5755",
        "colab": {
          "base_uri": "https://localhost:8080/",
          "height": 100
        }
      },
      "source": [
        "#1.試撰寫一程式，要求使用者輸入五個好友的姓名、電話，以及出生年、月、日。並將它寫入名為friends.dat的檔案。\n",
        "outfile=open('friends.dat','w')\n",
        "for i in range(1,6):\n",
        "  data=input()\n",
        "  outfile.write(data)\n",
        "  outfile.write('\\n')\n",
        "\n",
        "outfile.close()"
      ],
      "execution_count": 0,
      "outputs": [
        {
          "output_type": "stream",
          "text": [
            "John 0911-231-897 87-09-10\n",
            "Mary 0919-257-333 78-10-08\n",
            "Peter 0922-999-202 81-10-11\n",
            "Nancy 0922-333-897 82-11-23\n",
            "Linda 0913-245-789 88-02-11\n"
          ],
          "name": "stdout"
        }
      ]
    },
    {
      "cell_type": "code",
      "metadata": {
        "colab_type": "code",
        "id": "oC7WafB3LIpF",
        "outputId": "477d49dc-3e44-4bb5-f9a2-69f7a0d70db2",
        "colab": {
          "base_uri": "https://localhost:8080/",
          "height": 183
        }
      },
      "source": [
        "#(張雅雯) 2.試著撰寫一程式，以不定數迴圈輸入學生的姓名、python的分數，\n",
        "#當姓名為none時，則結束輸入的動作，並將寫入各為scores.dat的檔案(至少輸入三位學生)\n",
        "outfile=open('scores.dat','w')#以寫入模式開啟檔案\n",
        "while True:#迴圈\n",
        "  name=input() #輸入姓名\n",
        "  score=input() #輸入成績\n",
        "  if name=='none':#如果名字為none 就結束\n",
        "    break\n",
        "  else: #其他\n",
        "    outfile.write(name) #內容都輸入進去\n",
        "    outfile.write(' ')\n",
        "    outfile.write(score)\n",
        "    outfile.write('\\n')#換行\n",
        "\n",
        "outfile.close()  #關閉檔案\n"
      ],
      "execution_count": 0,
      "outputs": [
        {
          "output_type": "stream",
          "text": [
            "Joe\n",
            "90\n",
            "Mary\n",
            "88\n",
            "Nancy\n",
            "88\n",
            "Jennifer\n",
            "99\n",
            "none\n",
            "11\n"
          ],
          "name": "stdout"
        }
      ]
    },
    {
      "cell_type": "code",
      "metadata": {
        "colab_type": "code",
        "id": "4b601EY2LIvu",
        "outputId": "8581a5d4-6440-40ee-f81c-d7ea5a16cb37",
        "colab": {
          "base_uri": "https://localhost:8080/",
          "height": 183
        }
      },
      "source": [
        "#3.試撰寫一程式，將習題1的friends.dat檔案開啟，檔案內容後加以印出\n",
        "infile=open('friends.dat','r') #開啟檔案\n",
        "for i in range(1,6): #迴圈\n",
        "  info=infile.readline() #readline 該方法每次讀出一行內容\n",
        "  print(info)\n",
        "infile.close() #關閉檔案"
      ],
      "execution_count": 0,
      "outputs": [
        {
          "output_type": "stream",
          "text": [
            "John 0911-231-897 87-09-10\n",
            "\n",
            "Mary 0919-257-333 78-10-08\n",
            "\n",
            "Peter 0922-999-202 81-10-11\n",
            "\n",
            "Nancy 0922-333-897 82-11-23\n",
            "\n",
            "Linda 0913-245-789 88-02-11\n",
            "\n"
          ],
          "name": "stdout"
        }
      ]
    },
    {
      "cell_type": "code",
      "metadata": {
        "colab_type": "code",
        "id": "K6AJwKg2LI3V",
        "outputId": "6bed7ddd-f413-4e48-cb64-d631788d5b10",
        "colab": {
          "base_uri": "https://localhost:8080/",
          "height": 150
        }
      },
      "source": [
        "#4.試撰寫一程式，將習題2的scores.dat檔案開啟，並讀出檔案內容加以印出\n",
        "infile=open('scores.dat','r')\n",
        "info=infile.readline()\n",
        "while info !='': #當info不等於空集合，就可以執行\n",
        "  print(info)\n",
        "  info=infile.readline()\n",
        "\n",
        "infile.close() #關閉檔案"
      ],
      "execution_count": 0,
      "outputs": [
        {
          "output_type": "stream",
          "text": [
            "Joe 90\n",
            "\n",
            "Mary 88\n",
            "\n",
            "Nancy 88\n",
            "\n",
            "Jennifer 99\n",
            "\n"
          ],
          "name": "stdout"
        }
      ]
    },
    {
      "cell_type": "code",
      "metadata": {
        "colab_type": "code",
        "id": "TDv8nu3CLI_Q",
        "outputId": "382f1904-920b-4d04-bae6-a110c9a3e6c0",
        "colab": {
          "base_uri": "https://localhost:8080/",
          "height": 33
        }
      },
      "source": [
        "#計算平均成績\n",
        "infile=open('scores.dat','r')\n",
        "count = 0 #總人數\n",
        "tot = 0 #總分\n",
        "info= infile.readline()\n",
        "while info !='':\n",
        "  lst = info.split(' ')#計算切片\n",
        "  tot += eval(lst[1]) #eval() 函数用来執行一個字符串表達式，并返回表達式的值。\n",
        "  count += 1\n",
        "  info= infile.readline()\n",
        "\n",
        "average = tot / count\n",
        "print('average score : %.2f'%(average)) #小數點去到第二位\n",
        "infile.close()"
      ],
      "execution_count": 0,
      "outputs": [
        {
          "output_type": "stream",
          "text": [
            "average score : 91.25\n"
          ],
          "name": "stdout"
        }
      ]
    },
    {
      "cell_type": "code",
      "metadata": {
        "colab_type": "code",
        "id": "zDseKJt_LJFx",
        "colab": {}
      },
      "source": [
        ""
      ],
      "execution_count": 0,
      "outputs": []
    },
    {
      "cell_type": "code",
      "metadata": {
        "colab_type": "code",
        "id": "xq0YoPGoLJMp",
        "colab": {}
      },
      "source": [
        ""
      ],
      "execution_count": 0,
      "outputs": []
    }
  ]
}