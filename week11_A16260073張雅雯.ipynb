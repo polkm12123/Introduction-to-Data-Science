{
  "nbformat": 4,
  "nbformat_minor": 0,
  "metadata": {
    "colab": {
      "name": "week11 A16260073張雅雯",
      "provenance": [],
      "collapsed_sections": []
    },
    "kernelspec": {
      "name": "python3",
      "display_name": "Python 3"
    }
  },
  "cells": [
    {
      "cell_type": "code",
      "metadata": {
        "id": "lAGmBS5r17eI",
        "colab_type": "code",
        "outputId": "4e1e4cde-82dc-42b1-ba51-51862d75c0ab",
        "colab": {
          "base_uri": "https://localhost:8080/",
          "height": 33
        }
      },
      "source": [
        "primes=[2,3,5,7,11]\n",
        "print(type(primes))                                                                                                                                                                                                                                                                                                                                                                                                                                                                                                                                                                                                                                                                                                                                                                                                                                                                                                                                                                                                                                                                                                                                                                                                                                                                                                                                                                                                                                                                                                                                                                                                                                                                                                                                                                                                                                                                                                                                                                                                                                                                                                                                                                                                                                                                                                                                                                                                                                                                                                                                                                                                                                                                                                                                                                              "
      ],
      "execution_count": 3,
      "outputs": [
        {
          "output_type": "stream",
          "text": [
            "<class 'list'>\n"
          ],
          "name": "stdout"
        }
      ]
    },
    {
      "cell_type": "code",
      "metadata": {
        "id": "_DwqrJ5w5xeK",
        "colab_type": "code",
        "outputId": "a7e03c48-1c69-4e77-f985-9d9837fb79db",
        "colab": {
          "base_uri": "https://localhost:8080/",
          "height": 33
        }
      },
      "source": [
        "primes=(2,3,5,7,11)\n",
        "print(type(primes))   "
      ],
      "execution_count": 4,
      "outputs": [
        {
          "output_type": "stream",
          "text": [
            "<class 'tuple'>\n"
          ],
          "name": "stdout"
        }
      ]
    },
    {
      "cell_type": "code",
      "metadata": {
        "id": "PPI2_i_Q5xjQ",
        "colab_type": "code",
        "outputId": "5c699085-22d7-418e-846d-7b18ded15622",
        "colab": {
          "base_uri": "https://localhost:8080/",
          "height": 83
        }
      },
      "source": [
        "print(primes[0]) #第0筆是什麼數字\n",
        "print(primes[1])\n",
        "print(primes[-1])\n",
        "print(primes[-2])"
      ],
      "execution_count": 5,
      "outputs": [
        {
          "output_type": "stream",
          "text": [
            "2\n",
            "3\n",
            "11\n",
            "7\n"
          ],
          "name": "stdout"
        }
      ]
    },
    {
      "cell_type": "code",
      "metadata": {
        "id": "8bfNNWIc5xmo",
        "colab_type": "code",
        "outputId": "d6746865-80bd-4fa0-b5d2-825e13e97abc",
        "colab": {
          "base_uri": "https://localhost:8080/",
          "height": 33
        }
      },
      "source": [
        "print(primes[::2])"
      ],
      "execution_count": 6,
      "outputs": [
        {
          "output_type": "stream",
          "text": [
            "(2, 5, 11)\n"
          ],
          "name": "stdout"
        }
      ]
    },
    {
      "cell_type": "code",
      "metadata": {
        "id": "svU1I2ys5xpA",
        "colab_type": "code",
        "outputId": "fb1b078d-a08c-4e28-cf39-6c55b2b47192",
        "colab": {
          "base_uri": "https://localhost:8080/",
          "height": 33
        }
      },
      "source": [
        "primes_list=[2,3,5,7,11]\n",
        "primes_list[-1]=13 #最後一個換13\n",
        "print(primes_list)"
      ],
      "execution_count": 7,
      "outputs": [
        {
          "output_type": "stream",
          "text": [
            "[2, 3, 5, 7, 13]\n"
          ],
          "name": "stdout"
        }
      ]
    },
    {
      "cell_type": "code",
      "metadata": {
        "id": "ffrkfBEy5xq4",
        "colab_type": "code",
        "outputId": "5e2f433a-72f3-4f63-95f0-5f938db256c8",
        "colab": {
          "base_uri": "https://localhost:8080/",
          "height": 33
        }
      },
      "source": [
        "print(len(primes_list))"
      ],
      "execution_count": 8,
      "outputs": [
        {
          "output_type": "stream",
          "text": [
            "5\n"
          ],
          "name": "stdout"
        }
      ]
    },
    {
      "cell_type": "code",
      "metadata": {
        "id": "FTBsrE7j5xtR",
        "colab_type": "code",
        "outputId": "d33a81b3-5923-4f54-883f-21243da3360b",
        "colab": {
          "base_uri": "https://localhost:8080/",
          "height": 33
        }
      },
      "source": [
        "#insert制訂新放入的地方\n",
        "primes_list.insert(-1,11) #長度更動\n",
        "print(primes_list)"
      ],
      "execution_count": 10,
      "outputs": [
        {
          "output_type": "stream",
          "text": [
            "[2, 3, 5, 7, 11, 11, 13]\n"
          ],
          "name": "stdout"
        }
      ]
    },
    {
      "cell_type": "code",
      "metadata": {
        "id": "vI1OrR105xvZ",
        "colab_type": "code",
        "outputId": "41435e48-a48a-4a84-90b9-aa773c610bc8",
        "colab": {
          "base_uri": "https://localhost:8080/",
          "height": 33
        }
      },
      "source": [
        "primes_list.pop()\n",
        "print(primes_list)"
      ],
      "execution_count": 11,
      "outputs": [
        {
          "output_type": "stream",
          "text": [
            "[2, 3, 5, 7, 11, 11]\n"
          ],
          "name": "stdout"
        }
      ]
    },
    {
      "cell_type": "code",
      "metadata": {
        "id": "N3gMgMMX5xx1",
        "colab_type": "code",
        "outputId": "9ae493a4-9f48-41dd-de78-1c906438cb21",
        "colab": {
          "base_uri": "https://localhost:8080/",
          "height": 50
        }
      },
      "source": [
        "print(primes)\n",
        "print(type(primes))"
      ],
      "execution_count": 12,
      "outputs": [
        {
          "output_type": "stream",
          "text": [
            "(2, 3, 5, 7, 11)\n",
            "<class 'tuple'>\n"
          ],
          "name": "stdout"
        }
      ]
    },
    {
      "cell_type": "code",
      "metadata": {
        "id": "ZBEw4fhM5x0A",
        "colab_type": "code",
        "outputId": "a49931b8-612f-40be-8ca8-bfc120092741",
        "colab": {
          "base_uri": "https://localhost:8080/",
          "height": 162
        }
      },
      "source": [
        "primes[-1]=13"
      ],
      "execution_count": 13,
      "outputs": [
        {
          "output_type": "error",
          "ename": "TypeError",
          "evalue": "ignored",
          "traceback": [
            "\u001b[0;31m---------------------------------------------------------------------------\u001b[0m",
            "\u001b[0;31mTypeError\u001b[0m                                 Traceback (most recent call last)",
            "\u001b[0;32m<ipython-input-13-8456c60edb77>\u001b[0m in \u001b[0;36m<module>\u001b[0;34m()\u001b[0m\n\u001b[0;32m----> 1\u001b[0;31m \u001b[0mprimes\u001b[0m\u001b[0;34m[\u001b[0m\u001b[0;34m-\u001b[0m\u001b[0;36m1\u001b[0m\u001b[0;34m]\u001b[0m\u001b[0;34m=\u001b[0m\u001b[0;36m13\u001b[0m\u001b[0;34m\u001b[0m\u001b[0;34m\u001b[0m\u001b[0m\n\u001b[0m",
            "\u001b[0;31mTypeError\u001b[0m: 'tuple' object does not support item assignment"
          ]
        }
      ]
    },
    {
      "cell_type": "code",
      "metadata": {
        "id": "eC-WyDsG7apD",
        "colab_type": "code",
        "outputId": "6217b443-4746-49da-b5c7-09299507dd04",
        "colab": {
          "base_uri": "https://localhost:8080/",
          "height": 162
        }
      },
      "source": [
        "primes.append(13) #無append"
      ],
      "execution_count": 14,
      "outputs": [
        {
          "output_type": "error",
          "ename": "AttributeError",
          "evalue": "ignored",
          "traceback": [
            "\u001b[0;31m---------------------------------------------------------------------------\u001b[0m",
            "\u001b[0;31mAttributeError\u001b[0m                            Traceback (most recent call last)",
            "\u001b[0;32m<ipython-input-14-7f9599b5bef4>\u001b[0m in \u001b[0;36m<module>\u001b[0;34m()\u001b[0m\n\u001b[0;32m----> 1\u001b[0;31m \u001b[0mprimes\u001b[0m\u001b[0;34m.\u001b[0m\u001b[0mappend\u001b[0m\u001b[0;34m(\u001b[0m\u001b[0;36m13\u001b[0m\u001b[0;34m)\u001b[0m \u001b[0;31m#無append\u001b[0m\u001b[0;34m\u001b[0m\u001b[0;34m\u001b[0m\u001b[0m\n\u001b[0m",
            "\u001b[0;31mAttributeError\u001b[0m: 'tuple' object has no attribute 'append'"
          ]
        }
      ]
    },
    {
      "cell_type": "code",
      "metadata": {
        "id": "jdYDhlR97aun",
        "colab_type": "code",
        "outputId": "6b2ffed9-4f23-41b6-efc8-7c189d723d4d",
        "colab": {
          "base_uri": "https://localhost:8080/",
          "height": 67
        }
      },
      "source": [
        "x= 0.25\n",
        "print(type(x))\n",
        "print(x.as_integer_ratio())#1是分子，4是分母\n",
        "print (type(x.as_integer_ratio()))"
      ],
      "execution_count": 15,
      "outputs": [
        {
          "output_type": "stream",
          "text": [
            "<class 'float'>\n",
            "(1, 4)\n",
            "<class 'tuple'>\n"
          ],
          "name": "stdout"
        }
      ]
    },
    {
      "cell_type": "code",
      "metadata": {
        "id": "mDf203T87azf",
        "colab_type": "code",
        "outputId": "05f33a8b-dd7e-4d4f-c6d0-760c419fd9b8",
        "colab": {
          "base_uri": "https://localhost:8080/",
          "height": 50
        }
      },
      "source": [
        "def where_are_you_from(city,country):\n",
        "  return city,country\n",
        "\n",
        "print(where_are_you_from(\"Taipei\",\"Taiwan\"))\n",
        "print(type(where_are_you_from(\"Taipei\",\"Taiwan\")))"
      ],
      "execution_count": 16,
      "outputs": [
        {
          "output_type": "stream",
          "text": [
            "('Taipei', 'Taiwan')\n",
            "<class 'tuple'>\n"
          ],
          "name": "stdout"
        }
      ]
    },
    {
      "cell_type": "code",
      "metadata": {
        "id": "cgX3JoAz7a4P",
        "colab_type": "code",
        "colab": {
          "base_uri": "https://localhost:8080/",
          "height": 50
        },
        "outputId": "a740d360-23a8-48ef-8cca-79f834ce6d36"
      },
      "source": [
        "my_city,my_country=where_are_you_from(\"Taipei\",\"Taiwan\")\n",
        "print(my_city)\n",
        "print(my_country)"
      ],
      "execution_count": 18,
      "outputs": [
        {
          "output_type": "stream",
          "text": [
            "Taipei\n",
            "Taiwan\n"
          ],
          "name": "stdout"
        }
      ]
    },
    {
      "cell_type": "code",
      "metadata": {
        "id": "LCsEG14h7a9f",
        "colab_type": "code",
        "colab": {
          "base_uri": "https://localhost:8080/",
          "height": 50
        },
        "outputId": "1b1137b0-263b-42af-a62c-e93b43fd1925"
      },
      "source": [
        "numerator , denominator=x.as_integer_ratio()\n",
        "print(numerator)\n",
        "print(denominator)"
      ],
      "execution_count": 19,
      "outputs": [
        {
          "output_type": "stream",
          "text": [
            "1\n",
            "4\n"
          ],
          "name": "stdout"
        }
      ]
    },
    {
      "cell_type": "code",
      "metadata": {
        "id": "zKkphUFY7bCw",
        "colab_type": "code",
        "outputId": "19dc13a9-5fe4-4728-98df-bbf51dec01bf",
        "colab": {
          "base_uri": "https://localhost:8080/",
          "height": 50
        }
      },
      "source": [
        "the_avengers = {\n",
        "    \"Iron Man\": \"Tony Stark\",\n",
        "    \"Captain America\": \"Steve Rogers\",\n",
        "    \"Hulk\": \"Bruce Banner\",\n",
        "    \"Thor\": \"Thor\",\n",
        "    \"Black Widow\": \"Natasha Romanoff\",\n",
        "    \"Hawkeye\": \"Clint Barton\"\n",
        "}\n",
        "print(the_avengers)\n",
        "print(type(the_avengers))"
      ],
      "execution_count": 20,
      "outputs": [
        {
          "output_type": "stream",
          "text": [
            "{'Iron Man': 'Tony Stark', 'Captain America': 'Steve Rogers', 'Hulk': 'Bruce Banner', 'Thor': 'Thor', 'Black Widow': 'Natasha Romanoff', 'Hawkeye': 'Clint Barton'}\n",
            "<class 'dict'>\n"
          ],
          "name": "stdout"
        }
      ]
    },
    {
      "cell_type": "code",
      "metadata": {
        "id": "rfTqxKPb7bIA",
        "colab_type": "code",
        "colab": {}
      },
      "source": [
        "#獲取 dict 的標籤與資料\n",
        "#keys()：取得標籤\n",
        "#values()：取得資料\n",
        "#items()：同時取得標籤和資料"
      ],
      "execution_count": 0,
      "outputs": []
    },
    {
      "cell_type": "code",
      "metadata": {
        "id": "orRCrBQX5x24",
        "colab_type": "code",
        "outputId": "e34ebdb1-1cee-4ca2-d7af-66bbfb01ad60",
        "colab": {
          "base_uri": "https://localhost:8080/",
          "height": 33
        }
      },
      "source": [
        "print(the_avengers.keys())"
      ],
      "execution_count": 24,
      "outputs": [
        {
          "output_type": "stream",
          "text": [
            "dict_keys(['Iron Man', 'Captain America', 'Hulk', 'Thor', 'Black Widow', 'Hawkeye'])\n"
          ],
          "name": "stdout"
        }
      ]
    },
    {
      "cell_type": "code",
      "metadata": {
        "id": "F0rDPnS5AVQd",
        "colab_type": "code",
        "outputId": "deedf1d7-27ec-4bb1-8ff7-cf7a5e7975f8",
        "colab": {
          "base_uri": "https://localhost:8080/",
          "height": 33
        }
      },
      "source": [
        "print(the_avengers.values())"
      ],
      "execution_count": 25,
      "outputs": [
        {
          "output_type": "stream",
          "text": [
            "dict_values(['Tony Stark', 'Steve Rogers', 'Bruce Banner', 'Thor', 'Natasha Romanoff', 'Clint Barton'])\n"
          ],
          "name": "stdout"
        }
      ]
    },
    {
      "cell_type": "code",
      "metadata": {
        "id": "p_zxsuycAVTT",
        "colab_type": "code",
        "outputId": "ac773795-979f-4b20-c0f4-55213b44d6a6",
        "colab": {
          "base_uri": "https://localhost:8080/",
          "height": 33
        }
      },
      "source": [
        "print(the_avengers.items())"
      ],
      "execution_count": 26,
      "outputs": [
        {
          "output_type": "stream",
          "text": [
            "dict_items([('Iron Man', 'Tony Stark'), ('Captain America', 'Steve Rogers'), ('Hulk', 'Bruce Banner'), ('Thor', 'Thor'), ('Black Widow', 'Natasha Romanoff'), ('Hawkeye', 'Clint Barton')])\n"
          ],
          "name": "stdout"
        }
      ]
    },
    {
      "cell_type": "code",
      "metadata": {
        "id": "qUeR5zhdAVWC",
        "colab_type": "code",
        "outputId": "30ff1e5f-f5d3-4b28-8776-04b24a474853",
        "colab": {
          "base_uri": "https://localhost:8080/",
          "height": 117
        }
      },
      "source": [
        "print(the_avengers[\"Iron Man\"])\n",
        "print(the_avengers[\"Captain America\"])\n",
        "print(the_avengers[\"Hulk\"])\n",
        "print(the_avengers[\"Thor\"])\n",
        "print(the_avengers[\"Black Widow\"])\n",
        "print(the_avengers[\"Hawkeye\"])"
      ],
      "execution_count": 27,
      "outputs": [
        {
          "output_type": "stream",
          "text": [
            "Tony Stark\n",
            "Steve Rogers\n",
            "Bruce Banner\n",
            "Thor\n",
            "Natasha Romanoff\n",
            "Clint Barton\n"
          ],
          "name": "stdout"
        }
      ]
    },
    {
      "cell_type": "code",
      "metadata": {
        "id": "o7ZWvcJaA2nL",
        "colab_type": "code",
        "outputId": "65978b82-67ec-4041-c66a-bd7a9fb8a9fd",
        "colab": {
          "base_uri": "https://localhost:8080/",
          "height": 67
        }
      },
      "source": [
        "living_area=input(\"請輸入您的居住縣市:\")\n",
        "print(living_area)\n",
        "print(\"{}每人每月最低生活費為{:,}\".format(living_area,17005))"
      ],
      "execution_count": 28,
      "outputs": [
        {
          "output_type": "stream",
          "text": [
            "請輸入您的居住縣市:台北市\n",
            "台北市\n",
            "台北市每人每月最低生活費為17,005\n"
          ],
          "name": "stdout"
        }
      ]
    },
    {
      "cell_type": "code",
      "metadata": {
        "id": "R1L7DRabA2rC",
        "colab_type": "code",
        "outputId": "a48e9372-e7d3-464d-8c57-8ad4b3cac9ff",
        "colab": {
          "base_uri": "https://localhost:8080/",
          "height": 67
        }
      },
      "source": [
        "living_area=input(\"請輸入您的居住縣市:\")\n",
        "living_cost=None\n",
        "if living_area==\"臺北市\":\n",
        "  living_cost=17005\n",
        "elif living_area==\"新北市\":\n",
        "  living_cost=15500\n",
        "elif living_area==\"桃園市\":\n",
        "  living_cost=15281\n",
        "elif living_area==\"台中市\":\n",
        "  living_cost=14596\n",
        "elif living_area==\"台南市\":\n",
        "  living_cost=12388\n",
        "elif living_area==\"高雄市\":\n",
        "  living_cost=13099\n",
        "elif living_area==\"非六都之縣市\":\n",
        "  living_cost=12388\n",
        "elif living_area==\"金門縣連江縣\":\n",
        "  living_cost=11648\n",
        "if living_cost is None:\n",
        "  print(\"請輸入居住縣市\")\n",
        "else:\n",
        "  print(\"請重新輸入居住城市，每人每月最低生活費為{}\".format(living_cost))\n",
        "print(\"{}每人每月最低生活費為{:,}\".format(living_area,17005))"
      ],
      "execution_count": 29,
      "outputs": [
        {
          "output_type": "stream",
          "text": [
            "請輸入您的居住縣市:臺北市\n",
            "請重新輸入居住城市，每人每月最低生活費為17005\n",
            "臺北市每人每月最低生活費為17,005\n"
          ],
          "name": "stdout"
        }
      ]
    },
    {
      "cell_type": "code",
      "metadata": {
        "id": "GCIegNK-A2ur",
        "colab_type": "code",
        "outputId": "31734da2-488a-4506-fadf-2ea71dd7d229",
        "colab": {
          "base_uri": "https://localhost:8080/",
          "height": 50
        }
      },
      "source": [
        "living_cost_dict= {\n",
        "    \"臺北市\":17005,\n",
        "    \"新北市\":15500,\n",
        "    \"桃園市\":15281,\n",
        "    \"台中市\":14596,\n",
        "    \"台南市\":12388,\n",
        "    \"高雄市\":13009,\n",
        "    \"非六都之縣市\":12388,\n",
        "    \"金門縣連江縣\":11648\n",
        "}\n",
        "living_area=input(\"請輸入你的居住城市:\")\n",
        "try:\n",
        "  living_cost=living_cost_dict[living_area]\n",
        "  print(\"{}每人每月最低生活費為{:,}\".format(living_area,living_cost))\n",
        "except KeyError:\n",
        "   print(\"請輸入居住縣市\")"
      ],
      "execution_count": 30,
      "outputs": [
        {
          "output_type": "stream",
          "text": [
            "請輸入你的居住城市:臺北市\n",
            "臺北市每人每月最低生活費為17,005\n"
          ],
          "name": "stdout"
        }
      ]
    },
    {
      "cell_type": "code",
      "metadata": {
        "id": "2Q7p-1tyA2xq",
        "colab_type": "code",
        "outputId": "60a53d6d-a54a-4ab5-85e6-c5e0adf4adc6",
        "colab": {
          "base_uri": "https://localhost:8080/",
          "height": 33
        }
      },
      "source": [
        "#@title 哈哈\n",
        "living_area = '\\u81FA\\u5317\\u5E02' #@param ['臺北市', '新北市', '桃園市', '臺中市', '臺南市', '高雄市', '非六都之縣市', '金門縣連江縣']\n",
        "living_cost = living_cost_dict[living_area]\n",
        "print(\"{}的每人每月最低生活費為{:,}\".format(living_area, living_cost))"
      ],
      "execution_count": 31,
      "outputs": [
        {
          "output_type": "stream",
          "text": [
            "臺北市的每人每月最低生活費為17,005\n"
          ],
          "name": "stdout"
        }
      ]
    },
    {
      "cell_type": "code",
      "metadata": {
        "id": "l-fE9DO8A206",
        "colab_type": "code",
        "outputId": "d3c0b683-e6de-4a5c-dda6-dc7a424c7b90",
        "colab": {
          "base_uri": "https://localhost:8080/",
          "height": 33
        }
      },
      "source": [
        "primes=(2,3,5,7,11,13,13,11,11,11,2,2,2)\n",
        "print(primes)"
      ],
      "execution_count": 32,
      "outputs": [
        {
          "output_type": "stream",
          "text": [
            "(2, 3, 5, 7, 11, 13, 13, 11, 11, 11, 2, 2, 2)\n"
          ],
          "name": "stdout"
        }
      ]
    },
    {
      "cell_type": "code",
      "metadata": {
        "id": "NsVvFP82YEzy",
        "colab_type": "code",
        "colab": {
          "base_uri": "https://localhost:8080/",
          "height": 33
        },
        "outputId": "4527a30c-e1b3-4fdd-ae13-94982bb3e6c7"
      },
      "source": [
        "primes_list = [2, 3, 3, 3, 5, 5]\n",
        "print(primes_list)"
      ],
      "execution_count": 33,
      "outputs": [
        {
          "output_type": "stream",
          "text": [
            "[2, 3, 3, 3, 5, 5]\n"
          ],
          "name": "stdout"
        }
      ]
    },
    {
      "cell_type": "code",
      "metadata": {
        "id": "qvrMyxX-io-d",
        "colab_type": "code",
        "colab": {
          "base_uri": "https://localhost:8080/",
          "height": 33
        },
        "outputId": "f7fa1ce3-fe03-4e94-caa7-edaa5b36ee10"
      },
      "source": [
        "set(primes_list)"
      ],
      "execution_count": 35,
      "outputs": [
        {
          "output_type": "execute_result",
          "data": {
            "text/plain": [
              "{2, 3, 5}"
            ]
          },
          "metadata": {
            "tags": []
          },
          "execution_count": 35
        }
      ]
    },
    {
      "cell_type": "code",
      "metadata": {
        "id": "gBndWpjGiqKF",
        "colab_type": "code",
        "colab": {
          "base_uri": "https://localhost:8080/",
          "height": 33
        },
        "outputId": "0653a05a-74aa-43ba-e876-d566059320e8"
      },
      "source": [
        "primes = {2, 3, 5, 7, 11, 13, 13, 13, 11, 11, 11, 11, 2, 2, 2}\n",
        "print(primes)"
      ],
      "execution_count": 36,
      "outputs": [
        {
          "output_type": "stream",
          "text": [
            "{2, 3, 5, 7, 11, 13}\n"
          ],
          "name": "stdout"
        }
      ]
    },
    {
      "cell_type": "code",
      "metadata": {
        "id": "-YcA81t7A24E",
        "colab_type": "code",
        "colab": {
          "base_uri": "https://localhost:8080/",
          "height": 50
        },
        "outputId": "56b2cd2a-ac65-4bbe-bfd9-1a7c5845adb9"
      },
      "source": [
        "primes={2,3,5,7,11,13}\n",
        "odds={1,3,5,7,9,11,13}\n",
        "print(type(primes))\n",
        "print(type(odds))"
      ],
      "execution_count": 37,
      "outputs": [
        {
          "output_type": "stream",
          "text": [
            "<class 'set'>\n",
            "<class 'set'>\n"
          ],
          "name": "stdout"
        }
      ]
    },
    {
      "cell_type": "code",
      "metadata": {
        "id": "peTQ4j5KA277",
        "colab_type": "code",
        "colab": {
          "base_uri": "https://localhost:8080/",
          "height": 33
        },
        "outputId": "8c9b4e54-f3ea-494e-ed15-e7e20e39dfa0"
      },
      "source": [
        "#交集\n",
        "primes&odds"
      ],
      "execution_count": 38,
      "outputs": [
        {
          "output_type": "execute_result",
          "data": {
            "text/plain": [
              "{3, 5, 7, 11, 13}"
            ]
          },
          "metadata": {
            "tags": []
          },
          "execution_count": 38
        }
      ]
    },
    {
      "cell_type": "code",
      "metadata": {
        "id": "Aa2UdFCCAVY-",
        "colab_type": "code",
        "colab": {
          "base_uri": "https://localhost:8080/",
          "height": 33
        },
        "outputId": "f2825b68-0129-4b87-89db-8169d7eae1b2"
      },
      "source": [
        "# .intersection\n",
        "primes.intersection(odds)"
      ],
      "execution_count": 40,
      "outputs": [
        {
          "output_type": "execute_result",
          "data": {
            "text/plain": [
              "{3, 5, 7, 11, 13}"
            ]
          },
          "metadata": {
            "tags": []
          },
          "execution_count": 40
        }
      ]
    },
    {
      "cell_type": "code",
      "metadata": {
        "id": "heAoGpQVjIlf",
        "colab_type": "code",
        "colab": {
          "base_uri": "https://localhost:8080/",
          "height": 33
        },
        "outputId": "5ea83472-0d14-46da-801c-677c2e94e396"
      },
      "source": [
        "# 聯集\n",
        "primes | odds"
      ],
      "execution_count": 41,
      "outputs": [
        {
          "output_type": "execute_result",
          "data": {
            "text/plain": [
              "{1, 2, 3, 5, 7, 9, 11, 13}"
            ]
          },
          "metadata": {
            "tags": []
          },
          "execution_count": 41
        }
      ]
    },
    {
      "cell_type": "code",
      "metadata": {
        "id": "qjGR3bFMAVb9",
        "colab_type": "code",
        "colab": {
          "base_uri": "https://localhost:8080/",
          "height": 33
        },
        "outputId": "934c39b7-1444-46ee-c871-a566f6b1c6d5"
      },
      "source": [
        "#.union\n",
        "primes.union(odds)"
      ],
      "execution_count": 42,
      "outputs": [
        {
          "output_type": "execute_result",
          "data": {
            "text/plain": [
              "{1, 2, 3, 5, 7, 9, 11, 13}"
            ]
          },
          "metadata": {
            "tags": []
          },
          "execution_count": 42
        }
      ]
    },
    {
      "cell_type": "code",
      "metadata": {
        "id": "_6PMMxhBAVhb",
        "colab_type": "code",
        "colab": {
          "base_uri": "https://localhost:8080/",
          "height": 50
        },
        "outputId": "656bf410-02d3-47f9-d1b6-6f8b1e4dbd69"
      },
      "source": [
        "#差異\n",
        "print(primes - odds)\n",
        "print(odds - primes)"
      ],
      "execution_count": 45,
      "outputs": [
        {
          "output_type": "stream",
          "text": [
            "{2}\n",
            "{1, 9}\n"
          ],
          "name": "stdout"
        }
      ]
    },
    {
      "cell_type": "code",
      "metadata": {
        "id": "LKfcxEeaAVkv",
        "colab_type": "code",
        "colab": {
          "base_uri": "https://localhost:8080/",
          "height": 50
        },
        "outputId": "693b669e-27e2-4aff-c567-1224f3675d71"
      },
      "source": [
        "#.difference\n",
        "print(primes.difference(odds))\n",
        "print(odds.difference(primes))"
      ],
      "execution_count": 47,
      "outputs": [
        {
          "output_type": "stream",
          "text": [
            "{2}\n",
            "{1, 9}\n"
          ],
          "name": "stdout"
        }
      ]
    },
    {
      "cell_type": "code",
      "metadata": {
        "id": "dd9dFlVr5x6w",
        "colab_type": "code",
        "colab": {
          "base_uri": "https://localhost:8080/",
          "height": 33
        },
        "outputId": "0c236ac1-7acd-4847-c6ec-735a25c0fdb8"
      },
      "source": [
        "(primes - odds) | (odds - primes)"
      ],
      "execution_count": 50,
      "outputs": [
        {
          "output_type": "execute_result",
          "data": {
            "text/plain": [
              "{1, 2, 9}"
            ]
          },
          "metadata": {
            "tags": []
          },
          "execution_count": 50
        }
      ]
    },
    {
      "cell_type": "code",
      "metadata": {
        "id": "cRBSUBo4YwEo",
        "colab_type": "code",
        "colab": {
          "base_uri": "https://localhost:8080/",
          "height": 33
        },
        "outputId": "4610d0c3-3f10-4b39-9243-e95f10fb9807"
      },
      "source": [
        "#對稱差異\n",
        "primes^odds"
      ],
      "execution_count": 51,
      "outputs": [
        {
          "output_type": "execute_result",
          "data": {
            "text/plain": [
              "{1, 2, 9}"
            ]
          },
          "metadata": {
            "tags": []
          },
          "execution_count": 51
        }
      ]
    },
    {
      "cell_type": "code",
      "metadata": {
        "id": "0cWPdiyVYwH-",
        "colab_type": "code",
        "colab": {
          "base_uri": "https://localhost:8080/",
          "height": 33
        },
        "outputId": "34025f40-1427-4842-830b-4732e5fbb147"
      },
      "source": [
        "#.symmetric_difference\n",
        "print(primes.symmetric_difference(odds))"
      ],
      "execution_count": 52,
      "outputs": [
        {
          "output_type": "stream",
          "text": [
            "{1, 2, 9}\n"
          ],
          "name": "stdout"
        }
      ]
    },
    {
      "cell_type": "code",
      "metadata": {
        "id": "aCHQwMRvZWxk",
        "colab_type": "code",
        "colab": {
          "base_uri": "https://localhost:8080/",
          "height": 183
        },
        "outputId": "21431b2d-875c-476f-db71-df62dcfb37fd"
      },
      "source": [
        "help(iter)\n"
      ],
      "execution_count": 55,
      "outputs": [
        {
          "output_type": "stream",
          "text": [
            "Help on built-in function iter in module builtins:\n",
            "\n",
            "iter(...)\n",
            "    iter(iterable) -> iterator\n",
            "    iter(callable, sentinel) -> iterator\n",
            "    \n",
            "    Get an iterator from an object.  In the first form, the argument must\n",
            "    supply its own iterator, or be a sequence.\n",
            "    In the second form, the callable is called until it returns the sentinel.\n",
            "\n"
          ],
          "name": "stdout"
        }
      ]
    },
    {
      "cell_type": "code",
      "metadata": {
        "id": "ZTMzvTabZWpw",
        "colab_type": "code",
        "colab": {
          "base_uri": "https://localhost:8080/",
          "height": 33
        },
        "outputId": "b745cdf7-0b3d-46b0-fed8-37345fc81506"
      },
      "source": [
        "I=iter(primes)\n",
        "next (I)"
      ],
      "execution_count": 53,
      "outputs": [
        {
          "output_type": "execute_result",
          "data": {
            "text/plain": [
              "2"
            ]
          },
          "metadata": {
            "tags": []
          },
          "execution_count": 53
        }
      ]
    },
    {
      "cell_type": "code",
      "metadata": {
        "id": "fXQH6lSwZWtc",
        "colab_type": "code",
        "colab": {
          "base_uri": "https://localhost:8080/",
          "height": 33
        },
        "outputId": "f104d08b-7c82-40dd-fbed-52eb59a488a6"
      },
      "source": [
        "next(I)"
      ],
      "execution_count": 54,
      "outputs": [
        {
          "output_type": "execute_result",
          "data": {
            "text/plain": [
              "3"
            ]
          },
          "metadata": {
            "tags": []
          },
          "execution_count": 54
        }
      ]
    },
    {
      "cell_type": "code",
      "metadata": {
        "id": "wcsEZBYAj1CM",
        "colab_type": "code",
        "colab": {
          "base_uri": "https://localhost:8080/",
          "height": 33
        },
        "outputId": "23582101-4aef-4e5c-9cce-fca22f5283c3"
      },
      "source": [
        "next(I)"
      ],
      "execution_count": 56,
      "outputs": [
        {
          "output_type": "execute_result",
          "data": {
            "text/plain": [
              "5"
            ]
          },
          "metadata": {
            "tags": []
          },
          "execution_count": 56
        }
      ]
    },
    {
      "cell_type": "code",
      "metadata": {
        "id": "OxSdDUGWj2mT",
        "colab_type": "code",
        "colab": {
          "base_uri": "https://localhost:8080/",
          "height": 33
        },
        "outputId": "44a9bf81-99fc-4638-a1f9-fdffce03b19d"
      },
      "source": [
        "next(I)"
      ],
      "execution_count": 57,
      "outputs": [
        {
          "output_type": "execute_result",
          "data": {
            "text/plain": [
              "7"
            ]
          },
          "metadata": {
            "tags": []
          },
          "execution_count": 57
        }
      ]
    },
    {
      "cell_type": "code",
      "metadata": {
        "id": "XbaYE2otj5mg",
        "colab_type": "code",
        "colab": {
          "base_uri": "https://localhost:8080/",
          "height": 33
        },
        "outputId": "d8dad9f7-d383-4823-bef8-4f644c39fa0e"
      },
      "source": [
        "next(I)\n",
        "next(I)"
      ],
      "execution_count": 58,
      "outputs": [
        {
          "output_type": "execute_result",
          "data": {
            "text/plain": [
              "13"
            ]
          },
          "metadata": {
            "tags": []
          },
          "execution_count": 58
        }
      ]
    },
    {
      "cell_type": "code",
      "metadata": {
        "id": "MO0DOAozj6hs",
        "colab_type": "code",
        "colab": {
          "base_uri": "https://localhost:8080/",
          "height": 162
        },
        "outputId": "f12ebfe9-1f01-493c-ceea-3e392ff09144"
      },
      "source": [
        "next(I)"
      ],
      "execution_count": 59,
      "outputs": [
        {
          "output_type": "error",
          "ename": "StopIteration",
          "evalue": "ignored",
          "traceback": [
            "\u001b[0;31m---------------------------------------------------------------------------\u001b[0m",
            "\u001b[0;31mStopIteration\u001b[0m                             Traceback (most recent call last)",
            "\u001b[0;32m<ipython-input-59-ebc5a6f5e444>\u001b[0m in \u001b[0;36m<module>\u001b[0;34m()\u001b[0m\n\u001b[0;32m----> 1\u001b[0;31m \u001b[0mnext\u001b[0m\u001b[0;34m(\u001b[0m\u001b[0mI\u001b[0m\u001b[0;34m)\u001b[0m\u001b[0;34m\u001b[0m\u001b[0;34m\u001b[0m\u001b[0m\n\u001b[0m",
            "\u001b[0;31mStopIteration\u001b[0m: "
          ]
        }
      ]
    },
    {
      "cell_type": "code",
      "metadata": {
        "id": "o1_VXKBEj9uf",
        "colab_type": "code",
        "colab": {
          "base_uri": "https://localhost:8080/",
          "height": 162
        },
        "outputId": "3f310679-1b86-4de0-b19e-a128b1f98080"
      },
      "source": [
        "primes[0]"
      ],
      "execution_count": 60,
      "outputs": [
        {
          "output_type": "error",
          "ename": "TypeError",
          "evalue": "ignored",
          "traceback": [
            "\u001b[0;31m---------------------------------------------------------------------------\u001b[0m",
            "\u001b[0;31mTypeError\u001b[0m                                 Traceback (most recent call last)",
            "\u001b[0;32m<ipython-input-60-8c51614e1a2d>\u001b[0m in \u001b[0;36m<module>\u001b[0;34m()\u001b[0m\n\u001b[0;32m----> 1\u001b[0;31m \u001b[0mprimes\u001b[0m\u001b[0;34m[\u001b[0m\u001b[0;36m0\u001b[0m\u001b[0;34m]\u001b[0m\u001b[0;34m\u001b[0m\u001b[0;34m\u001b[0m\u001b[0m\n\u001b[0m",
            "\u001b[0;31mTypeError\u001b[0m: 'set' object does not support indexing"
          ]
        }
      ]
    },
    {
      "cell_type": "code",
      "metadata": {
        "id": "tyQnXXX6j9kZ",
        "colab_type": "code",
        "colab": {
          "base_uri": "https://localhost:8080/",
          "height": 33
        },
        "outputId": "c121f3e3-a2b3-43d8-8876-9485c2f81fa3"
      },
      "source": [
        "import requests\n",
        "\n",
        "today_json = requests.get(\"https://data.nba.net/10s/prod/v1/today.json\").json()\n",
        "print(type(today_json))"
      ],
      "execution_count": 61,
      "outputs": [
        {
          "output_type": "stream",
          "text": [
            "<class 'dict'>\n"
          ],
          "name": "stdout"
        }
      ]
    },
    {
      "cell_type": "code",
      "metadata": {
        "id": "CE5_rfQ1ZW1t",
        "colab_type": "code",
        "colab": {
          "base_uri": "https://localhost:8080/",
          "height": 33
        },
        "outputId": "695ae06d-9d7c-4580-ebb3-b8ee43a331ca"
      },
      "source": [
        "today_json.keys()"
      ],
      "execution_count": 62,
      "outputs": [
        {
          "output_type": "execute_result",
          "data": {
            "text/plain": [
              "dict_keys(['_internal', 'teamSitesOnly', 'seasonScheduleYear', 'showPlayoffsClinch', 'links'])"
            ]
          },
          "metadata": {
            "tags": []
          },
          "execution_count": 62
        }
      ]
    },
    {
      "cell_type": "code",
      "metadata": {
        "id": "JjBuMdY3ZW6V",
        "colab_type": "code",
        "colab": {
          "base_uri": "https://localhost:8080/",
          "height": 33
        },
        "outputId": "48508d03-7915-46fe-b437-f30109cdc75e"
      },
      "source": [
        "print(type(today_json['links']))"
      ],
      "execution_count": 63,
      "outputs": [
        {
          "output_type": "stream",
          "text": [
            "<class 'dict'>\n"
          ],
          "name": "stdout"
        }
      ]
    },
    {
      "cell_type": "code",
      "metadata": {
        "id": "QwH_euhAZW-L",
        "colab_type": "code",
        "colab": {
          "base_uri": "https://localhost:8080/",
          "height": 33
        },
        "outputId": "f11fab5a-43fc-4407-89e9-bdeb7d2152d4"
      },
      "source": [
        "today_json['links']['leagueRosterPlayers']"
      ],
      "execution_count": 64,
      "outputs": [
        {
          "output_type": "execute_result",
          "data": {
            "text/plain": [
              "'/prod/v1/2019/players.json'"
            ]
          },
          "metadata": {
            "tags": []
          },
          "execution_count": 64
        }
      ]
    },
    {
      "cell_type": "code",
      "metadata": {
        "id": "6aIjG0BfZXB_",
        "colab_type": "code",
        "colab": {
          "base_uri": "https://localhost:8080/",
          "height": 33
        },
        "outputId": "3471f7ff-939c-4018-830f-48d1b7af1e19"
      },
      "source": [
        "primes_list = [2, 3, 5, 7, 11]\n",
        "I = iter(primes_list)\n",
        "next(I)"
      ],
      "execution_count": 65,
      "outputs": [
        {
          "output_type": "execute_result",
          "data": {
            "text/plain": [
              "2"
            ]
          },
          "metadata": {
            "tags": []
          },
          "execution_count": 65
        }
      ]
    },
    {
      "cell_type": "code",
      "metadata": {
        "id": "oGanVY1-ZXFr",
        "colab_type": "code",
        "colab": {
          "base_uri": "https://localhost:8080/",
          "height": 33
        },
        "outputId": "ce580558-604a-4b55-9d61-f612a750cd67"
      },
      "source": [
        "primes_tuple = (2, 3, 5, 7, 11)\n",
        "I = iter(primes_tuple)\n",
        "next(I)"
      ],
      "execution_count": 66,
      "outputs": [
        {
          "output_type": "execute_result",
          "data": {
            "text/plain": [
              "2"
            ]
          },
          "metadata": {
            "tags": []
          },
          "execution_count": 66
        }
      ]
    },
    {
      "cell_type": "code",
      "metadata": {
        "id": "BEkWYfu_ZXJT",
        "colab_type": "code",
        "colab": {
          "base_uri": "https://localhost:8080/",
          "height": 33
        },
        "outputId": "b9e0e3e1-594f-4b83-c0b6-e335fbd81774"
      },
      "source": [
        "I = iter(living_cost_dict.keys())\n",
        "next(I)"
      ],
      "execution_count": 67,
      "outputs": [
        {
          "output_type": "execute_result",
          "data": {
            "text/plain": [
              "'臺北市'"
            ]
          },
          "metadata": {
            "tags": []
          },
          "execution_count": 67
        }
      ]
    },
    {
      "cell_type": "code",
      "metadata": {
        "id": "APhAU5_-ZXNC",
        "colab_type": "code",
        "colab": {
          "base_uri": "https://localhost:8080/",
          "height": 33
        },
        "outputId": "9c046ef1-7d82-4f3b-945f-bbfc0b0a5d5d"
      },
      "source": [
        "I = iter(living_cost_dict.values())\n",
        "next(I)"
      ],
      "execution_count": 68,
      "outputs": [
        {
          "output_type": "execute_result",
          "data": {
            "text/plain": [
              "17005"
            ]
          },
          "metadata": {
            "tags": []
          },
          "execution_count": 68
        }
      ]
    },
    {
      "cell_type": "code",
      "metadata": {
        "id": "FNxfM2iSZXRF",
        "colab_type": "code",
        "colab": {
          "base_uri": "https://localhost:8080/",
          "height": 33
        },
        "outputId": "ad95b77a-7fb3-4d03-d49d-372d0ec12fad"
      },
      "source": [
        "I = iter(living_cost_dict.items())\n",
        "next(I)"
      ],
      "execution_count": 69,
      "outputs": [
        {
          "output_type": "execute_result",
          "data": {
            "text/plain": [
              "('臺北市', 17005)"
            ]
          },
          "metadata": {
            "tags": []
          },
          "execution_count": 69
        }
      ]
    },
    {
      "cell_type": "code",
      "metadata": {
        "id": "Z_k-KrwZZXUz",
        "colab_type": "code",
        "colab": {
          "base_uri": "https://localhost:8080/",
          "height": 33
        },
        "outputId": "3c146dcd-da9f-4999-e31e-d0c0151ea95c"
      },
      "source": [
        "may4th = \"Luke, use the Force!\"\n",
        "I = iter(may4th)\n",
        "next(I)\n"
      ],
      "execution_count": 70,
      "outputs": [
        {
          "output_type": "execute_result",
          "data": {
            "text/plain": [
              "'L'"
            ]
          },
          "metadata": {
            "tags": []
          },
          "execution_count": 70
        }
      ]
    },
    {
      "cell_type": "code",
      "metadata": {
        "id": "zi-1vXsQZXY8",
        "colab_type": "code",
        "colab": {
          "base_uri": "https://localhost:8080/",
          "height": 162
        },
        "outputId": "1647a4f9-d8da-4d26-f6e1-85912c99cf4f"
      },
      "source": [
        "I = iter(5566)"
      ],
      "execution_count": 71,
      "outputs": [
        {
          "output_type": "error",
          "ename": "TypeError",
          "evalue": "ignored",
          "traceback": [
            "\u001b[0;31m---------------------------------------------------------------------------\u001b[0m",
            "\u001b[0;31mTypeError\u001b[0m                                 Traceback (most recent call last)",
            "\u001b[0;32m<ipython-input-71-2cb8bc3e3815>\u001b[0m in \u001b[0;36m<module>\u001b[0;34m()\u001b[0m\n\u001b[0;32m----> 1\u001b[0;31m \u001b[0mI\u001b[0m \u001b[0;34m=\u001b[0m \u001b[0miter\u001b[0m\u001b[0;34m(\u001b[0m\u001b[0;36m5566\u001b[0m\u001b[0;34m)\u001b[0m\u001b[0;34m\u001b[0m\u001b[0;34m\u001b[0m\u001b[0m\n\u001b[0m",
            "\u001b[0;31mTypeError\u001b[0m: 'int' object is not iterable"
          ]
        }
      ]
    },
    {
      "cell_type": "code",
      "metadata": {
        "id": "hXQSBAOfZXc0",
        "colab_type": "code",
        "colab": {
          "base_uri": "https://localhost:8080/",
          "height": 162
        },
        "outputId": "7261c610-5ede-4c81-878d-155af0e49637"
      },
      "source": [
        "I = iter(5566.0)"
      ],
      "execution_count": 72,
      "outputs": [
        {
          "output_type": "error",
          "ename": "TypeError",
          "evalue": "ignored",
          "traceback": [
            "\u001b[0;31m---------------------------------------------------------------------------\u001b[0m",
            "\u001b[0;31mTypeError\u001b[0m                                 Traceback (most recent call last)",
            "\u001b[0;32m<ipython-input-72-cd6f7910c9b5>\u001b[0m in \u001b[0;36m<module>\u001b[0;34m()\u001b[0m\n\u001b[0;32m----> 1\u001b[0;31m \u001b[0mI\u001b[0m \u001b[0;34m=\u001b[0m \u001b[0miter\u001b[0m\u001b[0;34m(\u001b[0m\u001b[0;36m5566.0\u001b[0m\u001b[0;34m)\u001b[0m\u001b[0;34m\u001b[0m\u001b[0;34m\u001b[0m\u001b[0m\n\u001b[0m",
            "\u001b[0;31mTypeError\u001b[0m: 'float' object is not iterable"
          ]
        }
      ]
    },
    {
      "cell_type": "code",
      "metadata": {
        "id": "HA-usdOIZXgo",
        "colab_type": "code",
        "colab": {
          "base_uri": "https://localhost:8080/",
          "height": 162
        },
        "outputId": "588d64cb-d340-40bc-9580-ff12edd1a7ce"
      },
      "source": [
        "I = iter(False)"
      ],
      "execution_count": 73,
      "outputs": [
        {
          "output_type": "error",
          "ename": "TypeError",
          "evalue": "ignored",
          "traceback": [
            "\u001b[0;31m---------------------------------------------------------------------------\u001b[0m",
            "\u001b[0;31mTypeError\u001b[0m                                 Traceback (most recent call last)",
            "\u001b[0;32m<ipython-input-73-7999af4976e5>\u001b[0m in \u001b[0;36m<module>\u001b[0;34m()\u001b[0m\n\u001b[0;32m----> 1\u001b[0;31m \u001b[0mI\u001b[0m \u001b[0;34m=\u001b[0m \u001b[0miter\u001b[0m\u001b[0;34m(\u001b[0m\u001b[0;32mFalse\u001b[0m\u001b[0;34m)\u001b[0m\u001b[0;34m\u001b[0m\u001b[0;34m\u001b[0m\u001b[0m\n\u001b[0m",
            "\u001b[0;31mTypeError\u001b[0m: 'bool' object is not iterable"
          ]
        }
      ]
    },
    {
      "cell_type": "code",
      "metadata": {
        "id": "bnEvgGNCZXlG",
        "colab_type": "code",
        "colab": {
          "base_uri": "https://localhost:8080/",
          "height": 1000
        },
        "outputId": "13ce1d7d-901c-46ef-d144-8542bb876e93"
      },
      "source": [
        "help(range) "
      ],
      "execution_count": 74,
      "outputs": [
        {
          "output_type": "stream",
          "text": [
            "Help on class range in module builtins:\n",
            "\n",
            "class range(object)\n",
            " |  range(stop) -> range object\n",
            " |  range(start, stop[, step]) -> range object\n",
            " |  \n",
            " |  Return an object that produces a sequence of integers from start (inclusive)\n",
            " |  to stop (exclusive) by step.  range(i, j) produces i, i+1, i+2, ..., j-1.\n",
            " |  start defaults to 0, and stop is omitted!  range(4) produces 0, 1, 2, 3.\n",
            " |  These are exactly the valid indices for a list of 4 elements.\n",
            " |  When step is given, it specifies the increment (or decrement).\n",
            " |  \n",
            " |  Methods defined here:\n",
            " |  \n",
            " |  __bool__(self, /)\n",
            " |      self != 0\n",
            " |  \n",
            " |  __contains__(self, key, /)\n",
            " |      Return key in self.\n",
            " |  \n",
            " |  __eq__(self, value, /)\n",
            " |      Return self==value.\n",
            " |  \n",
            " |  __ge__(self, value, /)\n",
            " |      Return self>=value.\n",
            " |  \n",
            " |  __getattribute__(self, name, /)\n",
            " |      Return getattr(self, name).\n",
            " |  \n",
            " |  __getitem__(self, key, /)\n",
            " |      Return self[key].\n",
            " |  \n",
            " |  __gt__(self, value, /)\n",
            " |      Return self>value.\n",
            " |  \n",
            " |  __hash__(self, /)\n",
            " |      Return hash(self).\n",
            " |  \n",
            " |  __iter__(self, /)\n",
            " |      Implement iter(self).\n",
            " |  \n",
            " |  __le__(self, value, /)\n",
            " |      Return self<=value.\n",
            " |  \n",
            " |  __len__(self, /)\n",
            " |      Return len(self).\n",
            " |  \n",
            " |  __lt__(self, value, /)\n",
            " |      Return self<value.\n",
            " |  \n",
            " |  __ne__(self, value, /)\n",
            " |      Return self!=value.\n",
            " |  \n",
            " |  __new__(*args, **kwargs) from builtins.type\n",
            " |      Create and return a new object.  See help(type) for accurate signature.\n",
            " |  \n",
            " |  __reduce__(...)\n",
            " |      helper for pickle\n",
            " |  \n",
            " |  __repr__(self, /)\n",
            " |      Return repr(self).\n",
            " |  \n",
            " |  __reversed__(...)\n",
            " |      Return a reverse iterator.\n",
            " |  \n",
            " |  count(...)\n",
            " |      rangeobject.count(value) -> integer -- return number of occurrences of value\n",
            " |  \n",
            " |  index(...)\n",
            " |      rangeobject.index(value, [start, [stop]]) -> integer -- return index of value.\n",
            " |      Raise ValueError if the value is not present.\n",
            " |  \n",
            " |  ----------------------------------------------------------------------\n",
            " |  Data descriptors defined here:\n",
            " |  \n",
            " |  start\n",
            " |  \n",
            " |  step\n",
            " |  \n",
            " |  stop\n",
            "\n"
          ],
          "name": "stdout"
        }
      ]
    },
    {
      "cell_type": "code",
      "metadata": {
        "id": "J4E2Iu0jZXpU",
        "colab_type": "code",
        "colab": {
          "base_uri": "https://localhost:8080/",
          "height": 1000
        },
        "outputId": "d27e98ba-f306-4a80-bc9a-7c258a510fc9"
      },
      "source": [
        "for i in range(1, 101, 1):\n",
        "    print(i)"
      ],
      "execution_count": 75,
      "outputs": [
        {
          "output_type": "stream",
          "text": [
            "1\n",
            "2\n",
            "3\n",
            "4\n",
            "5\n",
            "6\n",
            "7\n",
            "8\n",
            "9\n",
            "10\n",
            "11\n",
            "12\n",
            "13\n",
            "14\n",
            "15\n",
            "16\n",
            "17\n",
            "18\n",
            "19\n",
            "20\n",
            "21\n",
            "22\n",
            "23\n",
            "24\n",
            "25\n",
            "26\n",
            "27\n",
            "28\n",
            "29\n",
            "30\n",
            "31\n",
            "32\n",
            "33\n",
            "34\n",
            "35\n",
            "36\n",
            "37\n",
            "38\n",
            "39\n",
            "40\n",
            "41\n",
            "42\n",
            "43\n",
            "44\n",
            "45\n",
            "46\n",
            "47\n",
            "48\n",
            "49\n",
            "50\n",
            "51\n",
            "52\n",
            "53\n",
            "54\n",
            "55\n",
            "56\n",
            "57\n",
            "58\n",
            "59\n",
            "60\n",
            "61\n",
            "62\n",
            "63\n",
            "64\n",
            "65\n",
            "66\n",
            "67\n",
            "68\n",
            "69\n",
            "70\n",
            "71\n",
            "72\n",
            "73\n",
            "74\n",
            "75\n",
            "76\n",
            "77\n",
            "78\n",
            "79\n",
            "80\n",
            "81\n",
            "82\n",
            "83\n",
            "84\n",
            "85\n",
            "86\n",
            "87\n",
            "88\n",
            "89\n",
            "90\n",
            "91\n",
            "92\n",
            "93\n",
            "94\n",
            "95\n",
            "96\n",
            "97\n",
            "98\n",
            "99\n",
            "100\n"
          ],
          "name": "stdout"
        }
      ]
    },
    {
      "cell_type": "code",
      "metadata": {
        "id": "TWIhTeooZXuF",
        "colab_type": "code",
        "colab": {}
      },
      "source": [
        ""
      ],
      "execution_count": 0,
      "outputs": []
    }
  ]
}