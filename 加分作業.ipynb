{
  "nbformat": 4,
  "nbformat_minor": 0,
  "metadata": {
    "colab": {
      "name": "加分作業",
      "provenance": [],
      "collapsed_sections": []
    },
    "kernelspec": {
      "name": "python3",
      "display_name": "Python 3"
    }
  },
  "cells": [
    {
      "cell_type": "code",
      "metadata": {
        "id": "qqduH6XFw2HP",
        "colab_type": "code",
        "colab": {
          "base_uri": "https://localhost:8080/",
          "height": 33
        },
        "outputId": "5a4aa060-7f83-49b6-e65e-dd4412746b7a"
      },
      "source": [
        "#（我在英國唸書時，有一年過中國農曆年，真的跑去英國當地的小學介紹那一年的生肖。）\n",
        "#你打算和你的英國朋友說說十二生肖的故事。\n",
        "#為了準備PPT，先在自己的電腦找了找圖片，結果發現你有10張動物的照片，依序分別是\n",
        "#「牛、兔、馬、羊、猴、雞、鳥、狗、豬、貓」。\n",
        "#請問\n",
        "#(1)你得刪掉現有哪些動物的圖片？\n",
        "#(2)你還得從網路上找哪些動物的圖片？\n",
        "#(3)你要怎麼調整圖片的順序，才能依序說明十二生肖的故事呢？\n",
        "#～也歡迎把題目改的更漂亮！改題目也加分！！\n",
        "#(1)\n",
        "animals_list=['牛','兔','馬','羊','猴','雞','鳥','狗','豬','貓']\n",
        "for i in animals_list:\n",
        "  if i == '鳥' or i == '貓':\n",
        "      animals_list.remove(i)\n",
        "print(animals_list)\n",
        "\n"
      ],
      "execution_count": null,
      "outputs": [
        {
          "output_type": "stream",
          "text": [
            "['牛', '兔', '馬', '羊', '猴', '雞', '狗', '豬']\n"
          ],
          "name": "stdout"
        }
      ]
    },
    {
      "cell_type": "code",
      "metadata": {
        "id": "lCFjaVPTl6r4",
        "colab_type": "code",
        "colab": {
          "base_uri": "https://localhost:8080/",
          "height": 33
        },
        "outputId": "d6a97b3f-dbb7-4664-c37e-26404cea09e4"
      },
      "source": [
        "#(1)\n",
        "animals_list=['牛','兔','馬','羊','猴','雞','鳥','狗','豬','貓']\n",
        "del animals_list[-1]\n",
        "del animals_list[-4]\n",
        "print(animals_list)"
      ],
      "execution_count": null,
      "outputs": [
        {
          "output_type": "stream",
          "text": [
            "['牛', '兔', '馬', '羊', '猴', '鳥', '狗', '豬']\n"
          ],
          "name": "stdout"
        }
      ]
    },
    {
      "cell_type": "code",
      "metadata": {
        "id": "tDgqNJ0QmmmG",
        "colab_type": "code",
        "colab": {}
      },
      "source": [
        "#(2)還需要找鼠、虎、龍、蛇"
      ],
      "execution_count": null,
      "outputs": []
    },
    {
      "cell_type": "code",
      "metadata": {
        "id": "YlBmifsssECy",
        "colab_type": "code",
        "colab": {
          "base_uri": "https://localhost:8080/",
          "height": 33
        },
        "outputId": "dc036e50-5339-439c-ee0a-7ddb2b081acf"
      },
      "source": [
        " #(3)\n",
        "#def:'鼠' == 1; '牛' == 2; '虎' == 3; '兔' == 4; '龍' == 5; '蛇'== 6; '馬' == 7; '羊 '== 8; '猴' == 9; '雞 '== 10; '狗 '== 11; '豬' == 12;\n",
        "zodiac = ['牛','兔','馬','羊','猴','雞','鳥','狗','豬','貓','鼠','虎','龍','蛇']\n",
        "del zodiac[6]\n",
        "del zodiac[8]\n",
        "# a = sorted(zodiac)\n",
        "# print(a)\n",
        "print(zodiac)\n",
        "#zodiac=[('牛',2),('兔',4),('馬', 7),('羊',8),('猴',9),('雞',10),('鳥',0),('狗',11),('豬',12),('貓',0),('鼠',1),('虎',3),('龍',5),('蛇',6)]\n",
        "\n"
      ],
      "execution_count": 90,
      "outputs": [
        {
          "output_type": "stream",
          "text": [
            "['牛', '兔', '馬', '羊', '猴', '雞', '狗', '豬', '鼠', '虎', '龍', '蛇']\n"
          ],
          "name": "stdout"
        }
      ]
    },
    {
      "cell_type": "code",
      "metadata": {
        "id": "0795DdjBw26c",
        "colab_type": "code",
        "colab": {}
      },
      "source": [
        "加分接龍：歡迎程式接龍，提供不同版本的答案！\n",
        "\n",
        "(目前我寫了十四個版本）\n",
        "\n",
        "Question: 有人問關於「縣市每人最低生活費」的程式，我把業師寫的程式改成「基本款」，應該會更清楚。\n",
        "\n",
        "～用while迴圈在這裡並不適合，與字典（資料容器）配合時，for迴圈是比較好的選擇。"
      ],
      "execution_count": null,
      "outputs": []
    },
    {
      "cell_type": "code",
      "metadata": {
        "id": "zB7Ga3absivy",
        "colab_type": "code",
        "colab": {
          "base_uri": "https://localhost:8080/",
          "height": 50
        },
        "outputId": "f0fc408f-a0c2-4428-ae7d-b2853dc5207d"
      },
      "source": [
        "living_cost_dict = {\n",
        "    '臺北市': 17005,\n",
        "    '新北市': 15500,\n",
        "    '桃園市': 15281,\n",
        "    '臺中市': 14596,\n",
        "    '臺南市': 12388,\n",
        "    '高雄市': 13099,\n",
        "    '非六都之縣市': 12388,\n",
        "    '金門縣連江縣': 11648\n",
        "}\n",
        "living_area = input(\"請輸入您的居住縣市:\")\n",
        "try:\n",
        "    living_cost = living_cost_dict[living_area]\n",
        "    print(\"{}的每人每月最低生活費為{:,}\".format(living_area, living_cost))\n",
        "except KeyError:\n",
        "    print(\"請重新輸入居住縣市\")"
      ],
      "execution_count": null,
      "outputs": [
        {
          "output_type": "stream",
          "text": [
            "請輸入您的居住縣市:新北市\n",
            "新北市的每人每月最低生活費為15,500\n"
          ],
          "name": "stdout"
        }
      ]
    },
    {
      "cell_type": "code",
      "metadata": {
        "id": "JzRAdgbSw29F",
        "colab_type": "code",
        "colab": {}
      },
      "source": [
        "Question: 系上舉辦的招生說明會，或者是家長會，家長和學生一起出席。老師認識學生，但要和不認識的家長聊學生，所以得先把學生和家長的座位排在一起。\n",
        "\n",
        "(1)如果你是系學會幹部，你要怎麼安排？\n",
        "\n",
        "(2)請你用Python把上面的安排重講一次。\n",
        "\n",
        "# 把學生名字列出來（比如學生叫大花）\n",
        "\n",
        "# 把家長名字列出來（比如叫大花爸媽或真名）\n",
        "\n",
        "# 然後把大花和大花父母送做堆\n",
        "\n",
        "～用zip()函式結合兩個list\n",
        "\n"
      ],
      "execution_count": null,
      "outputs": []
    },
    {
      "cell_type": "code",
      "metadata": {
        "id": "kuDLxwRywNbG",
        "colab_type": "code",
        "colab": {
          "base_uri": "https://localhost:8080/",
          "height": 67
        },
        "outputId": "82a3760e-c4a8-4d62-f458-9d0f7ea60a7b"
      },
      "source": [
        "ask=input('')\n",
        "names=[\"大花\",\"小花\"]\n",
        "parents=[\"大花爸媽\",\"小花爸媽\"]\n",
        "for x, y in zip(names, parents):\n",
        "  print(x, y)"
      ],
      "execution_count": null,
      "outputs": [
        {
          "output_type": "stream",
          "text": [
            "如果你是系學會幹部，你要怎麼安排？\n",
            "大花 大花爸媽\n",
            "小花 小花爸媽\n"
          ],
          "name": "stdout"
        }
      ]
    },
    {
      "cell_type": "code",
      "metadata": {
        "id": "vjikHo_hw2_3",
        "colab_type": "code",
        "colab": {}
      },
      "source": [
        "Question: 新生歡迎茶會，請系上老師輪流上台致詞。\n",
        "\n",
        "(1)如果你是系學會幹部，你怎麼安排？\n",
        "\n",
        "(2)請你用Python把上面的安排重講一次。\n",
        "\n",
        "先將老師名單列出，然後編號，最後依照編號、逐一唱名唱台致詞。"
      ],
      "execution_count": null,
      "outputs": []
    },
    {
      "cell_type": "code",
      "metadata": {
        "id": "nERHq-s70nHS",
        "colab_type": "code",
        "colab": {
          "base_uri": "https://localhost:8080/",
          "height": 83
        },
        "outputId": "441963f8-b71b-4dff-a09a-c5622a16fbfb"
      },
      "source": [
        "ask=input('')\n",
        "names=[\"A老師\",\"B老師\",\"C老師\"]\n",
        "numbers=[1,2,3]\n",
        "for x, y in zip(names, numbers):\n",
        "  print(x, y)"
      ],
      "execution_count": null,
      "outputs": [
        {
          "output_type": "stream",
          "text": [
            "如果你是系學會幹部，你怎麼安排？\n",
            "A老師 1\n",
            "B老師 2\n",
            "C老師 3\n"
          ],
          "name": "stdout"
        }
      ]
    },
    {
      "cell_type": "code",
      "metadata": {
        "id": "A_80f7_Ssw-f",
        "colab_type": "code",
        "colab": {}
      },
      "source": [
        "Question: 什麼是None?\n",
        "\n",
        "1. Python基本的資料結構，常用的有文字(字串) 、數字(整數與浮點數)與布林三種。那其他不常用的呢?例如，複數、十進位數等也是資料結構，只是被歸類為少用，所以沒教。None也是，是一種資料結構，但用的沒那麼多。\n",
        "\n",
        "2. None表示什麼?\n",
        "\n",
        "在做問卷時，如果你問對方薪水多少 ？對方拒答，那麼你知道這是遺漏值。要怎麼表示此遺漏值的資料呢？ 通常，在理論上習慣以NA(not available)表示。在Python，則可以用None表示出來"
      ],
      "execution_count": null,
      "outputs": []
    },
    {
      "cell_type": "code",
      "metadata": {
        "id": "Sbjde_glOgrJ",
        "colab_type": "code",
        "colab": {
          "base_uri": "https://localhost:8080/",
          "height": 50
        },
        "outputId": "bc6f8285-28c4-4cb2-9bec-f8116d6db81c"
      },
      "source": [
        "#宣告一個變數判斷他有沒有回答\n",
        "Q=input('薪水多少:')\n",
        "#salary=None\n",
        "Q==[]\n",
        "if  not Q:\n",
        "  print(None)\n",
        "else:\n",
        "  print(Q)"
      ],
      "execution_count": 64,
      "outputs": [
        {
          "output_type": "stream",
          "text": [
            "薪水多少:\n",
            "None\n"
          ],
          "name": "stdout"
        }
      ]
    },
    {
      "cell_type": "markdown",
      "metadata": {
        "id": "08vD7ymwRU8W",
        "colab_type": "text"
      },
      "source": [
        ""
      ]
    },
    {
      "cell_type": "code",
      "metadata": {
        "id": "MmE7SnfJs2o-",
        "colab_type": "code",
        "colab": {
          "base_uri": "https://localhost:8080/",
          "height": 128
        },
        "outputId": "9f240ba1-c143-45f6-e276-fb88dc0f17b0"
      },
      "source": [
        "Question:為什麼切片索引要「有頭無尾」?\n",
        "\n",
        "指令[m:n]會切出由m到n但不包含n的片段。\n",
        "\n",
        "~ 當計算此切片[m:n]的長度時，就直接計算n-m即可； 不用去想數學的植樹問題，要加一還是減一。\n",
        "\n",
        "~當需要從索引2開始切出3個元素，只要用[2: 2+3]的直覺寫法即可，也不用去擔心數學的計算。\n",
        "\n",
        "～這規矩和r不同，但和大多數的程式軟體相同。\n",
        " \n",
        "加分題: 為什麼索引由左到右是從0開始遞增，但是索引從右到左卻從-1開始遞減，索引規定從0開始遞減不行嗎?"
      ],
      "execution_count": 18,
      "outputs": [
        {
          "output_type": "error",
          "ename": "SyntaxError",
          "evalue": "ignored",
          "traceback": [
            "\u001b[0;36m  File \u001b[0;32m\"<ipython-input-18-656f44257813>\"\u001b[0;36m, line \u001b[0;32m1\u001b[0m\n\u001b[0;31m    Question:為什麼切片索引要「有頭無尾」?\u001b[0m\n\u001b[0m                          ^\u001b[0m\n\u001b[0;31mSyntaxError\u001b[0m\u001b[0;31m:\u001b[0m invalid character in identifier\n"
          ]
        }
      ]
    },
    {
      "cell_type": "code",
      "metadata": {
        "id": "PaPqPPqo2X8f",
        "colab_type": "code",
        "colab": {}
      },
      "source": [
        "我看到網路上的解釋\n",
        "1.程式語言的索引從0開始，是因追溯到BCPL 語言的設計。\n",
        "當時主要考慮到指針使用的一個問題，一個數組的起始地址是a，\n",
        "假設一個元素的大小是s 個字節，如果索引從0 開始，第n 個元素的地址是a + n * s；\n",
        "而如果索引從1 開始，地址就是a + (n - 1) * s。這樣的話，\n",
        "使用從0 開始的索引就少一次減法計算，由於當時計算機對於運行效率的高要求，\n",
        "也就使用了這種設計。後面的C、Lisp 等，由於這種設計的影響，也選擇了索引從0 開始\n",
        "https://www.zhihu.com/question/341872783"
      ],
      "execution_count": null,
      "outputs": []
    }
  ]
}