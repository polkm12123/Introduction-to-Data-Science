{
  "nbformat": 4,
  "nbformat_minor": 0,
  "metadata": {
    "colab": {
      "name": "week9_A106260073張雅雯",
      "provenance": [],
      "collapsed_sections": []
    },
    "kernelspec": {
      "name": "python3",
      "display_name": "Python 3"
    }
  },
  "cells": [
    {
      "cell_type": "code",
      "metadata": {
        "id": "V5RwR38TxNge",
        "colab_type": "code",
        "outputId": "1d94c455-65f2-4ebf-d584-1e80681d5de6",
        "colab": {
          "base_uri": "https://localhost:8080/",
          "height": 102
        }
      },
      "source": [
        "x=int(input(\"請輸入起始的整數:\"))\n",
        "y=int(input(\"請輸入終止的整數:\"))\n",
        "i=x #start\n",
        "while i<=y:#stop\n",
        "#task\n",
        "  if i%2==1:\n",
        "    print(i) \n",
        "  i+=1 #stop"
      ],
      "execution_count": 0,
      "outputs": [
        {
          "output_type": "stream",
          "text": [
            "請輸入起始的整數:5\n",
            "請輸入終止的整數:10\n",
            "5\n",
            "7\n",
            "9\n"
          ],
          "name": "stdout"
        }
      ]
    },
    {
      "cell_type": "code",
      "metadata": {
        "id": "08YJSJ6QERzT",
        "colab_type": "code",
        "outputId": "86493f4f-174a-478c-9ad0-e1be948945aa",
        "colab": {
          "base_uri": "https://localhost:8080/",
          "height": 136
        }
      },
      "source": [
        "x=int(input(\"請輸入起始的整數:\"))\n",
        "y=int(input(\"請輸入終止的整數:\"))\n",
        "odd_counter=0\n",
        "i=x #start\n",
        "while i<=y:#stop\n",
        "#task\n",
        "  if i%2==1:\n",
        "    #odd_counter=odd_counter+1 #=not==\n",
        "    odd_counter+=1\n",
        "    print(odd_counter) \n",
        "  i+=1 #stop\n",
        "print(\"===\")\n",
        "print(odd_counter)"
      ],
      "execution_count": 0,
      "outputs": [
        {
          "output_type": "stream",
          "text": [
            "請輸入起始的整數:5\n",
            "請輸入終止的整數:10\n",
            "1\n",
            "2\n",
            "3\n",
            "===\n",
            "3\n"
          ],
          "name": "stdout"
        }
      ]
    },
    {
      "cell_type": "code",
      "metadata": {
        "id": "dIwZj9AVER3D",
        "colab_type": "code",
        "outputId": "2bc746cd-f53d-41ad-f251-b5c6827e3d6c",
        "colab": {
          "base_uri": "https://localhost:8080/",
          "height": 187
        }
      },
      "source": [
        "x=int(input(\"請輸入起始的整數:\"))\n",
        "y=int(input(\"請輸入終止的整數:\"))\n",
        "odd_summation=0 #歸零\n",
        "i=x #start\n",
        "while i<=y:#stop\n",
        "#task\n",
        "  if i%2==1:\n",
        "    \n",
        "    #odd_counter=odd_counter+1 #技術累計\n",
        "    odd_summation=odd_summation+i #數值累加\n",
        "    print(\"現在的整數是:{},奇數計數為{}個,總合為{}\".format(i,odd_counter,odd_summation))\n",
        "  else:\n",
        "    print(\"現在的整數是:{},奇數計數為{}個,總合為{}\".format(i,odd_counter,odd_summation))\n",
        "  i+=1 #stop\n",
        "print(\"===\")\n",
        "print(odd_summation)"
      ],
      "execution_count": 0,
      "outputs": [
        {
          "output_type": "stream",
          "text": [
            "請輸入起始的整數:5\n",
            "請輸入終止的整數:10\n",
            "現在的整數是:5,奇數計數為3個,總合為5\n",
            "現在的整數是:6,奇數計數為3個,總合為5\n",
            "現在的整數是:7,奇數計數為3個,總合為12\n",
            "現在的整數是:8,奇數計數為3個,總合為12\n",
            "現在的整數是:9,奇數計數為3個,總合為21\n",
            "現在的整數是:10,奇數計數為3個,總合為21\n",
            "===\n",
            "21\n"
          ],
          "name": "stdout"
        }
      ]
    },
    {
      "cell_type": "code",
      "metadata": {
        "id": "-li6GDA5ER6M",
        "colab_type": "code",
        "outputId": "fdd78b7a-8dfb-44d1-b78a-590389e2e214",
        "colab": {
          "base_uri": "https://localhost:8080/",
          "height": 510
        }
      },
      "source": [
        "x=int(input(\"請輸入一個正整數:\"))\n",
        "print(x)\n",
        "i=1 #start\n",
        "divisor_counter =0\n",
        "while i<=x: #stop\n",
        "  if x%i==0:\n",
        "    divisor_counter +=1\n",
        "    print(\"{}可以被{}整除\".format(x,i))\n",
        "    print(\"因數個數目前有{}個\".format(divisor_counter))\n",
        "    print(\"=====\")\n",
        "  i+=1 #step\n",
        "print(\"###Answer###\")\n",
        "print(\"{}有{}個因數!\".format(x,divisor_counter))\n",
        "if divisor_counter==2:\n",
        "  print(\"{}是質數\".format(x))\n",
        "else:\n",
        "  print(\"{}不是質數\".format(x))"
      ],
      "execution_count": 0,
      "outputs": [
        {
          "output_type": "stream",
          "text": [
            "請輸入一個正整數:56\n",
            "56\n",
            "56可以被1整除\n",
            "因數個數目前有1個\n",
            "=====\n",
            "56可以被2整除\n",
            "因數個數目前有2個\n",
            "=====\n",
            "56可以被4整除\n",
            "因數個數目前有3個\n",
            "=====\n",
            "56可以被7整除\n",
            "因數個數目前有4個\n",
            "=====\n",
            "56可以被8整除\n",
            "因數個數目前有5個\n",
            "=====\n",
            "56可以被14整除\n",
            "因數個數目前有6個\n",
            "=====\n",
            "56可以被28整除\n",
            "因數個數目前有7個\n",
            "=====\n",
            "56可以被56整除\n",
            "因數個數目前有8個\n",
            "=====\n",
            "###Answer###\n",
            "56有8個因數!\n",
            "56不是質數\n"
          ],
          "name": "stdout"
        }
      ]
    },
    {
      "cell_type": "code",
      "metadata": {
        "id": "3_wY7JuiER9J",
        "colab_type": "code",
        "outputId": "c02cac75-8189-431f-e1f2-a3f734a6e2fb",
        "colab": {
          "base_uri": "https://localhost:8080/",
          "height": 170
        }
      },
      "source": [
        "x=int(input(\"請輸入一個正整數:\"))\n",
        "i=1 #start\n",
        "while i<=x: #stop\n",
        "  if x%i==0:\n",
        "    print(i)\n",
        "  i+=1 #step"
      ],
      "execution_count": 0,
      "outputs": [
        {
          "output_type": "stream",
          "text": [
            "請輸入一個正整數:56\n",
            "1\n",
            "2\n",
            "4\n",
            "7\n",
            "8\n",
            "14\n",
            "28\n",
            "56\n"
          ],
          "name": "stdout"
        }
      ]
    },
    {
      "cell_type": "code",
      "metadata": {
        "id": "f2RYnLtSER_y",
        "colab_type": "code",
        "outputId": "740cbaa7-17bb-4e12-8cc7-c0d144388f8d",
        "colab": {
          "base_uri": "https://localhost:8080/",
          "height": 374
        }
      },
      "source": [
        "x=int(input(\"請輸入一個正整數:\"))\n",
        "print(x)\n",
        "i=1 #start\n",
        "divisor_counter =0\n",
        "while i<=x: #stop\n",
        "  if x%i==0:\n",
        "    divisor_counter +=1\n",
        "    print(\"{}可以被{}整除\".format(x,i))\n",
        "    print(\"因數個數目前有{}個\".format(divisor_counter))\n",
        "    print(\"=====\")\n",
        "  i+=1 #step\n",
        "print(\"###Answer###\")\n",
        "print(\"總共執行了{}次迴圈\".format(i-1))\n",
        "print(\"{}有{}個因數!\".format(x,divisor_counter))\n",
        "if divisor_counter==2:\n",
        "  print(\"{}是質數\".format(x))\n",
        "else:\n",
        "  print(\"{}不是質數\".format(x))"
      ],
      "execution_count": 0,
      "outputs": [
        {
          "output_type": "stream",
          "text": [
            "請輸入一個正整數:16\n",
            "16\n",
            "16可以被1整除\n",
            "因數個數目前有1個\n",
            "=====\n",
            "16可以被2整除\n",
            "因數個數目前有2個\n",
            "=====\n",
            "16可以被4整除\n",
            "因數個數目前有3個\n",
            "=====\n",
            "16可以被8整除\n",
            "因數個數目前有4個\n",
            "=====\n",
            "16可以被16整除\n",
            "因數個數目前有5個\n",
            "=====\n",
            "###Answer###\n",
            "總共執行了16次迴圈\n",
            "16有5個因數!\n",
            "16不是質數\n"
          ],
          "name": "stdout"
        }
      ]
    },
    {
      "cell_type": "code",
      "metadata": {
        "id": "Okglq72HESCy",
        "colab_type": "code",
        "outputId": "e161c354-41a2-43b2-a677-67c2d004f314",
        "colab": {
          "base_uri": "https://localhost:8080/",
          "height": 272
        }
      },
      "source": [
        "x=int(input(\"請輸入一個正整數:\"))\n",
        "print(x)\n",
        "i=1 #start\n",
        "divisor_counter =0\n",
        "while i<=x: #stop\n",
        "  if x%i==0:\n",
        "    divisor_counter +=1\n",
        "    print(\"{}可以被{}整除\".format(x,i))\n",
        "    print(\"因數個數目前有{}個\".format(divisor_counter))\n",
        "    print(\"=====\")\n",
        "  i+=1 #step\n",
        "  if divisor_counter>2:\n",
        "    break\n",
        "print(\"###Answer###\")\n",
        "print(\"總共執行了{}次迴圈\".format(i-1))\n",
        "print(\"{}有{}個因數!\".format(x,divisor_counter))\n",
        "if divisor_counter==2:\n",
        "  print(\"{}是質數\".format(x))\n",
        "else:\n",
        "  print(\"{}不是質數\".format(x))"
      ],
      "execution_count": 0,
      "outputs": [
        {
          "output_type": "stream",
          "text": [
            "請輸入一個正整數:16\n",
            "16\n",
            "16可以被1整除\n",
            "因數個數目前有1個\n",
            "=====\n",
            "16可以被2整除\n",
            "因數個數目前有2個\n",
            "=====\n",
            "16可以被4整除\n",
            "因數個數目前有3個\n",
            "=====\n",
            "###Answer###\n",
            "總共執行了4次迴圈\n",
            "16有3個因數!\n",
            "16不是質數\n"
          ],
          "name": "stdout"
        }
      ]
    },
    {
      "cell_type": "code",
      "metadata": {
        "id": "hTmRHq1IESGC",
        "colab_type": "code",
        "outputId": "0aead88f-8994-45ea-f5b5-cd5db97154be",
        "colab": {
          "base_uri": "https://localhost:8080/",
          "height": 1000
        }
      },
      "source": [
        "i = 1 # start\n",
        "while i <= 100: # stop\n",
        "    if i % 15 == 0:\n",
        "        print(\"Fizz Buzz\")\n",
        "    elif i % 3 == 0:\n",
        "        print(\"Fizz\")\n",
        "    elif i % 5 == 0:\n",
        "        print(\"Buzz\")\n",
        "    else:\n",
        "        print(i)\n",
        "    i += 1 # step"
      ],
      "execution_count": 0,
      "outputs": [
        {
          "output_type": "stream",
          "text": [
            "1\n",
            "2\n",
            "Fizz\n",
            "4\n",
            "Buzz\n",
            "Fizz\n",
            "7\n",
            "8\n",
            "Fizz\n",
            "Buzz\n",
            "11\n",
            "Fizz\n",
            "13\n",
            "14\n",
            "Fizz Buzz\n",
            "16\n",
            "17\n",
            "Fizz\n",
            "19\n",
            "Buzz\n",
            "Fizz\n",
            "22\n",
            "23\n",
            "Fizz\n",
            "Buzz\n",
            "26\n",
            "Fizz\n",
            "28\n",
            "29\n",
            "Fizz Buzz\n",
            "31\n",
            "32\n",
            "Fizz\n",
            "34\n",
            "Buzz\n",
            "Fizz\n",
            "37\n",
            "38\n",
            "Fizz\n",
            "Buzz\n",
            "41\n",
            "Fizz\n",
            "43\n",
            "44\n",
            "Fizz Buzz\n",
            "46\n",
            "47\n",
            "Fizz\n",
            "49\n",
            "Buzz\n",
            "Fizz\n",
            "52\n",
            "53\n",
            "Fizz\n",
            "Buzz\n",
            "56\n",
            "Fizz\n",
            "58\n",
            "59\n",
            "Fizz Buzz\n",
            "61\n",
            "62\n",
            "Fizz\n",
            "64\n",
            "Buzz\n",
            "Fizz\n",
            "67\n",
            "68\n",
            "Fizz\n",
            "Buzz\n",
            "71\n",
            "Fizz\n",
            "73\n",
            "74\n",
            "Fizz Buzz\n",
            "76\n",
            "77\n",
            "Fizz\n",
            "79\n",
            "Buzz\n",
            "Fizz\n",
            "82\n",
            "83\n",
            "Fizz\n",
            "Buzz\n",
            "86\n",
            "Fizz\n",
            "88\n",
            "89\n",
            "Fizz Buzz\n",
            "91\n",
            "92\n",
            "Fizz\n",
            "94\n",
            "Buzz\n",
            "Fizz\n",
            "97\n",
            "98\n",
            "Fizz\n",
            "Buzz\n"
          ],
          "name": "stdout"
        }
      ]
    },
    {
      "cell_type": "code",
      "metadata": {
        "id": "RhxjMqGTESJ0",
        "colab_type": "code",
        "colab": {}
      },
      "source": [
        ""
      ],
      "execution_count": 0,
      "outputs": []
    },
    {
      "cell_type": "code",
      "metadata": {
        "id": "npzfP51TESNi",
        "colab_type": "code",
        "colab": {}
      },
      "source": [
        ""
      ],
      "execution_count": 0,
      "outputs": []
    }
  ]
}