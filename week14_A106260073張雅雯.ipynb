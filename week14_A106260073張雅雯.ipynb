{
  "nbformat": 4,
  "nbformat_minor": 0,
  "metadata": {
    "colab": {
      "name": "week14 A106260073張雅雯",
      "provenance": [],
      "collapsed_sections": []
    },
    "kernelspec": {
      "name": "python3",
      "display_name": "Python 3"
    }
  },
  "cells": [
    {
      "cell_type": "code",
      "metadata": {
        "id": "CUuTPQy2QBEi",
        "colab_type": "code",
        "colab": {
          "base_uri": "https://localhost:8080/",
          "height": 51
        },
        "outputId": "63686773-6566-4fd9-cfb7-bdce372b4dce"
      },
      "source": [
        "lucky_number=24\n",
        "print(\"My lucky number is %s\"%(lucky_number))\n",
        "print(\"My lucky number is{}\".format(lucky_number))"
      ],
      "execution_count": 24,
      "outputs": [
        {
          "output_type": "stream",
          "text": [
            "My lucky number is 24\n",
            "My lucky number is24\n"
          ],
          "name": "stdout"
        }
      ]
    },
    {
      "cell_type": "code",
      "metadata": {
        "id": "IZT7Txw7Qjoq",
        "colab_type": "code",
        "colab": {
          "base_uri": "https://localhost:8080/",
          "height": 51
        },
        "outputId": "1ce8e450-eac8-4679-9704-b9c84a7b0684"
      },
      "source": [
        "pi=3.14159\n",
        "print(\"My lucky number is %.2f\"%(lucky_number)) #小數點去到第二位，偏c語言\n",
        "print(\"My lucky number is{}\".format(lucky_number))"
      ],
      "execution_count": 26,
      "outputs": [
        {
          "output_type": "stream",
          "text": [
            "My lucky number is 24.00\n",
            "My lucky number is24\n"
          ],
          "name": "stdout"
        }
      ]
    },
    {
      "cell_type": "code",
      "metadata": {
        "id": "-AvnU8NsRKHR",
        "colab_type": "code",
        "colab": {
          "base_uri": "https://localhost:8080/",
          "height": 204
        },
        "outputId": "a6b77953-7369-4a9b-81bf-a469b14f7c07"
      },
      "source": [
        "help(eval) #input轉印成物件"
      ],
      "execution_count": 27,
      "outputs": [
        {
          "output_type": "stream",
          "text": [
            "Help on built-in function eval in module builtins:\n",
            "\n",
            "eval(source, globals=None, locals=None, /)\n",
            "    Evaluate the given source in the context of globals and locals.\n",
            "    \n",
            "    The source may be a string representing a Python expression\n",
            "    or a code object as returned by compile().\n",
            "    The globals must be a dictionary and locals can be any mapping,\n",
            "    defaulting to the current globals and locals.\n",
            "    If only globals is given, locals defaults to it.\n",
            "\n"
          ],
          "name": "stdout"
        }
      ]
    },
    {
      "cell_type": "code",
      "metadata": {
        "id": "vLbp3ItIROIi",
        "colab_type": "code",
        "colab": {
          "base_uri": "https://localhost:8080/",
          "height": 34
        },
        "outputId": "d907fb45-fe58-42be-fd8e-3418832c4039"
      },
      "source": [
        "pi #物件的名稱"
      ],
      "execution_count": 28,
      "outputs": [
        {
          "output_type": "execute_result",
          "data": {
            "text/plain": [
              "3.14159"
            ]
          },
          "metadata": {
            "tags": []
          },
          "execution_count": 28
        }
      ]
    },
    {
      "cell_type": "code",
      "metadata": {
        "id": "y6JnSqPPRT0u",
        "colab_type": "code",
        "colab": {
          "base_uri": "https://localhost:8080/",
          "height": 34
        },
        "outputId": "a7ec0036-2a1f-4b33-905a-579a7a91f3d1"
      },
      "source": [
        "print('pi')"
      ],
      "execution_count": 30,
      "outputs": [
        {
          "output_type": "stream",
          "text": [
            "pi\n"
          ],
          "name": "stdout"
        }
      ]
    },
    {
      "cell_type": "code",
      "metadata": {
        "id": "qvMr4SpFRT3c",
        "colab_type": "code",
        "colab": {
          "base_uri": "https://localhost:8080/",
          "height": 34
        },
        "outputId": "49ff1a84-5db4-476c-b195-e14ca51e539c"
      },
      "source": [
        "eval('pi')"
      ],
      "execution_count": 31,
      "outputs": [
        {
          "output_type": "execute_result",
          "data": {
            "text/plain": [
              "3.14159"
            ]
          },
          "metadata": {
            "tags": []
          },
          "execution_count": 31
        }
      ]
    },
    {
      "cell_type": "code",
      "metadata": {
        "id": "hOVzdQAW0jbO",
        "colab_type": "code",
        "colab": {}
      },
      "source": [
        "def find_divisors(x):#尋找一個因數\n",
        "  for i in range(1,x+1):\n",
        "    if x %i==0:\n",
        "      print(i)\n"
      ],
      "execution_count": 0,
      "outputs": []
    },
    {
      "cell_type": "code",
      "metadata": {
        "id": "XtHD_-59FEZx",
        "colab_type": "code",
        "colab": {
          "base_uri": "https://localhost:8080/",
          "height": 85
        },
        "outputId": "c91ad396-9931-4121-aac3-3e3b1715c61a"
      },
      "source": [
        "find_divisors(8)"
      ],
      "execution_count": 2,
      "outputs": [
        {
          "output_type": "stream",
          "text": [
            "1\n",
            "2\n",
            "4\n",
            "8\n"
          ],
          "name": "stdout"
        }
      ]
    },
    {
      "cell_type": "code",
      "metadata": {
        "id": "yCVeBY8iFHhp",
        "colab_type": "code",
        "colab": {
          "base_uri": "https://localhost:8080/",
          "height": 85
        },
        "outputId": "2d15d36e-fb53-47a6-de36-5737fda5aaeb"
      },
      "source": [
        "def count_divisors(x):\n",
        "  n_divisors=0\n",
        "  for i in range(1,x+1):\n",
        "    if x%i==0:\n",
        "      print(i)\n",
        "      n_divisors+=1\n",
        "\n",
        "count_divisors(8)"
      ],
      "execution_count": 5,
      "outputs": [
        {
          "output_type": "stream",
          "text": [
            "1\n",
            "2\n",
            "4\n",
            "8\n"
          ],
          "name": "stdout"
        }
      ]
    },
    {
      "cell_type": "code",
      "metadata": {
        "id": "q-sk8CKCFHko",
        "colab_type": "code",
        "colab": {}
      },
      "source": [
        "def count_divisors(x):\n",
        "  n_divisors=0\n",
        "  for i in range(1,x+1):\n",
        "    if x%i==0:\n",
        "      n_divisors+=1\n",
        "  print(n_divisors)"
      ],
      "execution_count": 0,
      "outputs": []
    },
    {
      "cell_type": "code",
      "metadata": {
        "id": "QFy2xlWGFHnY",
        "colab_type": "code",
        "colab": {
          "base_uri": "https://localhost:8080/",
          "height": 34
        },
        "outputId": "854d42d9-5eef-4f4c-d530-5296304e2c07"
      },
      "source": [
        "my_int=8 #整數\n",
        "my_int_n_divisors=count_divisors(my_int) #答案的4未存起來"
      ],
      "execution_count": 7,
      "outputs": [
        {
          "output_type": "stream",
          "text": [
            "4\n"
          ],
          "name": "stdout"
        }
      ]
    },
    {
      "cell_type": "code",
      "metadata": {
        "id": "rP1AaG3-FHp4",
        "colab_type": "code",
        "colab": {
          "base_uri": "https://localhost:8080/",
          "height": 34
        },
        "outputId": "e91f4ccf-f8bb-4f57-8f37-ee2740fa65c8"
      },
      "source": [
        "print(my_int_n_divisors) #都未存到 少了一個元件return\n"
      ],
      "execution_count": 8,
      "outputs": [
        {
          "output_type": "stream",
          "text": [
            "None\n"
          ],
          "name": "stdout"
        }
      ]
    },
    {
      "cell_type": "code",
      "metadata": {
        "id": "HbAJcFprFHsn",
        "colab_type": "code",
        "colab": {}
      },
      "source": [
        "def count_divisors(x):\n",
        "    n_divisors = 0\n",
        "    for i in range(1, x+1):\n",
        "        if x % i == 0:\n",
        "            #print(i)\n",
        "            n_divisors += 1\n",
        "    return n_divisors"
      ],
      "execution_count": 0,
      "outputs": []
    },
    {
      "cell_type": "code",
      "metadata": {
        "id": "OJj01G1FFHxq",
        "colab_type": "code",
        "colab": {}
      },
      "source": [
        "my_int = 8\n",
        "my_int_n_divisors = count_divisors(my_int)"
      ],
      "execution_count": 0,
      "outputs": []
    },
    {
      "cell_type": "code",
      "metadata": {
        "id": "zAOShFzqFEcf",
        "colab_type": "code",
        "colab": {
          "base_uri": "https://localhost:8080/",
          "height": 34
        },
        "outputId": "aecd7375-df7e-4838-9deb-47426302ac50"
      },
      "source": [
        "print(my_int_n_divisors)"
      ],
      "execution_count": 13,
      "outputs": [
        {
          "output_type": "stream",
          "text": [
            "4\n"
          ],
          "name": "stdout"
        }
      ]
    },
    {
      "cell_type": "code",
      "metadata": {
        "id": "hcqU5SWEFEgY",
        "colab_type": "code",
        "colab": {}
      },
      "source": [
        "def is_prime(x):#個數\n",
        "  div_cnt=count_divisors(x)\n",
        "  if div_cnt==2:\n",
        "    print(\"{}是質數\".format(x))\n",
        "  else:\n",
        "    print(\"{}不是質數\".format(x))"
      ],
      "execution_count": 0,
      "outputs": []
    },
    {
      "cell_type": "code",
      "metadata": {
        "id": "Ol0PPeSGFEjH",
        "colab_type": "code",
        "colab": {
          "base_uri": "https://localhost:8080/",
          "height": 34
        },
        "outputId": "ef5169b1-eeeb-4fc5-c1d1-c3083f688938"
      },
      "source": [
        "is_prime(2)#判斷是否為質數"
      ],
      "execution_count": 15,
      "outputs": [
        {
          "output_type": "stream",
          "text": [
            "2是質數\n"
          ],
          "name": "stdout"
        }
      ]
    },
    {
      "cell_type": "code",
      "metadata": {
        "id": "DElHqENTFElZ",
        "colab_type": "code",
        "colab": {
          "base_uri": "https://localhost:8080/",
          "height": 51
        },
        "outputId": "826b56f2-1123-4ae2-dcc5-254d7c02c632"
      },
      "source": [
        "is_prime_res=is_prime(2)\n",
        "print(is_prime_res)"
      ],
      "execution_count": 16,
      "outputs": [
        {
          "output_type": "stream",
          "text": [
            "2是質數\n",
            "None\n"
          ],
          "name": "stdout"
        }
      ]
    },
    {
      "cell_type": "code",
      "metadata": {
        "id": "KyOIzLODFEno",
        "colab_type": "code",
        "colab": {}
      },
      "source": [
        "def is_prime(x):#個數\n",
        "  div_cnt=count_divisors(x)\n",
        "  if div_cnt==2:\n",
        "    return True\n",
        "  else:\n",
        "    return False"
      ],
      "execution_count": 0,
      "outputs": []
    },
    {
      "cell_type": "code",
      "metadata": {
        "id": "nRsImPfsFEqI",
        "colab_type": "code",
        "colab": {
          "base_uri": "https://localhost:8080/",
          "height": 34
        },
        "outputId": "5b594cda-1a24-44af-b7dd-e4852c753937"
      },
      "source": [
        "is_prime_res=is_prime(2)\n",
        "print(is_prime_res)"
      ],
      "execution_count": 18,
      "outputs": [
        {
          "output_type": "stream",
          "text": [
            "True\n"
          ],
          "name": "stdout"
        }
      ]
    },
    {
      "cell_type": "code",
      "metadata": {
        "id": "cpF8nxYtJ4VS",
        "colab_type": "code",
        "colab": {}
      },
      "source": [
        "def is_prime(x):#個數\n",
        "  div_cnt=count_divisors(x)\n",
        "  return div_cny==2"
      ],
      "execution_count": 0,
      "outputs": []
    },
    {
      "cell_type": "code",
      "metadata": {
        "id": "MeQfZGm7J4Y4",
        "colab_type": "code",
        "colab": {}
      },
      "source": [
        "def is_prime(x):#個數\n",
        "  return count_divisors(x)==2"
      ],
      "execution_count": 0,
      "outputs": []
    },
    {
      "cell_type": "code",
      "metadata": {
        "id": "y3HriWEaJ4d4",
        "colab_type": "code",
        "colab": {
          "base_uri": "https://localhost:8080/",
          "height": 187
        },
        "outputId": "0d2ddc9c-ab1b-4b4a-9858-cb08459f6925"
      },
      "source": [
        "for i in range (1,11):\n",
        "  print(\"{}是否為質數:{}\".format(i,is_prime(i)))"
      ],
      "execution_count": 22,
      "outputs": [
        {
          "output_type": "stream",
          "text": [
            "1是否為質數:False\n",
            "2是否為質數:True\n",
            "3是否為質數:True\n",
            "4是否為質數:False\n",
            "5是否為質數:True\n",
            "6是否為質數:False\n",
            "7是否為質數:True\n",
            "8是否為質數:False\n",
            "9是否為質數:False\n",
            "10是否為質數:False\n"
          ],
          "name": "stdout"
        }
      ]
    },
    {
      "cell_type": "code",
      "metadata": {
        "id": "DOb6UPm4J4gw",
        "colab_type": "code",
        "colab": {}
      },
      "source": [
        "#一對多\n",
        "def find_divisors(x): \n",
        "  divisors=[]\n",
        "  for i in range(1, x+1):\n",
        "        if x % i == 0:\n",
        "          divisors.append(i)\n",
        "  return divisors"
      ],
      "execution_count": 0,
      "outputs": []
    },
    {
      "cell_type": "code",
      "metadata": {
        "id": "anu_fPIFJ4jO",
        "colab_type": "code",
        "colab": {
          "base_uri": "https://localhost:8080/",
          "height": 34
        },
        "outputId": "bb6c4f71-2b08-47f5-eeae-fb9ba341e497"
      },
      "source": [
        "find_divisors(2)"
      ],
      "execution_count": 35,
      "outputs": [
        {
          "output_type": "execute_result",
          "data": {
            "text/plain": [
              "[1, 2]"
            ]
          },
          "metadata": {
            "tags": []
          },
          "execution_count": 35
        }
      ]
    },
    {
      "cell_type": "code",
      "metadata": {
        "id": "8HLsUeXEJ4li",
        "colab_type": "code",
        "colab": {}
      },
      "source": [
        "#多對多\n",
        "def find_bmi(height, weight):\n",
        "    bmi = weight / (height/100)**2\n",
        "    if bmi > 30:\n",
        "        bmi_index = 'Obese'\n",
        "    elif bmi > 25:\n",
        "        bmi_index = 'Overweight'\n",
        "    elif bmi > 18.5:\n",
        "        bmi_index = 'Normal weight'\n",
        "    else:\n",
        "        bmi_index = 'Underweight'\n",
        "    bmi_dict = {\n",
        "        'bmi_value': bmi,\n",
        "        'bmi_index': bmi_index\n",
        "    }\n",
        "    return bmi_dict\n"
      ],
      "execution_count": 0,
      "outputs": []
    },
    {
      "cell_type": "code",
      "metadata": {
        "id": "b5py98f1J4nw",
        "colab_type": "code",
        "colab": {
          "base_uri": "https://localhost:8080/",
          "height": 34
        },
        "outputId": "8de3c638-f177-40d0-bd7a-058617d8bda1"
      },
      "source": [
        "find_bmi(198, 129)"
      ],
      "execution_count": 40,
      "outputs": [
        {
          "output_type": "execute_result",
          "data": {
            "text/plain": [
              "{'bmi_index': 'Obese', 'bmi_value': 32.90480563207836}"
            ]
          },
          "metadata": {
            "tags": []
          },
          "execution_count": 40
        }
      ]
    },
    {
      "cell_type": "code",
      "metadata": {
        "id": "FYx64lKTJ4qS",
        "colab_type": "code",
        "colab": {}
      },
      "source": [
        "def find_bmi(height,weight):\n",
        "  bmi=weight/(height/100)**2\n",
        "  if bmi>30:\n",
        "    bmi_index='obese'\n",
        "  elif bmi>25:\n",
        "    bmi_index='overweight'\n",
        "  elif bmi>18.5:\n",
        "    bmi_index=\"normal weight\"\n",
        "  else:\n",
        "    bmi_index='underweight'\n",
        "  return bmi,bmi_index #output as a tuple"
      ],
      "execution_count": 0,
      "outputs": []
    },
    {
      "cell_type": "code",
      "metadata": {
        "id": "UyoVz0veJ4sm",
        "colab_type": "code",
        "colab": {
          "base_uri": "https://localhost:8080/",
          "height": 34
        },
        "outputId": "8f2028fd-9d57-4fe6-85e2-d8b83b281df2"
      },
      "source": [
        "find_bmi(198,129)"
      ],
      "execution_count": 37,
      "outputs": [
        {
          "output_type": "execute_result",
          "data": {
            "text/plain": [
              "(32.90480563207836, 'obese')"
            ]
          },
          "metadata": {
            "tags": []
          },
          "execution_count": 37
        }
      ]
    },
    {
      "cell_type": "code",
      "metadata": {
        "id": "iZn3X20NJ4u0",
        "colab_type": "code",
        "colab": {
          "base_uri": "https://localhost:8080/",
          "height": 51
        },
        "outputId": "300de4dd-d20e-48ee-fadd-b451a2db89c4"
      },
      "source": [
        "zion_bmi,zion_bmi_index=find_bmi(198,129)\n",
        "print(zion_bmi)\n",
        "print(zion_bmi_index)"
      ],
      "execution_count": 38,
      "outputs": [
        {
          "output_type": "stream",
          "text": [
            "32.90480563207836\n",
            "obese\n"
          ],
          "name": "stdout"
        }
      ]
    },
    {
      "cell_type": "code",
      "metadata": {
        "id": "utqTW5V2J4xa",
        "colab_type": "code",
        "colab": {}
      },
      "source": [
        "def get_circle_meterics(r,return_area=True):\n",
        "  pi=3.14159\n",
        "  area=pi*r**2\n",
        "  perimeter=2*pi*r\n",
        "  if return_area:\n",
        "   return area\n",
        "  else:\n",
        "    return perimeter\n"
      ],
      "execution_count": 0,
      "outputs": []
    },
    {
      "cell_type": "code",
      "metadata": {
        "id": "IReLklA2J40A",
        "colab_type": "code",
        "colab": {
          "base_uri": "https://localhost:8080/",
          "height": 34
        },
        "outputId": "4e363405-c806-4e83-d018-8e094ab495fd"
      },
      "source": [
        "get_circle_meterics(3,True)"
      ],
      "execution_count": 45,
      "outputs": [
        {
          "output_type": "execute_result",
          "data": {
            "text/plain": [
              "28.27431"
            ]
          },
          "metadata": {
            "tags": []
          },
          "execution_count": 45
        }
      ]
    },
    {
      "cell_type": "code",
      "metadata": {
        "id": "xnrzfFCZJ424",
        "colab_type": "code",
        "colab": {
          "base_uri": "https://localhost:8080/",
          "height": 34
        },
        "outputId": "89265bdd-5988-4a67-dd2a-29edff425af0"
      },
      "source": [
        "get_circle_meterics(3,False)"
      ],
      "execution_count": 46,
      "outputs": [
        {
          "output_type": "execute_result",
          "data": {
            "text/plain": [
              "18.849539999999998"
            ]
          },
          "metadata": {
            "tags": []
          },
          "execution_count": 46
        }
      ]
    },
    {
      "cell_type": "code",
      "metadata": {
        "id": "ZOxLtNKfJ45Z",
        "colab_type": "code",
        "colab": {
          "base_uri": "https://localhost:8080/",
          "height": 34
        },
        "outputId": "b23bb15f-a87e-4dbe-8d04-1f0d94144a95"
      },
      "source": [
        "get_circle_meterics(3)"
      ],
      "execution_count": 47,
      "outputs": [
        {
          "output_type": "execute_result",
          "data": {
            "text/plain": [
              "28.27431"
            ]
          },
          "metadata": {
            "tags": []
          },
          "execution_count": 47
        }
      ]
    },
    {
      "cell_type": "code",
      "metadata": {
        "id": "txRrxx1vJ48S",
        "colab_type": "code",
        "colab": {}
      },
      "source": [
        "def create_price(*args):\n",
        "  return args"
      ],
      "execution_count": 0,
      "outputs": []
    },
    {
      "cell_type": "code",
      "metadata": {
        "id": "bAQdcvCMJ4-6",
        "colab_type": "code",
        "colab": {
          "base_uri": "https://localhost:8080/",
          "height": 34
        },
        "outputId": "6397085f-fcc3-4429-d9b7-055a53e2815e"
      },
      "source": [
        "create_price(25,35,45,60) #彈性參數"
      ],
      "execution_count": 50,
      "outputs": [
        {
          "output_type": "execute_result",
          "data": {
            "text/plain": [
              "(25, 35, 45, 60)"
            ]
          },
          "metadata": {
            "tags": []
          },
          "execution_count": 50
        }
      ]
    },
    {
      "cell_type": "code",
      "metadata": {
        "id": "TWsAMMEIJ5Bp",
        "colab_type": "code",
        "colab": {}
      },
      "source": [
        "def create_price(*args):\n",
        "  for args in args:\n",
        "    print(\"${}\".format(args))\n"
      ],
      "execution_count": 0,
      "outputs": []
    },
    {
      "cell_type": "code",
      "metadata": {
        "id": "71HvCzTKabwb",
        "colab_type": "code",
        "colab": {
          "base_uri": "https://localhost:8080/",
          "height": 102
        },
        "outputId": "e8b433c8-93fb-4d96-c1b6-7fbf39ee6f22"
      },
      "source": [
        "create_price(25,35,45,60,100) #彈性參數\n"
      ],
      "execution_count": 52,
      "outputs": [
        {
          "output_type": "stream",
          "text": [
            "$25\n",
            "$35\n",
            "$45\n",
            "$60\n",
            "$100\n"
          ],
          "name": "stdout"
        }
      ]
    },
    {
      "cell_type": "code",
      "metadata": {
        "id": "dBg-w4iSabzQ",
        "colab_type": "code",
        "colab": {}
      },
      "source": [
        "def create_price(*args):\n",
        "  for args in args:\n",
        "    print(\"${:3}\".format(args)) #靠第三位對齊\n"
      ],
      "execution_count": 0,
      "outputs": []
    },
    {
      "cell_type": "code",
      "metadata": {
        "id": "seTK25wUab15",
        "colab_type": "code",
        "colab": {
          "base_uri": "https://localhost:8080/",
          "height": 102
        },
        "outputId": "b4dd4246-6794-4f3c-98dd-0ccbef704ee9"
      },
      "source": [
        "create_price(25,35,45,60,100)"
      ],
      "execution_count": 54,
      "outputs": [
        {
          "output_type": "stream",
          "text": [
            "$ 25\n",
            "$ 35\n",
            "$ 45\n",
            "$ 60\n",
            "$100\n"
          ],
          "name": "stdout"
        }
      ]
    },
    {
      "cell_type": "code",
      "metadata": {
        "id": "nRznyMhjab60",
        "colab_type": "code",
        "colab": {}
      },
      "source": [
        "#**kwags#代表 keep words 跟values\n",
        "def print_menu(**kwargs):\n",
        "  return kwargs"
      ],
      "execution_count": 0,
      "outputs": []
    },
    {
      "cell_type": "code",
      "metadata": {
        "id": "4zQl3E1oeMDV",
        "colab_type": "code",
        "colab": {
          "base_uri": "https://localhost:8080/",
          "height": 34
        },
        "outputId": "df5af762-f1fb-488f-8450-c4c81e15c6f2"
      },
      "source": [
        "print_menu(black_tea=25,bubble_tea=35,ice_cream=40)"
      ],
      "execution_count": 57,
      "outputs": [
        {
          "output_type": "execute_result",
          "data": {
            "text/plain": [
              "{'black_tea': 25, 'bubble_tea': 35, 'ice_cream': 40}"
            ]
          },
          "metadata": {
            "tags": []
          },
          "execution_count": 57
        }
      ]
    },
    {
      "cell_type": "code",
      "metadata": {
        "id": "-IiuvXWtemlx",
        "colab_type": "code",
        "colab": {}
      },
      "source": [
        "def print_menu(**kwargs):\n",
        "  for k,v in kwargs.items():#要品項要價格\n",
        "      print(\"${:15}:${:3}\".format(k,v))"
      ],
      "execution_count": 0,
      "outputs": []
    },
    {
      "cell_type": "code",
      "metadata": {
        "id": "VEVfJCXQemoS",
        "colab_type": "code",
        "colab": {
          "base_uri": "https://localhost:8080/",
          "height": 68
        },
        "outputId": "b13c4b36-84d2-440b-941a-fa7a11e30d6d"
      },
      "source": [
        "print_menu(black_tea=25,bubble_tea=35,ice_cream=40)"
      ],
      "execution_count": 63,
      "outputs": [
        {
          "output_type": "stream",
          "text": [
            "$black_tea      :$ 25\n",
            "$bubble_tea     :$ 35\n",
            "$ice_cream      :$ 40\n"
          ],
          "name": "stdout"
        }
      ]
    },
    {
      "cell_type": "code",
      "metadata": {
        "id": "qZPdp5eJfNZz",
        "colab_type": "code",
        "colab": {
          "base_uri": "https://localhost:8080/",
          "height": 1000
        },
        "outputId": "21b59398-018a-496d-8660-e29d9a8f2b9d"
      },
      "source": [
        "help(open)"
      ],
      "execution_count": 64,
      "outputs": [
        {
          "output_type": "stream",
          "text": [
            "Help on built-in function open in module io:\n",
            "\n",
            "open(file, mode='r', buffering=-1, encoding=None, errors=None, newline=None, closefd=True, opener=None)\n",
            "    Open file and return a stream.  Raise IOError upon failure.\n",
            "    \n",
            "    file is either a text or byte string giving the name (and the path\n",
            "    if the file isn't in the current working directory) of the file to\n",
            "    be opened or an integer file descriptor of the file to be\n",
            "    wrapped. (If a file descriptor is given, it is closed when the\n",
            "    returned I/O object is closed, unless closefd is set to False.)\n",
            "    \n",
            "    mode is an optional string that specifies the mode in which the file\n",
            "    is opened. It defaults to 'r' which means open for reading in text\n",
            "    mode.  Other common values are 'w' for writing (truncating the file if\n",
            "    it already exists), 'x' for creating and writing to a new file, and\n",
            "    'a' for appending (which on some Unix systems, means that all writes\n",
            "    append to the end of the file regardless of the current seek position).\n",
            "    In text mode, if encoding is not specified the encoding used is platform\n",
            "    dependent: locale.getpreferredencoding(False) is called to get the\n",
            "    current locale encoding. (For reading and writing raw bytes use binary\n",
            "    mode and leave encoding unspecified.) The available modes are:\n",
            "    \n",
            "    ========= ===============================================================\n",
            "    Character Meaning\n",
            "    --------- ---------------------------------------------------------------\n",
            "    'r'       open for reading (default)\n",
            "    'w'       open for writing, truncating the file first\n",
            "    'x'       create a new file and open it for writing\n",
            "    'a'       open for writing, appending to the end of the file if it exists\n",
            "    'b'       binary mode\n",
            "    't'       text mode (default)\n",
            "    '+'       open a disk file for updating (reading and writing)\n",
            "    'U'       universal newline mode (deprecated)\n",
            "    ========= ===============================================================\n",
            "    \n",
            "    The default mode is 'rt' (open for reading text). For binary random\n",
            "    access, the mode 'w+b' opens and truncates the file to 0 bytes, while\n",
            "    'r+b' opens the file without truncation. The 'x' mode implies 'w' and\n",
            "    raises an `FileExistsError` if the file already exists.\n",
            "    \n",
            "    Python distinguishes between files opened in binary and text modes,\n",
            "    even when the underlying operating system doesn't. Files opened in\n",
            "    binary mode (appending 'b' to the mode argument) return contents as\n",
            "    bytes objects without any decoding. In text mode (the default, or when\n",
            "    't' is appended to the mode argument), the contents of the file are\n",
            "    returned as strings, the bytes having been first decoded using a\n",
            "    platform-dependent encoding or using the specified encoding if given.\n",
            "    \n",
            "    'U' mode is deprecated and will raise an exception in future versions\n",
            "    of Python.  It has no effect in Python 3.  Use newline to control\n",
            "    universal newlines mode.\n",
            "    \n",
            "    buffering is an optional integer used to set the buffering policy.\n",
            "    Pass 0 to switch buffering off (only allowed in binary mode), 1 to select\n",
            "    line buffering (only usable in text mode), and an integer > 1 to indicate\n",
            "    the size of a fixed-size chunk buffer.  When no buffering argument is\n",
            "    given, the default buffering policy works as follows:\n",
            "    \n",
            "    * Binary files are buffered in fixed-size chunks; the size of the buffer\n",
            "      is chosen using a heuristic trying to determine the underlying device's\n",
            "      \"block size\" and falling back on `io.DEFAULT_BUFFER_SIZE`.\n",
            "      On many systems, the buffer will typically be 4096 or 8192 bytes long.\n",
            "    \n",
            "    * \"Interactive\" text files (files for which isatty() returns True)\n",
            "      use line buffering.  Other text files use the policy described above\n",
            "      for binary files.\n",
            "    \n",
            "    encoding is the name of the encoding used to decode or encode the\n",
            "    file. This should only be used in text mode. The default encoding is\n",
            "    platform dependent, but any encoding supported by Python can be\n",
            "    passed.  See the codecs module for the list of supported encodings.\n",
            "    \n",
            "    errors is an optional string that specifies how encoding errors are to\n",
            "    be handled---this argument should not be used in binary mode. Pass\n",
            "    'strict' to raise a ValueError exception if there is an encoding error\n",
            "    (the default of None has the same effect), or pass 'ignore' to ignore\n",
            "    errors. (Note that ignoring encoding errors can lead to data loss.)\n",
            "    See the documentation for codecs.register or run 'help(codecs.Codec)'\n",
            "    for a list of the permitted encoding error strings.\n",
            "    \n",
            "    newline controls how universal newlines works (it only applies to text\n",
            "    mode). It can be None, '', '\\n', '\\r', and '\\r\\n'.  It works as\n",
            "    follows:\n",
            "    \n",
            "    * On input, if newline is None, universal newlines mode is\n",
            "      enabled. Lines in the input can end in '\\n', '\\r', or '\\r\\n', and\n",
            "      these are translated into '\\n' before being returned to the\n",
            "      caller. If it is '', universal newline mode is enabled, but line\n",
            "      endings are returned to the caller untranslated. If it has any of\n",
            "      the other legal values, input lines are only terminated by the given\n",
            "      string, and the line ending is returned to the caller untranslated.\n",
            "    \n",
            "    * On output, if newline is None, any '\\n' characters written are\n",
            "      translated to the system default line separator, os.linesep. If\n",
            "      newline is '' or '\\n', no translation takes place. If newline is any\n",
            "      of the other legal values, any '\\n' characters written are translated\n",
            "      to the given string.\n",
            "    \n",
            "    If closefd is False, the underlying file descriptor will be kept open\n",
            "    when the file is closed. This does not work when a file name is given\n",
            "    and must be True in that case.\n",
            "    \n",
            "    A custom opener can be used by passing a callable as *opener*. The\n",
            "    underlying file descriptor for the file object is then obtained by\n",
            "    calling *opener* with (*file*, *flags*). *opener* must return an open\n",
            "    file descriptor (passing os.open as *opener* results in functionality\n",
            "    similar to passing None).\n",
            "    \n",
            "    open() returns a file object whose type depends on the mode, and\n",
            "    through which the standard file operations such as reading and writing\n",
            "    are performed. When open() is used to open a file in a text mode ('w',\n",
            "    'r', 'wt', 'rt', etc.), it returns a TextIOWrapper. When used to open\n",
            "    a file in a binary mode, the returned class varies: in read binary\n",
            "    mode, it returns a BufferedReader; in write binary and append binary\n",
            "    modes, it returns a BufferedWriter, and in read/write mode, it returns\n",
            "    a BufferedRandom.\n",
            "    \n",
            "    It is also possible to use a string or bytearray as a file for both\n",
            "    reading and writing. For strings StringIO can be used like a file\n",
            "    opened in a text mode, and for bytes a BytesIO can be used like a file\n",
            "    opened in a binary mode.\n",
            "\n"
          ],
          "name": "stdout"
        }
      ]
    },
    {
      "cell_type": "code",
      "metadata": {
        "id": "C3uwo-8KfNja",
        "colab_type": "code",
        "colab": {}
      },
      "source": [
        "f=open(\"starwars.txt\",\"w\")"
      ],
      "execution_count": 0,
      "outputs": []
    },
    {
      "cell_type": "code",
      "metadata": {
        "id": "eOvHbWcWfpTP",
        "colab_type": "code",
        "colab": {}
      },
      "source": [
        "f.close()"
      ],
      "execution_count": 0,
      "outputs": []
    },
    {
      "cell_type": "code",
      "metadata": {
        "id": "BMK0iIh5fpWN",
        "colab_type": "code",
        "colab": {}
      },
      "source": [
        "f=open(\"starwars.txt\",\"w\")\n",
        "f.write(\"starwars:A new hope\\n\")\n",
        "f.close()"
      ],
      "execution_count": 0,
      "outputs": []
    },
    {
      "cell_type": "code",
      "metadata": {
        "id": "EfnSMZoHfpZC",
        "colab_type": "code",
        "colab": {}
      },
      "source": [
        "f = open(\"starwars.txt\", \"a\")\n",
        "f.write(\"Starwars: The Empire Strikes Back\\n\")\n",
        "f.write(\"Starwars: Return of the Jedi\\n\")\n",
        "f.close()"
      ],
      "execution_count": 0,
      "outputs": []
    },
    {
      "cell_type": "code",
      "metadata": {
        "id": "pdAx6Xodfpb4",
        "colab_type": "code",
        "colab": {}
      },
      "source": [
        "f=open(\"starwars.txt\",\"r\")\n",
        "f.read()\n",
        "f.close()"
      ],
      "execution_count": 0,
      "outputs": []
    },
    {
      "cell_type": "code",
      "metadata": {
        "id": "eDoMNcC4fNmw",
        "colab_type": "code",
        "colab": {
          "base_uri": "https://localhost:8080/",
          "height": 119
        },
        "outputId": "e7564590-e7bf-439c-d91a-4ef132f9c494"
      },
      "source": [
        "f=open(\"starwars.txt\",\"r\")\n",
        "for i in f:\n",
        "  print(i)"
      ],
      "execution_count": 78,
      "outputs": [
        {
          "output_type": "stream",
          "text": [
            "starwars:A new hope\n",
            "\n",
            "Starwars: The Empire Strikes BackStarwars: Return of the JediStarwars: The Empire Strikes Back\n",
            "\n",
            "Starwars: Return of the Jedi\n",
            "\n"
          ],
          "name": "stdout"
        }
      ]
    },
    {
      "cell_type": "code",
      "metadata": {
        "id": "kor3xJ13kWId",
        "colab_type": "code",
        "colab": {
          "base_uri": "https://localhost:8080/",
          "height": 68
        },
        "outputId": "a168f042-ce51-405a-ea99-18da297ab830"
      },
      "source": [
        "medium_prices={\n",
        "    'black tea':20,\n",
        "    'green tea':20,\n",
        "    'oolong tea':25,\n",
        "}\n",
        "for v in medium_prices.values(): #平移\n",
        "  print(v+10) "
      ],
      "execution_count": 79,
      "outputs": [
        {
          "output_type": "stream",
          "text": [
            "30\n",
            "30\n",
            "35\n"
          ],
          "name": "stdout"
        }
      ]
    },
    {
      "cell_type": "code",
      "metadata": {
        "id": "XGxZdnu2kWMS",
        "colab_type": "code",
        "colab": {}
      },
      "source": [
        "def add_milk(x):\n",
        "  return x+10\n"
      ],
      "execution_count": 0,
      "outputs": []
    },
    {
      "cell_type": "code",
      "metadata": {
        "id": "-Oq5Ca8okWP9",
        "colab_type": "code",
        "colab": {
          "base_uri": "https://localhost:8080/",
          "height": 68
        },
        "outputId": "8ec099f9-ad78-4532-b73b-9656e30e5bd5"
      },
      "source": [
        "for v in medium_prices.values(): #平移\n",
        "  print(add_milk(v)) "
      ],
      "execution_count": 81,
      "outputs": [
        {
          "output_type": "stream",
          "text": [
            "30\n",
            "30\n",
            "35\n"
          ],
          "name": "stdout"
        }
      ]
    },
    {
      "cell_type": "code",
      "metadata": {
        "id": "U6l1c5YgkWTJ",
        "colab_type": "code",
        "colab": {
          "base_uri": "https://localhost:8080/",
          "height": 34
        },
        "outputId": "06c5c6e7-4c70-4622-9933-9ac65d953897"
      },
      "source": [
        "list(map(add_milk,medium_prices.values()))"
      ],
      "execution_count": 83,
      "outputs": [
        {
          "output_type": "execute_result",
          "data": {
            "text/plain": [
              "[30, 30, 35]"
            ]
          },
          "metadata": {
            "tags": []
          },
          "execution_count": 83
        }
      ]
    },
    {
      "cell_type": "code",
      "metadata": {
        "id": "kbvjSiSKkWVz",
        "colab_type": "code",
        "colab": {
          "base_uri": "https://localhost:8080/",
          "height": 34
        },
        "outputId": "41ed3faf-9327-466e-d05f-8ed8237a173a"
      },
      "source": [
        "list(map(lambda x: x+10,medium_prices.values())) #lambda用過即丟掉，搭配map,filter"
      ],
      "execution_count": 84,
      "outputs": [
        {
          "output_type": "execute_result",
          "data": {
            "text/plain": [
              "[30, 30, 35]"
            ]
          },
          "metadata": {
            "tags": []
          },
          "execution_count": 84
        }
      ]
    },
    {
      "cell_type": "code",
      "metadata": {
        "id": "oIvVwXr5kWZB",
        "colab_type": "code",
        "colab": {
          "base_uri": "https://localhost:8080/",
          "height": 34
        },
        "outputId": "4c5a0525-e2f8-4f73-d6c3-4c8521a03c48"
      },
      "source": [
        "list(map(lambda x : x*9/5+35,[35,34,32]))"
      ],
      "execution_count": 85,
      "outputs": [
        {
          "output_type": "execute_result",
          "data": {
            "text/plain": [
              "[98.0, 96.2, 92.6]"
            ]
          },
          "metadata": {
            "tags": []
          },
          "execution_count": 85
        }
      ]
    },
    {
      "cell_type": "code",
      "metadata": {
        "id": "le0m9sONkWci",
        "colab_type": "code",
        "colab": {
          "base_uri": "https://localhost:8080/",
          "height": 68
        },
        "outputId": "cbd33586-77aa-46d7-c7ca-1164cd5c5986"
      },
      "source": [
        "#應對大量資料，需效能取捨/跟上面答案一樣\n",
        "for t in [35,34,32]:\n",
        "  print(t*9/5+32)"
      ],
      "execution_count": 86,
      "outputs": [
        {
          "output_type": "stream",
          "text": [
            "95.0\n",
            "93.2\n",
            "89.6\n"
          ],
          "name": "stdout"
        }
      ]
    },
    {
      "cell_type": "code",
      "metadata": {
        "id": "1iYg8nImkWfM",
        "colab_type": "code",
        "colab": {}
      },
      "source": [
        ""
      ],
      "execution_count": 0,
      "outputs": []
    },
    {
      "cell_type": "code",
      "metadata": {
        "id": "oEFbgZhIkWj3",
        "colab_type": "code",
        "colab": {}
      },
      "source": [
        ""
      ],
      "execution_count": 0,
      "outputs": []
    }
  ]
}