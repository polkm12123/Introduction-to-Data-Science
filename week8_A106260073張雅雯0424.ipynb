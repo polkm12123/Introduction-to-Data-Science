{
  "nbformat": 4,
  "nbformat_minor": 0,
  "metadata": {
    "colab": {
      "name": "week8_A106260073張雅雯0424",
      "provenance": [],
      "collapsed_sections": [],
      "authorship_tag": "ABX9TyMTuPRxcFPalN3Ae0p96uVe",
      "include_colab_link": true
    },
    "kernelspec": {
      "name": "python3",
      "display_name": "Python 3"
    }
  },
  "cells": [
    {
      "cell_type": "markdown",
      "metadata": {
        "id": "view-in-github",
        "colab_type": "text"
      },
      "source": [
        "<a href=\"https://colab.research.google.com/github/polkm12123/Introduction-to-Data-Science/blob/master/week8_A106260073%E5%BC%B5%E9%9B%85%E9%9B%AF0424.ipynb\" target=\"_parent\"><img src=\"https://colab.research.google.com/assets/colab-badge.svg\" alt=\"Open In Colab\"/></a>"
      ]
    },
    {
      "cell_type": "code",
      "metadata": {
        "id": "Uf2MCLmEvYA0",
        "colab_type": "code",
        "colab": {
          "base_uri": "https://localhost:8080/",
          "height": 68
        },
        "outputId": "294230c5-7e69-4948-fe23-e5b0d1f29868"
      },
      "source": [
        "if True:#三個if的區塊\n",
        "  print(\"First branch\")\n",
        "if True:\n",
        "  print(\"Second branch\")\n",
        "if True:\n",
        "  print(\"Third branch\")\n"
      ],
      "execution_count": 1,
      "outputs": [
        {
          "output_type": "stream",
          "text": [
            "First branch\n",
            "Second branch\n",
            "Third branch\n"
          ],
          "name": "stdout"
        }
      ]
    },
    {
      "cell_type": "code",
      "metadata": {
        "id": "2DKG5a0oxpc4",
        "colab_type": "code",
        "colab": {
          "base_uri": "https://localhost:8080/",
          "height": 34
        },
        "outputId": "8b42335e-2bdb-45ff-9eac-ddc300fddb54"
      },
      "source": [
        "if True: #一個if的區塊\n",
        "  print(\"First branch\")\n",
        "elif True:\n",
        "  print(\"Second branch\")\n",
        "elif True:\n",
        "  print(\"Third branch\")"
      ],
      "execution_count": 2,
      "outputs": [
        {
          "output_type": "stream",
          "text": [
            "First branch\n"
          ],
          "name": "stdout"
        }
      ]
    },
    {
      "cell_type": "code",
      "metadata": {
        "id": "oqv6DIv6xpgW",
        "colab_type": "code",
        "colab": {
          "base_uri": "https://localhost:8080/",
          "height": 34
        },
        "outputId": "82aa9b89-edea-4218-8cf1-874539052c9f"
      },
      "source": [
        "if True: #一個if的區塊\n",
        "  print(\"First branch\")\n",
        "elif True:\n",
        "  print(\"Second branch\")\n",
        "else:\n",
        "  print(\"Third branch\")"
      ],
      "execution_count": 4,
      "outputs": [
        {
          "output_type": "stream",
          "text": [
            "First branch\n"
          ],
          "name": "stdout"
        }
      ]
    },
    {
      "cell_type": "code",
      "metadata": {
        "id": "ZCJcZyvTxpju",
        "colab_type": "code",
        "colab": {
          "base_uri": "https://localhost:8080/",
          "height": 68
        },
        "outputId": "12185457-472d-4303-a26a-bd976b4d28a5"
      },
      "source": [
        "player_height=float(input(\"請輸入球員身高(公尺):\"))\n",
        "player_weight=float(input(\"請輸入球員體重(公斤):\"))\n",
        "player_bmi=player_weight/player_height**2\n",
        "print(player_bmi)"
      ],
      "execution_count": 6,
      "outputs": [
        {
          "output_type": "stream",
          "text": [
            "請輸入球員身高(公尺):1.6\n",
            "請輸入球員體重(公斤):53\n",
            "20.703124999999996\n"
          ],
          "name": "stdout"
        }
      ]
    },
    {
      "cell_type": "code",
      "metadata": {
        "id": "9R2TS-8Bxpm-",
        "colab_type": "code",
        "colab": {
          "base_uri": "https://localhost:8080/",
          "height": 85
        },
        "outputId": "8ee9f875-ce9b-4398-d56a-04d93aa6bf60"
      },
      "source": [
        "player_height=float(input(\"請輸入球員身高(公尺):\"))\n",
        "player_weight=float(input(\"請輸入球員體重(公斤):\"))\n",
        "player_bmi=player_weight/player_height**2\n",
        "bmi_label=None\n",
        "if player_bmi>30:\n",
        "  bmi_label='obese'\n",
        "print(player_bmi)\n",
        "print(bmi_label)"
      ],
      "execution_count": 9,
      "outputs": [
        {
          "output_type": "stream",
          "text": [
            "請輸入球員身高(公尺):1.6\n",
            "請輸入球員體重(公斤):53\n",
            "20.703124999999996\n",
            "None\n"
          ],
          "name": "stdout"
        }
      ]
    },
    {
      "cell_type": "code",
      "metadata": {
        "id": "BZHQP7_oxpqH",
        "colab_type": "code",
        "colab": {
          "base_uri": "https://localhost:8080/",
          "height": 85
        },
        "outputId": "4a456b37-7cc3-44d6-8966-c4e00f66fa55"
      },
      "source": [
        "player_height=float(input(\"請輸入球員身高(公尺):\"))\n",
        "player_weight=float(input(\"請輸入球員體重(公斤):\"))\n",
        "player_bmi=player_weight/player_height**2\n",
        "bmi_label=None\n",
        "if player_bmi>30:\n",
        "  bmi_label='obese'\n",
        "if player_bmi <= 30 and player_bmi>25:\n",
        "  bmi_label='overweight'\n",
        "print(player_bmi)\n",
        "print(bmi_label)"
      ],
      "execution_count": 12,
      "outputs": [
        {
          "output_type": "stream",
          "text": [
            "請輸入球員身高(公尺):1.66\n",
            "請輸入球員體重(公斤):53\n",
            "19.233560749020178\n",
            "None\n"
          ],
          "name": "stdout"
        }
      ]
    },
    {
      "cell_type": "code",
      "metadata": {
        "id": "Uzqg_wMmxptW",
        "colab_type": "code",
        "colab": {
          "base_uri": "https://localhost:8080/",
          "height": 34
        },
        "outputId": "57b70916-7488-4553-8fe1-2e7b13d3487a"
      },
      "source": [
        "True and True"
      ],
      "execution_count": 13,
      "outputs": [
        {
          "output_type": "execute_result",
          "data": {
            "text/plain": [
              "True"
            ]
          },
          "metadata": {
            "tags": []
          },
          "execution_count": 13
        }
      ]
    },
    {
      "cell_type": "code",
      "metadata": {
        "id": "lidyEU4jxpwm",
        "colab_type": "code",
        "colab": {
          "base_uri": "https://localhost:8080/",
          "height": 85
        },
        "outputId": "405717bb-9b11-4e6d-a862-b9a0e80c13c6"
      },
      "source": [
        "player_height=float(input(\"請輸入球員身高(公尺):\"))\n",
        "player_weight=float(input(\"請輸入球員體重(公斤):\"))\n",
        "player_bmi=player_weight/player_height**2\n",
        "bmi_label=None\n",
        "if player_bmi>30:\n",
        "  bmi_label='obese'\n",
        "if player_bmi <= 30 and player_bmi>25:\n",
        "  bmi_label='overweight'\n",
        "if player_bmi <= 25 and player_bmi>18.5:\n",
        "  bmi_label='Normal weight'\n",
        "print(player_bmi)\n",
        "print(bmi_label)"
      ],
      "execution_count": 16,
      "outputs": [
        {
          "output_type": "stream",
          "text": [
            "請輸入球員身高(公尺):1.66\n",
            "請輸入球員體重(公斤):52\n",
            "18.870663376397157\n",
            "Normal weight\n"
          ],
          "name": "stdout"
        }
      ]
    },
    {
      "cell_type": "code",
      "metadata": {
        "id": "upAwXDm2xpz3",
        "colab_type": "code",
        "colab": {
          "base_uri": "https://localhost:8080/",
          "height": 34
        },
        "outputId": "24f375e7-3019-489d-c087-c964743fac84"
      },
      "source": [
        "True and False"
      ],
      "execution_count": 17,
      "outputs": [
        {
          "output_type": "execute_result",
          "data": {
            "text/plain": [
              "False"
            ]
          },
          "metadata": {
            "tags": []
          },
          "execution_count": 17
        }
      ]
    },
    {
      "cell_type": "code",
      "metadata": {
        "id": "fKYe5E8mxp2_",
        "colab_type": "code",
        "colab": {
          "base_uri": "https://localhost:8080/",
          "height": 85
        },
        "outputId": "830bcbea-ba49-4d25-de21-559e57a3a898"
      },
      "source": [
        "player_height=float(input(\"請輸入球員身高(公尺):\"))\n",
        "player_weight=float(input(\"請輸入球員體重(公斤):\"))\n",
        "player_bmi=player_weight/player_height**2\n",
        "bmi_label=None\n",
        "if player_bmi>30:\n",
        "  bmi_label='obese'\n",
        "if player_bmi <= 30 and player_bmi>25:\n",
        "  bmi_label='overweight'\n",
        "if player_bmi <= 25 and player_bmi>18.5:\n",
        "  bmi_label='Normal weight'\n",
        "if player_bmi <= 18.5:\n",
        "  bmi_label='underweight'\n",
        "print(player_bmi)\n",
        "print(bmi_label)"
      ],
      "execution_count": 18,
      "outputs": [
        {
          "output_type": "stream",
          "text": [
            "請輸入球員身高(公尺):1.66\n",
            "請輸入球員體重(公斤):53\n",
            "19.233560749020178\n",
            "Normal weight\n"
          ],
          "name": "stdout"
        }
      ]
    },
    {
      "cell_type": "code",
      "metadata": {
        "id": "p2gEVBFSxp6O",
        "colab_type": "code",
        "colab": {
          "base_uri": "https://localhost:8080/",
          "height": 34
        },
        "outputId": "44d52a4c-3d53-4245-a708-cc76528237a8"
      },
      "source": [
        "True and False"
      ],
      "execution_count": 19,
      "outputs": [
        {
          "output_type": "execute_result",
          "data": {
            "text/plain": [
              "False"
            ]
          },
          "metadata": {
            "tags": []
          },
          "execution_count": 19
        }
      ]
    },
    {
      "cell_type": "code",
      "metadata": {
        "id": "l_GmwJjDxp94",
        "colab_type": "code",
        "colab": {
          "base_uri": "https://localhost:8080/",
          "height": 85
        },
        "outputId": "2821aaf0-3a23-4354-83a2-14e02cd43147"
      },
      "source": [
        "#其中一分支是對的時候，就可以結束\n",
        "player_height=float(input(\"請輸入球員身高(公尺):\"))\n",
        "player_weight=float(input(\"請輸入球員體重(公斤):\"))\n",
        "player_bmi=player_weight/player_height**2\n",
        "bmi_label=None\n",
        "if player_bmi>30:\n",
        "  bmi_label='obese'\n",
        "elif player_bmi <= 30 and player_bmi>25:\n",
        "  bmi_label='overweight'\n",
        "elif player_bmi <= 25 and player_bmi>18.5:\n",
        "  bmi_label='Normal weight'\n",
        "elif player_bmi <= 18.5:\n",
        "  bmi_label='underweight'\n",
        "print(player_bmi)\n",
        "print(bmi_label)"
      ],
      "execution_count": 20,
      "outputs": [
        {
          "output_type": "stream",
          "text": [
            "請輸入球員身高(公尺):1.66\n",
            "請輸入球員體重(公斤):53\n",
            "19.233560749020178\n",
            "Normal weight\n"
          ],
          "name": "stdout"
        }
      ]
    },
    {
      "cell_type": "code",
      "metadata": {
        "id": "Vkn3TMeM4w_a",
        "colab_type": "code",
        "colab": {
          "base_uri": "https://localhost:8080/",
          "height": 85
        },
        "outputId": "54410b3c-279b-4cf2-d6e4-15e111aaba57"
      },
      "source": [
        "#多個if都會跑一次\n",
        "user_int=int(input(\"請輸入一個正整數:\"))\n",
        "print(type(user_int))\n",
        "if user_int %3==0: #3的倍數\n",
        "  print(\"Fizz\")\n",
        "if user_int %5==0:\n",
        "  print(\"Buzz\")"
      ],
      "execution_count": 26,
      "outputs": [
        {
          "output_type": "stream",
          "text": [
            "請輸入一個正整數:15\n",
            "<class 'int'>\n",
            "Fizz\n",
            "Buzz\n"
          ],
          "name": "stdout"
        }
      ]
    },
    {
      "cell_type": "code",
      "metadata": {
        "id": "uPpXsSXS4xFX",
        "colab_type": "code",
        "colab": {
          "base_uri": "https://localhost:8080/",
          "height": 68
        },
        "outputId": "037edaa7-c043-4bd6-d9b0-7b865af54121"
      },
      "source": [
        "user_int=int(input(\"請輸入一個正整數:\"))\n",
        "print(type(user_int))\n",
        "if user_int %3==0: #3的倍數\n",
        "  print(\"Fizz\")\n",
        "elif user_int %5==0:\n",
        "  print(\"Buzz\")"
      ],
      "execution_count": 27,
      "outputs": [
        {
          "output_type": "stream",
          "text": [
            "請輸入一個正整數:15\n",
            "<class 'int'>\n",
            "Fizz\n"
          ],
          "name": "stdout"
        }
      ]
    },
    {
      "cell_type": "code",
      "metadata": {
        "id": "qSZ3s9BP4xIX",
        "colab_type": "code",
        "colab": {
          "base_uri": "https://localhost:8080/",
          "height": 68
        },
        "outputId": "3c92237a-6de1-4acf-ddc7-d09deff76d9b"
      },
      "source": [
        "user_int=int(input(\"請輸入一個正整數:\"))\n",
        "print(type(user_int))\n",
        "if user_int %3==0: #3的倍數\n",
        "  print(\"Fizz Buzz\")\n",
        "elif user_int %5==0:\n",
        "  print(\"Buzz\")"
      ],
      "execution_count": 28,
      "outputs": [
        {
          "output_type": "stream",
          "text": [
            "請輸入一個正整數:3\n",
            "<class 'int'>\n",
            "Fizz Buzz\n"
          ],
          "name": "stdout"
        }
      ]
    },
    {
      "cell_type": "code",
      "metadata": {
        "id": "c8FGSttY4xNT",
        "colab_type": "code",
        "colab": {
          "base_uri": "https://localhost:8080/",
          "height": 68
        },
        "outputId": "237c8560-44ab-4e48-bcd4-7345f5594395"
      },
      "source": [
        "user_int=int(input(\"請輸入一個正整數:\"))\n",
        "print(type(user_int))\n",
        "if user_int %3==0: #3的倍數\n",
        "  print(\"Fizz Buzz\")\n",
        "elif user_int %5==0:\n",
        "  print(\"Buzz\")\n",
        "else: #其餘的\n",
        "  print(\"Fizz\")"
      ],
      "execution_count": 30,
      "outputs": [
        {
          "output_type": "stream",
          "text": [
            "請輸入一個正整數:16\n",
            "<class 'int'>\n",
            "Fizz\n"
          ],
          "name": "stdout"
        }
      ]
    },
    {
      "cell_type": "code",
      "metadata": {
        "id": "kby1np5X4xQP",
        "colab_type": "code",
        "colab": {
          "base_uri": "https://localhost:8080/",
          "height": 68
        },
        "outputId": "43151d79-06cd-43e7-b733-92e160f5cf9e"
      },
      "source": [
        "user_int=int(input(\"請輸入一個正整數:\"))\n",
        "print(type(user_int))\n",
        "if user_int %3==0: #3的倍數\n",
        "  print(\"Fizz Buzz\")\n",
        "elif user_int %5==0:\n",
        "  print(\"Buzz\")\n",
        "else: #其餘的\n",
        "  print(user_int)"
      ],
      "execution_count": 31,
      "outputs": [
        {
          "output_type": "stream",
          "text": [
            "請輸入一個正整數:16\n",
            "<class 'int'>\n",
            "16\n"
          ],
          "name": "stdout"
        }
      ]
    },
    {
      "cell_type": "code",
      "metadata": {
        "id": "2LOdsupSxqBp",
        "colab_type": "code",
        "colab": {
          "base_uri": "https://localhost:8080/",
          "height": 68
        },
        "outputId": "53fe16da-d254-4e70-bd8a-98639759b842"
      },
      "source": [
        "user_int=int(input(\"請輸入一個正整數:\"))\n",
        "print(type(user_int))\n",
        "if user_int %15==0: #3的倍數\n",
        "  print(\"Fizz Buzz\")\n",
        "elif user_int %5==0:\n",
        "  print(\"Buzz\")\n",
        "elif user_int %3==0: #3的倍數\n",
        "  print(\"Fizz Buzz\")\n",
        "else: #其餘的\n",
        "  print(user_int)"
      ],
      "execution_count": 32,
      "outputs": [
        {
          "output_type": "stream",
          "text": [
            "請輸入一個正整數:16\n",
            "<class 'int'>\n",
            "16\n"
          ],
          "name": "stdout"
        }
      ]
    },
    {
      "cell_type": "code",
      "metadata": {
        "id": "PYSPaB2XxqE2",
        "colab_type": "code",
        "colab": {}
      },
      "source": [
        "#布林運用場景\n",
        "#條件判斷\n",
        "#while 迴圈\n",
        "#資料篩選"
      ],
      "execution_count": 0,
      "outputs": []
    },
    {
      "cell_type": "code",
      "metadata": {
        "id": "Yk30IOrTACBM",
        "colab_type": "code",
        "colab": {}
      },
      "source": [
        "#迴圈三要素\n",
        "開始 start，反覆執行的任務要從哪裡出發？\n",
        "停止 stop，反覆執行的任務到何時可以結束？\n",
        "間距 step，反覆執行的任務每一輪的間隔是多少？"
      ],
      "execution_count": 0,
      "outputs": []
    },
    {
      "cell_type": "code",
      "metadata": {
        "id": "YZt_o16IACEO",
        "colab_type": "code",
        "colab": {
          "base_uri": "https://localhost:8080/",
          "height": 187
        },
        "outputId": "681c5ba7-7861-4282-a141-5180de7974db"
      },
      "source": [
        "print(2)\n",
        "print(4)\n",
        "print(6)\n",
        "print(8)\n",
        "print(10)\n",
        "print(12)\n",
        "print(14)\n",
        "print(16)\n",
        "print(18)\n",
        "print(20)\n"
      ],
      "execution_count": 34,
      "outputs": [
        {
          "output_type": "stream",
          "text": [
            "2\n",
            "4\n",
            "6\n",
            "8\n",
            "10\n",
            "12\n",
            "14\n",
            "16\n",
            "18\n",
            "20\n"
          ],
          "name": "stdout"
        }
      ]
    },
    {
      "cell_type": "code",
      "metadata": {
        "id": "m59qfoGkC87G",
        "colab_type": "code",
        "colab": {
          "base_uri": "https://localhost:8080/",
          "height": 187
        },
        "outputId": "601bb791-07ba-4218-fe08-1fad3799c8a3"
      },
      "source": [
        "i=2 #開始\n",
        "while i <=20: #結束\n",
        "  print(i)\n",
        "  i+=2 #間格"
      ],
      "execution_count": 35,
      "outputs": [
        {
          "output_type": "stream",
          "text": [
            "2\n",
            "4\n",
            "6\n",
            "8\n",
            "10\n",
            "12\n",
            "14\n",
            "16\n",
            "18\n",
            "20\n"
          ],
          "name": "stdout"
        }
      ]
    },
    {
      "cell_type": "code",
      "metadata": {
        "id": "NnqgVeyPC8-v",
        "colab_type": "code",
        "colab": {
          "base_uri": "https://localhost:8080/",
          "height": 867
        },
        "outputId": "f11d4c28-a20f-452a-b455-920602f91a29"
      },
      "source": [
        "i=2\n",
        "while i<=100:\n",
        "  print(i)\n",
        "  i+=2"
      ],
      "execution_count": 36,
      "outputs": [
        {
          "output_type": "stream",
          "text": [
            "2\n",
            "4\n",
            "6\n",
            "8\n",
            "10\n",
            "12\n",
            "14\n",
            "16\n",
            "18\n",
            "20\n",
            "22\n",
            "24\n",
            "26\n",
            "28\n",
            "30\n",
            "32\n",
            "34\n",
            "36\n",
            "38\n",
            "40\n",
            "42\n",
            "44\n",
            "46\n",
            "48\n",
            "50\n",
            "52\n",
            "54\n",
            "56\n",
            "58\n",
            "60\n",
            "62\n",
            "64\n",
            "66\n",
            "68\n",
            "70\n",
            "72\n",
            "74\n",
            "76\n",
            "78\n",
            "80\n",
            "82\n",
            "84\n",
            "86\n",
            "88\n",
            "90\n",
            "92\n",
            "94\n",
            "96\n",
            "98\n",
            "100\n"
          ],
          "name": "stdout"
        }
      ]
    },
    {
      "cell_type": "code",
      "metadata": {
        "id": "SXw2MhwEACG4",
        "colab_type": "code",
        "colab": {}
      },
      "source": [
        "假如題目修改為：請判斷一個正整數是否為質數\n",
        "對一個正整數 n 進行「因數分解」\n",
        "將 1 至 n 每個整數都試著去除 n 來判斷是否為因數\n",
        "若只有 2 個因數為質數"
      ],
      "execution_count": 0,
      "outputs": []
    },
    {
      "cell_type": "code",
      "metadata": {
        "id": "4CxRqy2dACJ0",
        "colab_type": "code",
        "colab": {}
      },
      "source": [
        "判斷一個正整數是否為質數\n",
        "開始 start，1\n",
        "停止 stop，n\n",
        "間距 step，1"
      ],
      "execution_count": 0,
      "outputs": []
    },
    {
      "cell_type": "code",
      "metadata": {
        "id": "P9PAFWhBACNi",
        "colab_type": "code",
        "colab": {}
      },
      "source": [
        "#for 需要資料結構\n",
        "#while不需要資料結構\n",
        "#故先學while"
      ],
      "execution_count": 0,
      "outputs": []
    },
    {
      "cell_type": "code",
      "metadata": {
        "id": "3vlH-y3pACQu",
        "colab_type": "code",
        "colab": {
          "base_uri": "https://localhost:8080/",
          "height": 204
        },
        "outputId": "56a59521-0d56-4f8f-84af-e4ade414c7f7"
      },
      "source": [
        "#i反覆變動，循環到i=10\n",
        "i=1\n",
        "while i<=10:\n",
        "  print(i)\n",
        "  i+=1\n",
        "print('While loop is done')"
      ],
      "execution_count": 37,
      "outputs": [
        {
          "output_type": "stream",
          "text": [
            "1\n",
            "2\n",
            "3\n",
            "4\n",
            "5\n",
            "6\n",
            "7\n",
            "8\n",
            "9\n",
            "10\n",
            "While loop is done\n"
          ],
          "name": "stdout"
        }
      ]
    },
    {
      "cell_type": "code",
      "metadata": {
        "id": "JVI5VCsFACTq",
        "colab_type": "code",
        "colab": {
          "base_uri": "https://localhost:8080/",
          "height": 34
        },
        "outputId": "3526b713-f9e6-4bd0-83e6-001e3a08f936"
      },
      "source": [
        "i=1\n",
        "counter=0\n",
        "while i<=10:\n",
        "  counter+=1\n",
        "  i+=1\n",
        "print(counter)"
      ],
      "execution_count": 39,
      "outputs": [
        {
          "output_type": "stream",
          "text": [
            "10\n"
          ],
          "name": "stdout"
        }
      ]
    },
    {
      "cell_type": "code",
      "metadata": {
        "id": "SBCbxSutACWr",
        "colab_type": "code",
        "colab": {
          "base_uri": "https://localhost:8080/",
          "height": 34
        },
        "outputId": "483f9a50-710f-40d1-961a-b1a515ce0db6"
      },
      "source": [
        "#會因為非偶數而跳過第6個變成第7個\n",
        "i=1\n",
        "counter=0\n",
        "while i<=10:\n",
        "  if i %2==0:\n",
        "    counter+=1\n",
        "  i+=1\n",
        "print(counter)"
      ],
      "execution_count": 40,
      "outputs": [
        {
          "output_type": "stream",
          "text": [
            "5\n"
          ],
          "name": "stdout"
        }
      ]
    },
    {
      "cell_type": "code",
      "metadata": {
        "id": "YgKnVw0BACZb",
        "colab_type": "code",
        "colab": {}
      },
      "source": [
        "i=1 #放入的區塊不同 答案也就會不一樣 一直循環\n",
        "counter=0\n",
        "while i<=10:\n",
        "  if i %2==0:\n",
        "    counter+=1\n",
        "    i+=1\n",
        "print(counter)"
      ],
      "execution_count": 0,
      "outputs": []
    },
    {
      "cell_type": "code",
      "metadata": {
        "id": "rSbz6lCOACce",
        "colab_type": "code",
        "colab": {
          "base_uri": "https://localhost:8080/",
          "height": 1000
        },
        "outputId": "02cdfc87-b053-4de6-e492-253ea0936ef1"
      },
      "source": [
        "i=1\n",
        "summation=0\n",
        "while i<=100:\n",
        "  summation+=i\n",
        "  i+=1\n",
        "print(summation)"
      ],
      "execution_count": 42,
      "outputs": [
        {
          "output_type": "stream",
          "text": [
            "1\n",
            "2\n",
            "3\n",
            "4\n",
            "5\n",
            "6\n",
            "7\n",
            "8\n",
            "9\n",
            "10\n",
            "11\n",
            "12\n",
            "13\n",
            "14\n",
            "15\n",
            "16\n",
            "17\n",
            "18\n",
            "19\n",
            "20\n",
            "21\n",
            "22\n",
            "23\n",
            "24\n",
            "25\n",
            "26\n",
            "27\n",
            "28\n",
            "29\n",
            "30\n",
            "31\n",
            "32\n",
            "33\n",
            "34\n",
            "35\n",
            "36\n",
            "37\n",
            "38\n",
            "39\n",
            "40\n",
            "41\n",
            "42\n",
            "43\n",
            "44\n",
            "45\n",
            "46\n",
            "47\n",
            "48\n",
            "49\n",
            "50\n",
            "51\n",
            "52\n",
            "53\n",
            "54\n",
            "55\n",
            "56\n",
            "57\n",
            "58\n",
            "59\n",
            "60\n",
            "61\n",
            "62\n",
            "63\n",
            "64\n",
            "65\n",
            "66\n",
            "67\n",
            "68\n",
            "69\n",
            "70\n",
            "71\n",
            "72\n",
            "73\n",
            "74\n",
            "75\n",
            "76\n",
            "77\n",
            "78\n",
            "79\n",
            "80\n",
            "81\n",
            "82\n",
            "83\n",
            "84\n",
            "85\n",
            "86\n",
            "87\n",
            "88\n",
            "89\n",
            "90\n",
            "91\n",
            "92\n",
            "93\n",
            "94\n",
            "95\n",
            "96\n",
            "97\n",
            "98\n",
            "99\n",
            "100\n"
          ],
          "name": "stdout"
        }
      ]
    },
    {
      "cell_type": "code",
      "metadata": {
        "id": "UfIvoERuACfk",
        "colab_type": "code",
        "colab": {
          "base_uri": "https://localhost:8080/",
          "height": 119
        },
        "outputId": "90b367b9-50cb-494d-8920-455b475bfa2c"
      },
      "source": [
        "x=int(input('請輸入起始的正整數:'))\n",
        "y=int(input('請輸入終止的正整數:'))\n",
        "i=x\n",
        "while i<=y:\n",
        "  if i%2==1:\n",
        "    print(i)\n",
        "  i+=2\n",
        "print(i)"
      ],
      "execution_count": 55,
      "outputs": [
        {
          "output_type": "stream",
          "text": [
            "請輸入起始的正整數:5\n",
            "請輸入終止的正整數:10\n",
            "5\n",
            "7\n",
            "9\n",
            "11\n"
          ],
          "name": "stdout"
        }
      ]
    },
    {
      "cell_type": "code",
      "metadata": {
        "id": "eXtV_gw4ACkk",
        "colab_type": "code",
        "colab": {}
      },
      "source": [
        ""
      ],
      "execution_count": 0,
      "outputs": []
    },
    {
      "cell_type": "code",
      "metadata": {
        "id": "H0GQnzVgxqH5",
        "colab_type": "code",
        "colab": {}
      },
      "source": [
        ""
      ],
      "execution_count": 0,
      "outputs": []
    },
    {
      "cell_type": "code",
      "metadata": {
        "id": "zpmjCYYRxqLf",
        "colab_type": "code",
        "colab": {}
      },
      "source": [
        ""
      ],
      "execution_count": 0,
      "outputs": []
    },
    {
      "cell_type": "code",
      "metadata": {
        "id": "rVVD-_56xqPH",
        "colab_type": "code",
        "colab": {}
      },
      "source": [
        ""
      ],
      "execution_count": 0,
      "outputs": []
    },
    {
      "cell_type": "code",
      "metadata": {
        "id": "7lmN55hNxqSX",
        "colab_type": "code",
        "colab": {}
      },
      "source": [
        ""
      ],
      "execution_count": 0,
      "outputs": []
    },
    {
      "cell_type": "code",
      "metadata": {
        "id": "nX_xs12FxqVe",
        "colab_type": "code",
        "colab": {}
      },
      "source": [
        ""
      ],
      "execution_count": 0,
      "outputs": []
    },
    {
      "cell_type": "code",
      "metadata": {
        "id": "cJNQmxoOxqZa",
        "colab_type": "code",
        "colab": {}
      },
      "source": [
        ""
      ],
      "execution_count": 0,
      "outputs": []
    },
    {
      "cell_type": "code",
      "metadata": {
        "id": "w-PAaWEFxqcb",
        "colab_type": "code",
        "colab": {}
      },
      "source": [
        ""
      ],
      "execution_count": 0,
      "outputs": []
    },
    {
      "cell_type": "code",
      "metadata": {
        "id": "g1fORsnAxqfe",
        "colab_type": "code",
        "colab": {}
      },
      "source": [
        ""
      ],
      "execution_count": 0,
      "outputs": []
    },
    {
      "cell_type": "code",
      "metadata": {
        "id": "KvGhwYYHxqkw",
        "colab_type": "code",
        "colab": {}
      },
      "source": [
        ""
      ],
      "execution_count": 0,
      "outputs": []
    }
  ]
}