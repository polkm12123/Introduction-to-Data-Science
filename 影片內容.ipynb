{
  "nbformat": 4,
  "nbformat_minor": 0,
  "metadata": {
    "colab": {
      "name": "影片內容",
      "provenance": [],
      "authorship_tag": "ABX9TyM4xAyS+H1iKMw05vCcvqss",
      "include_colab_link": true
    },
    "kernelspec": {
      "name": "python3",
      "display_name": "Python 3"
    }
  },
  "cells": [
    {
      "cell_type": "markdown",
      "metadata": {
        "id": "view-in-github",
        "colab_type": "text"
      },
      "source": [
        "<a href=\"https://colab.research.google.com/github/polkm12123/Introduction-to-Data-Science/blob/master/%E5%BD%B1%E7%89%87%E5%85%A7%E5%AE%B9.ipynb\" target=\"_parent\"><img src=\"https://colab.research.google.com/assets/colab-badge.svg\" alt=\"Open In Colab\"/></a>"
      ]
    },
    {
      "cell_type": "code",
      "metadata": {
        "id": "j4HO4oCcWkck",
        "colab_type": "code",
        "colab": {}
      },
      "source": [
        "\n",
        "#https://youtu.be/jiBbaYWBurg"
      ],
      "execution_count": 0,
      "outputs": []
    }
  ]
}