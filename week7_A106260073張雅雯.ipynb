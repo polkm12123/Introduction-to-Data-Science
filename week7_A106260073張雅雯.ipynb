{
  "nbformat": 4,
  "nbformat_minor": 0,
  "metadata": {
    "colab": {
      "name": "week7_A106260073張雅雯",
      "provenance": [],
      "collapsed_sections": [],
      "authorship_tag": "ABX9TyMa5oJit+5s+9Uw6sxfEjC1",
      "include_colab_link": true
    },
    "kernelspec": {
      "name": "python3",
      "display_name": "Python 3"
    }
  },
  "cells": [
    {
      "cell_type": "markdown",
      "metadata": {
        "id": "view-in-github",
        "colab_type": "text"
      },
      "source": [
        "<a href=\"https://colab.research.google.com/github/polkm12123/Introduction-to-Data-Science/blob/master/week7_A106260073%E5%BC%B5%E9%9B%85%E9%9B%AF.ipynb\" target=\"_parent\"><img src=\"https://colab.research.google.com/assets/colab-badge.svg\" alt=\"Open In Colab\"/></a>"
      ]
    },
    {
      "cell_type": "code",
      "metadata": {
        "id": "sH7SKZeVrBxR",
        "colab_type": "code",
        "colab": {
          "base_uri": "https://localhost:8080/",
          "height": 51
        },
        "outputId": "5cfc9591-ff05-4cdd-cf04-1d215cd7a009"
      },
      "source": [
        "last_id_digit=input(\"請輸入身分證字號的尾數:\")\n",
        "last_id_digit=int(last_id_digit)\n",
        "remainder=last_id_digit %2\n",
        "print(\"身分證字號尾數除以2的餘數為:{}\".format(remainder))"
      ],
      "execution_count": 1,
      "outputs": [
        {
          "output_type": "stream",
          "text": [
            "請輸入身分證字號的尾數:2\n",
            "身分證字號尾數除以2的餘數為:0\n"
          ],
          "name": "stdout"
        }
      ]
    },
    {
      "cell_type": "code",
      "metadata": {
        "id": "hW9Xbb5pvc9_",
        "colab_type": "code",
        "colab": {
          "base_uri": "https://localhost:8080/",
          "height": 51
        },
        "outputId": "550e888d-4b8b-4228-9d3c-82dc332dea06"
      },
      "source": [
        "last_id_digit=input(\"請輸入身分證字號的尾數:\")\n",
        "last_id_digit=int(last_id_digit)\n",
        "remainder=last_id_digit %2\n",
        "#條件判斷(begin)\n",
        "if remainder==0: #bool 判斷結果\n",
        "  ans=\"偶數\"\n",
        "else:\n",
        "  ans=\"奇數\"\n",
        "  #條件判斷(end)\n",
        "print(\"身分證字號尾數除以2的餘數為:{}，因此為{}\".format(remainder,ans))"
      ],
      "execution_count": 4,
      "outputs": [
        {
          "output_type": "stream",
          "text": [
            "請輸入身分證字號的尾數:9\n",
            "身分證字號尾數除以2的餘數為:1，因此為奇數\n"
          ],
          "name": "stdout"
        }
      ]
    },
    {
      "cell_type": "code",
      "metadata": {
        "id": "baWQUN2OvdAl",
        "colab_type": "code",
        "colab": {
          "base_uri": "https://localhost:8080/",
          "height": 51
        },
        "outputId": "9e46f64f-42a9-41aa-cb90-b374a771d29c"
      },
      "source": [
        "print(ord('A'))\n",
        "print(chr(65)) #chr()意思是用一個整數做參數，返回對應的字符"
      ],
      "execution_count": 10,
      "outputs": [
        {
          "output_type": "stream",
          "text": [
            "65\n",
            "A\n"
          ],
          "name": "stdout"
        }
      ]
    },
    {
      "cell_type": "code",
      "metadata": {
        "id": "WtuhOUmwwKkf",
        "colab_type": "code",
        "colab": {
          "base_uri": "https://localhost:8080/",
          "height": 34
        },
        "outputId": "8e8327b4-cfcd-4b30-ca37-0f547ec885a1"
      },
      "source": [
        "print(ord('Z'))"
      ],
      "execution_count": 6,
      "outputs": [
        {
          "output_type": "stream",
          "text": [
            "90\n"
          ],
          "name": "stdout"
        }
      ]
    },
    {
      "cell_type": "code",
      "metadata": {
        "id": "6K3RhfNqwKnF",
        "colab_type": "code",
        "colab": {
          "base_uri": "https://localhost:8080/",
          "height": 34
        },
        "outputId": "76259034-2573-47fa-8dfc-07a834d4f30f"
      },
      "source": [
        "print(ord('z'))"
      ],
      "execution_count": 7,
      "outputs": [
        {
          "output_type": "stream",
          "text": [
            "122\n"
          ],
          "name": "stdout"
        }
      ]
    },
    {
      "cell_type": "code",
      "metadata": {
        "id": "1GD44hmtwKpY",
        "colab_type": "code",
        "colab": {
          "base_uri": "https://localhost:8080/",
          "height": 34
        },
        "outputId": "99845123-addc-4aa6-fa0b-f8ebdd65f528"
      },
      "source": [
        "print(ord('a'))"
      ],
      "execution_count": 8,
      "outputs": [
        {
          "output_type": "stream",
          "text": [
            "97\n"
          ],
          "name": "stdout"
        }
      ]
    },
    {
      "cell_type": "code",
      "metadata": {
        "id": "nyUBpREOwKsF",
        "colab_type": "code",
        "colab": {
          "base_uri": "https://localhost:8080/",
          "height": 34
        },
        "outputId": "f461a119-997e-4b56-9dfd-2242cda35c5b"
      },
      "source": [
        "print(chr(65))"
      ],
      "execution_count": 9,
      "outputs": [
        {
          "output_type": "stream",
          "text": [
            "A\n"
          ],
          "name": "stdout"
        }
      ]
    },
    {
      "cell_type": "code",
      "metadata": {
        "id": "mp5Gd2PvxFyv",
        "colab_type": "code",
        "colab": {
          "base_uri": "https://localhost:8080/",
          "height": 459
        },
        "outputId": "13e2985c-b87a-46bc-c373-6d9c7de9e02e"
      },
      "source": [
        "#while 迴圈(begin)\n",
        "i=65\n",
        "while i<=90:#bool判斷結果\n",
        "  print(\"character;{},Order;{},Binary{}\".format(chr(i),i,bin(i)))\n",
        "  i+=1\n",
        "#while 迴圈(end)"
      ],
      "execution_count": 13,
      "outputs": [
        {
          "output_type": "stream",
          "text": [
            "character;A,Order;65,Binary0b1000001\n",
            "character;B,Order;66,Binary0b1000010\n",
            "character;C,Order;67,Binary0b1000011\n",
            "character;D,Order;68,Binary0b1000100\n",
            "character;E,Order;69,Binary0b1000101\n",
            "character;F,Order;70,Binary0b1000110\n",
            "character;G,Order;71,Binary0b1000111\n",
            "character;H,Order;72,Binary0b1001000\n",
            "character;I,Order;73,Binary0b1001001\n",
            "character;J,Order;74,Binary0b1001010\n",
            "character;K,Order;75,Binary0b1001011\n",
            "character;L,Order;76,Binary0b1001100\n",
            "character;M,Order;77,Binary0b1001101\n",
            "character;N,Order;78,Binary0b1001110\n",
            "character;O,Order;79,Binary0b1001111\n",
            "character;P,Order;80,Binary0b1010000\n",
            "character;Q,Order;81,Binary0b1010001\n",
            "character;R,Order;82,Binary0b1010010\n",
            "character;S,Order;83,Binary0b1010011\n",
            "character;T,Order;84,Binary0b1010100\n",
            "character;U,Order;85,Binary0b1010101\n",
            "character;V,Order;86,Binary0b1010110\n",
            "character;W,Order;87,Binary0b1010111\n",
            "character;X,Order;88,Binary0b1011000\n",
            "character;Y,Order;89,Binary0b1011001\n",
            "character;Z,Order;90,Binary0b1011010\n"
          ],
          "name": "stdout"
        }
      ]
    },
    {
      "cell_type": "code",
      "metadata": {
        "id": "FXFWgtHLxF14",
        "colab_type": "code",
        "colab": {
          "base_uri": "https://localhost:8080/",
          "height": 34
        },
        "outputId": "4478e47c-d3c6-4172-b131-8db65f5771a4"
      },
      "source": [
        "member_ages=[18,20,22,25,32,42,65]\n",
        "#資料篩選(begin)\n",
        "list(filter(lambda x:x<=25 and x>=18, member_ages)) #bool判斷結果\n",
        "#lambda是指匿名函數，需要一個函数，但是又不想費神去命名一個函数"
      ],
      "execution_count": 14,
      "outputs": [
        {
          "output_type": "execute_result",
          "data": {
            "text/plain": [
              "[18, 20, 22, 25]"
            ]
          },
          "metadata": {
            "tags": []
          },
          "execution_count": 14
        }
      ]
    },
    {
      "cell_type": "code",
      "metadata": {
        "id": "ORe8kmsTxF4g",
        "colab_type": "code",
        "colab": {
          "base_uri": "https://localhost:8080/",
          "height": 34
        },
        "outputId": "0bd10515-d91d-4133-c4d6-a3e871c947d9"
      },
      "source": [
        "#if expr:(expr被評估為true)\n",
        "if True:\n",
        "  print(\"判斷為真時印出\")"
      ],
      "execution_count": 15,
      "outputs": [
        {
          "output_type": "stream",
          "text": [
            "判斷為真時印出\n"
          ],
          "name": "stdout"
        }
      ]
    },
    {
      "cell_type": "code",
      "metadata": {
        "id": "pbX-X_NU2vwT",
        "colab_type": "code",
        "colab": {}
      },
      "source": [
        "#差別\n",
        "#兩個差別在街True or False\n",
        "#答案是否都印出來或者只印出一個\n",
        "#if 只執行True不執行False"
      ],
      "execution_count": 0,
      "outputs": []
    },
    {
      "cell_type": "code",
      "metadata": {
        "id": "vggng6ZkxF69",
        "colab_type": "code",
        "colab": {
          "base_uri": "https://localhost:8080/",
          "height": 68
        },
        "outputId": "4fbe0be4-4d22-4483-810f-114659d5c600"
      },
      "source": [
        "if True:#if:接在後面的是True or False,True會執行\n",
        "  print(5566)\n",
        "  print(1122)\n",
        "print(7788)"
      ],
      "execution_count": 20,
      "outputs": [
        {
          "output_type": "stream",
          "text": [
            "5566\n",
            "1122\n",
            "7788\n"
          ],
          "name": "stdout"
        }
      ]
    },
    {
      "cell_type": "code",
      "metadata": {
        "id": "Vc6DbYo6xF9M",
        "colab_type": "code",
        "colab": {
          "base_uri": "https://localhost:8080/",
          "height": 34
        },
        "outputId": "7897ea02-48f1-4529-d9ab-d1681660f4e2"
      },
      "source": [
        "if False:\n",
        "  print(5566)\n",
        "  print(1122)\n",
        "print(7788)"
      ],
      "execution_count": 21,
      "outputs": [
        {
          "output_type": "stream",
          "text": [
            "7788\n"
          ],
          "name": "stdout"
        }
      ]
    },
    {
      "cell_type": "code",
      "metadata": {
        "id": "3mSAF04hxF_X",
        "colab_type": "code",
        "colab": {
          "base_uri": "https://localhost:8080/",
          "height": 68
        },
        "outputId": "84cbdbde-1826-43b9-a8da-cb48f901ff78"
      },
      "source": [
        "movie_title=input('請輸入電影的名稱:')\n",
        "movie_rating=input(\"請輸入電影的評等:\")\n",
        "movie_rating=float(movie_rating)\n",
        "\n",
        "if movie_rating >7:\n",
        "  print(\"{}的評分為{}分值得去看!\".format(movie_title,movie_rating))\n",
        "if movie_rating<=7:\n",
        "  print(\"{}的評分為{}分不值得去看!\".format(movie_title,movie_rating))"
      ],
      "execution_count": 26,
      "outputs": [
        {
          "output_type": "stream",
          "text": [
            "請輸入電影的名稱:陽光普照\n",
            "請輸入電影的評等:6\n",
            "陽光普照的評分為6.0分不值得去看!\n"
          ],
          "name": "stdout"
        }
      ]
    },
    {
      "cell_type": "code",
      "metadata": {
        "id": "v-Yb6oRhxGBR",
        "colab_type": "code",
        "colab": {
          "base_uri": "https://localhost:8080/",
          "height": 34
        },
        "outputId": "1364de9c-005d-4428-bf5c-de71f625e810"
      },
      "source": [
        "movie_rating>7"
      ],
      "execution_count": 27,
      "outputs": [
        {
          "output_type": "execute_result",
          "data": {
            "text/plain": [
              "False"
            ]
          },
          "metadata": {
            "tags": []
          },
          "execution_count": 27
        }
      ]
    },
    {
      "cell_type": "code",
      "metadata": {
        "id": "MTNliP9xxGD4",
        "colab_type": "code",
        "colab": {
          "base_uri": "https://localhost:8080/",
          "height": 102
        },
        "outputId": "1bc37626-7ccd-4436-8336-dc0c70a94b79"
      },
      "source": [
        "monthly_income=input(\"請輸入月薪:\")\n",
        "monthly_income=int(monthly_income)\n",
        "saving_account=input(\"請輸入存款:\")\n",
        "saving_account=int(saving_account)\n",
        "print(type(monthly_income))\n",
        "print(type(saving_account))\n",
        "ans=\"\"\n",
        "#條件判斷(begin)\n",
        "if monthly_income >40000:\n",
        "  ans='發信用卡'\n",
        "if saving_account >500000:\n",
        "  ans=\"發信用卡\"\n",
        " #條件判斷(end)\n",
        "print(ans)"
      ],
      "execution_count": 46,
      "outputs": [
        {
          "output_type": "stream",
          "text": [
            "請輸入月薪:45678\n",
            "請輸入存款:444444\n",
            "<class 'int'>\n",
            "<class 'int'>\n",
            "發信用卡\n"
          ],
          "name": "stdout"
        }
      ]
    },
    {
      "cell_type": "code",
      "metadata": {
        "id": "_JeTHHCZxGH2",
        "colab_type": "code",
        "colab": {
          "base_uri": "https://localhost:8080/",
          "height": 34
        },
        "outputId": "1fbda1cd-9493-4756-8017-613f888a5f41"
      },
      "source": [
        "monthly_income>40000\n"
      ],
      "execution_count": 44,
      "outputs": [
        {
          "output_type": "execute_result",
          "data": {
            "text/plain": [
              "True"
            ]
          },
          "metadata": {
            "tags": []
          },
          "execution_count": 44
        }
      ]
    },
    {
      "cell_type": "code",
      "metadata": {
        "id": "CsGzcXIvxGLV",
        "colab_type": "code",
        "colab": {
          "base_uri": "https://localhost:8080/",
          "height": 68
        },
        "outputId": "134f3a5b-2190-40a5-b5c3-7c9a9981c0a2"
      },
      "source": [
        "monthly_income=input(\"請輸入月薪:\")\n",
        "monthly_income=int(monthly_income)\n",
        "saving_account=input(\"請輸入存款:\")\n",
        "saving_account=int(saving_account)\n",
        "print(monthly_income >40000 and saving_account>500000)"
      ],
      "execution_count": 48,
      "outputs": [
        {
          "output_type": "stream",
          "text": [
            "請輸入月薪:20000\n",
            "請輸入存款:200000\n",
            "False\n"
          ],
          "name": "stdout"
        }
      ]
    },
    {
      "cell_type": "code",
      "metadata": {
        "id": "xKwpIfn1xGOG",
        "colab_type": "code",
        "colab": {
          "base_uri": "https://localhost:8080/",
          "height": 68
        },
        "outputId": "1ce62d92-1617-4722-b2f1-2213731a6d50"
      },
      "source": [
        "monthly_income=input(\"請輸入月薪:\")\n",
        "monthly_income=int(monthly_income)\n",
        "saving_account=input(\"請輸入存款:\")\n",
        "saving_account=int(saving_account)\n",
        "print(monthly_income >40000 and saving_account>500000)"
      ],
      "execution_count": 49,
      "outputs": [
        {
          "output_type": "stream",
          "text": [
            "請輸入月薪:41000\n",
            "請輸入存款:200000\n",
            "False\n"
          ],
          "name": "stdout"
        }
      ]
    },
    {
      "cell_type": "code",
      "metadata": {
        "id": "fYqyPKGswKuN",
        "colab_type": "code",
        "colab": {
          "base_uri": "https://localhost:8080/",
          "height": 68
        },
        "outputId": "530a1e2c-4968-48be-c578-ba290a9f91fc"
      },
      "source": [
        "monthly_income=input(\"請輸入月薪:\")\n",
        "monthly_income=int(monthly_income)\n",
        "saving_account=input(\"請輸入存款:\")\n",
        "saving_account=int(saving_account)\n",
        "ans=\"\"\n",
        "if monthly_income >40000 or saving_account>500000:\n",
        "  ans=\"發信用卡\"\n",
        "print(ans)"
      ],
      "execution_count": 52,
      "outputs": [
        {
          "output_type": "stream",
          "text": [
            "請輸入月薪:49999\n",
            "請輸入存款:499999\n",
            "發信用卡\n"
          ],
          "name": "stdout"
        }
      ]
    },
    {
      "cell_type": "code",
      "metadata": {
        "id": "0Tb9QdktwKwZ",
        "colab_type": "code",
        "colab": {
          "base_uri": "https://localhost:8080/",
          "height": 68
        },
        "outputId": "e2103ece-f32e-41c7-a652-6fbeeacfd26d"
      },
      "source": [
        "#else:判斷code block 會把反面那段完成\n",
        "movie_title=input('請輸入電影的名稱:')\n",
        "movie_rating=input(\"請輸入電影的評等:\")\n",
        "movie_rating=float(movie_rating)\n",
        "\n",
        "if movie_rating >7:\n",
        "  print(\"{}的評分為{}分值得去看!\".format(movie_title,movie_rating))\n",
        "else:\n",
        "  print(\"{}的評分為{}分不值得去看!\".format(movie_title,movie_rating))"
      ],
      "execution_count": 53,
      "outputs": [
        {
          "output_type": "stream",
          "text": [
            "請輸入電影的名稱:陽光普照\n",
            "請輸入電影的評等:5.5\n",
            "陽光普照的評分為5.5分不值得去看!\n"
          ],
          "name": "stdout"
        }
      ]
    },
    {
      "cell_type": "code",
      "metadata": {
        "id": "eKsWlZs1wK1N",
        "colab_type": "code",
        "colab": {
          "base_uri": "https://localhost:8080/",
          "height": 68
        },
        "outputId": "5f3a8f1b-5dd1-4c66-d15b-a387208b0972"
      },
      "source": [
        "user_int=input(\"請輸入一個正數:\")\n",
        "user_int=input(\"請輸入一個正整數:\")\n",
        "user_int=int(user_int)\n",
        "if user_int%2==0: \n",
        "  ans=\"偶數\"\n",
        "else:\n",
        "  ans=\"奇數\"\n",
        "print(ans)"
      ],
      "execution_count": 61,
      "outputs": [
        {
          "output_type": "stream",
          "text": [
            "請輸入一個正數:5566\n",
            "請輸入一個正整數:56\n",
            "偶數\n"
          ],
          "name": "stdout"
        }
      ]
    },
    {
      "cell_type": "code",
      "metadata": {
        "id": "pyg60dhMwK4P",
        "colab_type": "code",
        "colab": {
          "base_uri": "https://localhost:8080/",
          "height": 51
        },
        "outputId": "40cff477-aaae-41a2-df7c-64caabce38d0"
      },
      "source": [
        "user_int=input(\"請輸入一個正數:\")\n",
        "user_int=int(user_int)\n",
        "if user_int%2==0: \n",
        "  ans=\"偶數\"\n",
        "if user_int%2==1:\n",
        "  ans=\"奇數\"\n",
        "print(ans)"
      ],
      "execution_count": 64,
      "outputs": [
        {
          "output_type": "stream",
          "text": [
            "請輸入一個正數:55\n",
            "奇數\n"
          ],
          "name": "stdout"
        }
      ]
    },
    {
      "cell_type": "code",
      "metadata": {
        "id": "VTW9rHa1wK7H",
        "colab_type": "code",
        "colab": {
          "base_uri": "https://localhost:8080/",
          "height": 68
        },
        "outputId": "ce77c724-87e5-46b7-cd77-32d9c3ffb21c"
      },
      "source": [
        "id_last_digit=input(\"請輸入身分證字號的尾數:\")\n",
        "print(type(id_last_digit))\n",
        "id_last_digit=int(id_last_digit)\n",
        "if id_last_digit%2==0:\n",
        "  ans=\"星期二四六日領\"\n",
        "else:\n",
        "  ans=\"星期一三五日領\"\n",
        "print(ans)"
      ],
      "execution_count": 67,
      "outputs": [
        {
          "output_type": "stream",
          "text": [
            "請輸入身分證字號的尾數:6\n",
            "<class 'str'>\n",
            "星期二四六日領\n"
          ],
          "name": "stdout"
        }
      ]
    },
    {
      "cell_type": "code",
      "metadata": {
        "id": "sc5_6K32wK9l",
        "colab_type": "code",
        "colab": {
          "base_uri": "https://localhost:8080/",
          "height": 34
        },
        "outputId": "b0cdbcaf-13bb-4193-c065-bdfb92738724"
      },
      "source": [
        "id_number=input(\"請輸入身分證字號:\")"
      ],
      "execution_count": 68,
      "outputs": [
        {
          "output_type": "stream",
          "text": [
            "請輸入身分證字號:a124567485\n"
          ],
          "name": "stdout"
        }
      ]
    },
    {
      "cell_type": "code",
      "metadata": {
        "id": "kK6B3jMwwK_-",
        "colab_type": "code",
        "colab": {
          "base_uri": "https://localhost:8080/",
          "height": 153
        },
        "outputId": "eb48298f-6ef1-42a4-e989-d9d26b87fc23"
      },
      "source": [
        "help(id)"
      ],
      "execution_count": 69,
      "outputs": [
        {
          "output_type": "stream",
          "text": [
            "Help on built-in function id in module builtins:\n",
            "\n",
            "id(obj, /)\n",
            "    Return the identity of an object.\n",
            "    \n",
            "    This is guaranteed to be unique among simultaneously existing objects.\n",
            "    (CPython uses the object's memory address.)\n",
            "\n"
          ],
          "name": "stdout"
        }
      ]
    },
    {
      "cell_type": "code",
      "metadata": {
        "id": "8F9u-TNvwLCX",
        "colab_type": "code",
        "colab": {
          "base_uri": "https://localhost:8080/",
          "height": 51
        },
        "outputId": "74430ce7-f1bc-4d10-9e41-632017df923c"
      },
      "source": [
        "id_number=input(\"請輸入身分證字號:\")\n",
        "id_last_digit=id_number[-1]\n",
        "id_last_digit=int(id_last_digit)\n",
        "if id_last_digit%2==0:\n",
        "  ans=\"星期二四六日領\"\n",
        "else:\n",
        "  ans=\"星期一三五日領\"\n",
        "print(ans)"
      ],
      "execution_count": 73,
      "outputs": [
        {
          "output_type": "stream",
          "text": [
            "請輸入身分證字號:A123456789\n",
            "星期一三五日領\n"
          ],
          "name": "stdout"
        }
      ]
    },
    {
      "cell_type": "code",
      "metadata": {
        "id": "iqgsJGCBwLE_",
        "colab_type": "code",
        "colab": {
          "base_uri": "https://localhost:8080/",
          "height": 68
        },
        "outputId": "1c70fcea-7b9d-4d57-d919-e57671fc40dc"
      },
      "source": [
        "id_number=input(\"請輸入身分證字號:\")\n",
        "id_second_digit=id_number[1]\n",
        "print(id_second_digit)\n",
        "if id_second_digit=='1':\n",
        "  gender='Male'\n",
        "else:\n",
        "  gender='Female'\n",
        "print(gender)"
      ],
      "execution_count": 75,
      "outputs": [
        {
          "output_type": "stream",
          "text": [
            "請輸入身分證字號:A123456789\n",
            "1\n",
            "Male\n"
          ],
          "name": "stdout"
        }
      ]
    },
    {
      "cell_type": "code",
      "metadata": {
        "id": "rAHf4BgjwLHd",
        "colab_type": "code",
        "colab": {
          "base_uri": "https://localhost:8080/",
          "height": 68
        },
        "outputId": "22770610-f245-4c69-b121-b74d3764de40"
      },
      "source": [
        "movie_title=input('請輸入電影的名稱:')\n",
        "movie_rating=input(\"請輸入電影的評等:\")\n",
        "movie_rating=float(movie_rating)\n",
        "\n",
        "if movie_rating>7:\n",
        "  print(\"去電影院看{}\".format(movie_title))\n",
        "elif movie_rating>6:\n",
        "    print(\"去家裡看{}\".format(movie_title))\n",
        "else:\n",
        "  print(\"不要看{}\".format(movie_title))\n"
      ],
      "execution_count": 80,
      "outputs": [
        {
          "output_type": "stream",
          "text": [
            "請輸入電影的名稱:環大西洋\n",
            "請輸入電影的評等:1.6\n",
            "不要看環大西洋\n"
          ],
          "name": "stdout"
        }
      ]
    },
    {
      "cell_type": "code",
      "metadata": {
        "id": "XG0jYznlwLKG",
        "colab_type": "code",
        "colab": {
          "base_uri": "https://localhost:8080/",
          "height": 68
        },
        "outputId": "0e6e00c3-a8a6-479b-823a-5bbad017fc10"
      },
      "source": [
        "height=input(\"請輸入身高:\")\n",
        "height=int(height)\n",
        "kilo=input(\"請輸入體重:\")\n",
        "kilo=float(kilo)\n",
        "bmi=kilo/(height*0.01)**2\n",
        "if bmi>30:\n",
        "  ans=\"obese\"\n",
        "elif bmi>25:\n",
        "  ans=\"overweight\"\n",
        "elif bmi>18.5:\n",
        "  ans=\"Normal range\"\n",
        "else:\n",
        "  ans=\"underweight\"\n",
        "print(ans)"
      ],
      "execution_count": 94,
      "outputs": [
        {
          "output_type": "stream",
          "text": [
            "請輸入身高:166\n",
            "請輸入體重:52.5\n",
            "Normal range\n"
          ],
          "name": "stdout"
        }
      ]
    },
    {
      "cell_type": "code",
      "metadata": {
        "id": "_EgjoSeJwLM4",
        "colab_type": "code",
        "colab": {}
      },
      "source": [
        ""
      ],
      "execution_count": 0,
      "outputs": []
    },
    {
      "cell_type": "code",
      "metadata": {
        "id": "aezBafMnwLO4",
        "colab_type": "code",
        "colab": {}
      },
      "source": [
        ""
      ],
      "execution_count": 0,
      "outputs": []
    },
    {
      "cell_type": "code",
      "metadata": {
        "id": "3GLJqOGhvdC-",
        "colab_type": "code",
        "colab": {}
      },
      "source": [
        ""
      ],
      "execution_count": 0,
      "outputs": []
    },
    {
      "cell_type": "code",
      "metadata": {
        "id": "U3HXpgjHvdFY",
        "colab_type": "code",
        "colab": {}
      },
      "source": [
        ""
      ],
      "execution_count": 0,
      "outputs": []
    },
    {
      "cell_type": "code",
      "metadata": {
        "id": "LOaL-8egvdJ2",
        "colab_type": "code",
        "colab": {}
      },
      "source": [
        ""
      ],
      "execution_count": 0,
      "outputs": []
    },
    {
      "cell_type": "code",
      "metadata": {
        "id": "e1er62YDvdL9",
        "colab_type": "code",
        "colab": {}
      },
      "source": [
        ""
      ],
      "execution_count": 0,
      "outputs": []
    },
    {
      "cell_type": "code",
      "metadata": {
        "id": "ObIEK3JtvdPF",
        "colab_type": "code",
        "colab": {}
      },
      "source": [
        ""
      ],
      "execution_count": 0,
      "outputs": []
    },
    {
      "cell_type": "code",
      "metadata": {
        "id": "mlUWHdKJvdRW",
        "colab_type": "code",
        "colab": {}
      },
      "source": [
        ""
      ],
      "execution_count": 0,
      "outputs": []
    },
    {
      "cell_type": "code",
      "metadata": {
        "id": "-NyLXI-vvdUP",
        "colab_type": "code",
        "colab": {}
      },
      "source": [
        ""
      ],
      "execution_count": 0,
      "outputs": []
    },
    {
      "cell_type": "code",
      "metadata": {
        "id": "bBSA-TXfvdWl",
        "colab_type": "code",
        "colab": {}
      },
      "source": [
        ""
      ],
      "execution_count": 0,
      "outputs": []
    },
    {
      "cell_type": "code",
      "metadata": {
        "id": "IRsV2h21vdZG",
        "colab_type": "code",
        "colab": {}
      },
      "source": [
        ""
      ],
      "execution_count": 0,
      "outputs": []
    },
    {
      "cell_type": "code",
      "metadata": {
        "id": "QC_RZCYlvdbS",
        "colab_type": "code",
        "colab": {}
      },
      "source": [
        ""
      ],
      "execution_count": 0,
      "outputs": []
    },
    {
      "cell_type": "code",
      "metadata": {
        "id": "pNTewCAMvddm",
        "colab_type": "code",
        "colab": {}
      },
      "source": [
        ""
      ],
      "execution_count": 0,
      "outputs": []
    },
    {
      "cell_type": "code",
      "metadata": {
        "id": "neKE-UzEvdgE",
        "colab_type": "code",
        "colab": {}
      },
      "source": [
        ""
      ],
      "execution_count": 0,
      "outputs": []
    },
    {
      "cell_type": "code",
      "metadata": {
        "id": "LXG_waEVvdiO",
        "colab_type": "code",
        "colab": {}
      },
      "source": [
        ""
      ],
      "execution_count": 0,
      "outputs": []
    },
    {
      "cell_type": "code",
      "metadata": {
        "id": "Yl5U3nhyvdk3",
        "colab_type": "code",
        "colab": {}
      },
      "source": [
        ""
      ],
      "execution_count": 0,
      "outputs": []
    },
    {
      "cell_type": "code",
      "metadata": {
        "id": "ojZm_hC0vdnW",
        "colab_type": "code",
        "colab": {}
      },
      "source": [
        ""
      ],
      "execution_count": 0,
      "outputs": []
    }
  ]
}