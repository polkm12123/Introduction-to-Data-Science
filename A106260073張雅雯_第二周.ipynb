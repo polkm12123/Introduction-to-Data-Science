{
  "nbformat": 4,
  "nbformat_minor": 0,
  "metadata": {
    "colab": {
      "name": "A106260073張雅雯_第二周.ipynb",
      "provenance": [],
      "collapsed_sections": [],
      "authorship_tag": "ABX9TyNUMeoRIpZ5586VHIsUG3zU",
      "include_colab_link": true
    },
    "kernelspec": {
      "name": "python3",
      "display_name": "Python 3"
    }
  },
  "cells": [
    {
      "cell_type": "markdown",
      "metadata": {
        "id": "view-in-github",
        "colab_type": "text"
      },
      "source": [
        "<a href=\"https://colab.research.google.com/github/polkm12123/Introduction-to-Data-Science/blob/master/A106260073%E5%BC%B5%E9%9B%85%E9%9B%AF_%E7%AC%AC%E4%BA%8C%E5%91%A8.ipynb\" target=\"_parent\"><img src=\"https://colab.research.google.com/assets/colab-badge.svg\" alt=\"Open In Colab\"/></a>"
      ]
    },
    {
      "cell_type": "code",
      "metadata": {
        "id": "KadJueD9l7Pu",
        "colab_type": "code",
        "colab": {
          "base_uri": "https://localhost:8080/",
          "height": 35
        },
        "outputId": "9c0e0016-3fc6-484b-f7a9-be3451142644"
      },
      "source": [
        "# input \"03-19-2020\"\n",
        "# output \"03-19-2020.csv\"\n",
        "#import requests\n",
        "import pandas as pd\n",
        "\n",
        "def get_covid_daily_data(input_date):\n",
        "    csv_name = input_date + \".csv\"\n",
        "    github_url = \"https://raw.githubusercontent.com/CSSEGISandData/COVID-19/master/csse_covid_19_data/csse_covid_19_daily_reports/{}\".format(csv_name)\n",
        "    #response = requests.get(github_url)\n",
        "    df = pd.read_csv(github_url)\n",
        "    # df.head()\n",
        "    # df.tail()\n",
        "    df.to_csv(csv_name, index=False)\n",
        "\n",
        "user_input = input(\"Please input a date(mm-dd-yyyy):\")\n",
        "get_covid_daily_data(user_input)"
      ],
      "execution_count": 2,
      "outputs": [
        {
          "output_type": "stream",
          "text": [
            "Please input a date(mm-dd-yyyy):03-10-2020\n"
          ],
          "name": "stdout"
        }
      ]
    },
    {
      "cell_type": "code",
      "metadata": {
        "id": "yIn6Ky_bP_oh",
        "colab_type": "code",
        "colab": {
          "base_uri": "https://localhost:8080/",
          "height": 1000
        },
        "outputId": "b4e310ad-289a-40e5-da97-1c3b5bbc329c"
      },
      "source": [
        "from datetime import date, timedelta\n",
        "\n",
        "start_date = date(2020, 1, 22)\n",
        "#time_delta = timedelta(57)\n",
        "#end_date = start_date + time_delta\n",
        "date_period = [start_date + timedelta(i) for i in range(58)]\n",
        "data_dates = [i.strftime('%m-%d-%Y') for i in date_period]\n",
        "for dt in data_dates:\n",
        "    print(\"Downloading {}.csv...\".format(dt))\n",
        "    get_covid_daily_data(dt)"
      ],
      "execution_count": 3,
      "outputs": [
        {
          "output_type": "stream",
          "text": [
            "Downloading 01-22-2020.csv...\n",
            "Downloading 01-23-2020.csv...\n",
            "Downloading 01-24-2020.csv...\n",
            "Downloading 01-25-2020.csv...\n",
            "Downloading 01-26-2020.csv...\n",
            "Downloading 01-27-2020.csv...\n",
            "Downloading 01-28-2020.csv...\n",
            "Downloading 01-29-2020.csv...\n",
            "Downloading 01-30-2020.csv...\n",
            "Downloading 01-31-2020.csv...\n",
            "Downloading 02-01-2020.csv...\n",
            "Downloading 02-02-2020.csv...\n",
            "Downloading 02-03-2020.csv...\n",
            "Downloading 02-04-2020.csv...\n",
            "Downloading 02-05-2020.csv...\n",
            "Downloading 02-06-2020.csv...\n",
            "Downloading 02-07-2020.csv...\n",
            "Downloading 02-08-2020.csv...\n",
            "Downloading 02-09-2020.csv...\n",
            "Downloading 02-10-2020.csv...\n",
            "Downloading 02-11-2020.csv...\n",
            "Downloading 02-12-2020.csv...\n",
            "Downloading 02-13-2020.csv...\n",
            "Downloading 02-14-2020.csv...\n",
            "Downloading 02-15-2020.csv...\n",
            "Downloading 02-16-2020.csv...\n",
            "Downloading 02-17-2020.csv...\n",
            "Downloading 02-18-2020.csv...\n",
            "Downloading 02-19-2020.csv...\n",
            "Downloading 02-20-2020.csv...\n",
            "Downloading 02-21-2020.csv...\n",
            "Downloading 02-22-2020.csv...\n",
            "Downloading 02-23-2020.csv...\n",
            "Downloading 02-24-2020.csv...\n",
            "Downloading 02-25-2020.csv...\n",
            "Downloading 02-26-2020.csv...\n",
            "Downloading 02-27-2020.csv...\n",
            "Downloading 02-28-2020.csv...\n",
            "Downloading 02-29-2020.csv...\n",
            "Downloading 03-01-2020.csv...\n",
            "Downloading 03-02-2020.csv...\n",
            "Downloading 03-03-2020.csv...\n",
            "Downloading 03-04-2020.csv...\n",
            "Downloading 03-05-2020.csv...\n",
            "Downloading 03-06-2020.csv...\n",
            "Downloading 03-07-2020.csv...\n",
            "Downloading 03-08-2020.csv...\n",
            "Downloading 03-09-2020.csv...\n",
            "Downloading 03-10-2020.csv...\n",
            "Downloading 03-11-2020.csv...\n",
            "Downloading 03-12-2020.csv...\n",
            "Downloading 03-13-2020.csv...\n",
            "Downloading 03-14-2020.csv...\n",
            "Downloading 03-15-2020.csv...\n",
            "Downloading 03-16-2020.csv...\n",
            "Downloading 03-17-2020.csv...\n",
            "Downloading 03-18-2020.csv...\n",
            "Downloading 03-19-2020.csv...\n"
          ],
          "name": "stdout"
        }
      ]
    },
    {
      "cell_type": "code",
      "metadata": {
        "id": "GkTd6Iz2QEbI",
        "colab_type": "code",
        "colab": {
          "base_uri": "https://localhost:8080/",
          "height": 131
        },
        "outputId": "649a5f5f-2d9c-48f4-b625-0315fb85245a"
      },
      "source": [
        "56_cannot_die = '五六不能亡'\n"
      ],
      "execution_count": 4,
      "outputs": [
        {
          "output_type": "error",
          "ename": "SyntaxError",
          "evalue": "ignored",
          "traceback": [
            "\u001b[0;36m  File \u001b[0;32m\"<ipython-input-4-714616b2b2ca>\"\u001b[0;36m, line \u001b[0;32m1\u001b[0m\n\u001b[0;31m    56_cannot_die = '五六不能亡'\u001b[0m\n\u001b[0m      ^\u001b[0m\n\u001b[0;31mSyntaxError\u001b[0m\u001b[0;31m:\u001b[0m invalid token\n"
          ]
        }
      ]
    },
    {
      "cell_type": "code",
      "metadata": {
        "id": "xkpDBckpQLI0",
        "colab_type": "code",
        "colab": {
          "base_uri": "https://localhost:8080/",
          "height": 35
        },
        "outputId": "a898eafa-f258-4a81-a7dd-3d2cb42daff2"
      },
      "source": [
        "cannot_56_die = '五六不能亡'\n",
        "print(cannot_56_die)"
      ],
      "execution_count": 5,
      "outputs": [
        {
          "output_type": "stream",
          "text": [
            "五六不能亡\n"
          ],
          "name": "stdout"
        }
      ]
    },
    {
      "cell_type": "code",
      "metadata": {
        "id": "UOjWjD5TQLSZ",
        "colab_type": "code",
        "colab": {
          "base_uri": "https://localhost:8080/",
          "height": 35
        },
        "outputId": "ce7fba25-de16-4b8a-b567-ef66dc7d147c"
      },
      "source": [
        "cannot_die_56 = '五六不能亡'\n",
        "print(cannot_die_56)\n"
      ],
      "execution_count": 6,
      "outputs": [
        {
          "output_type": "stream",
          "text": [
            "五六不能亡\n"
          ],
          "name": "stdout"
        }
      ]
    },
    {
      "cell_type": "code",
      "metadata": {
        "id": "0YblMzBaQLUo",
        "colab_type": "code",
        "colab": {
          "base_uri": "https://localhost:8080/",
          "height": 131
        },
        "outputId": "9bc4d80c-8efc-4deb-de09-60d19546f424"
      },
      "source": [
        "56_cannot_die = '五六不能亡'\n",
        "print(56_cannot_die)"
      ],
      "execution_count": 7,
      "outputs": [
        {
          "output_type": "error",
          "ename": "SyntaxError",
          "evalue": "ignored",
          "traceback": [
            "\u001b[0;36m  File \u001b[0;32m\"<ipython-input-7-bdc3a044fa9c>\"\u001b[0;36m, line \u001b[0;32m1\u001b[0m\n\u001b[0;31m    56_cannot_die = '五六不能亡'\u001b[0m\n\u001b[0m      ^\u001b[0m\n\u001b[0;31mSyntaxError\u001b[0m\u001b[0;31m:\u001b[0m invalid token\n"
          ]
        }
      ]
    },
    {
      "cell_type": "code",
      "metadata": {
        "id": "lgzs05UaQLYC",
        "colab_type": "code",
        "colab": {
          "base_uri": "https://localhost:8080/",
          "height": 131
        },
        "outputId": "27a2c3ef-40e5-4b4a-a095-75d81793d5b4"
      },
      "source": [
        "for = \"For\""
      ],
      "execution_count": 8,
      "outputs": [
        {
          "output_type": "error",
          "ename": "SyntaxError",
          "evalue": "ignored",
          "traceback": [
            "\u001b[0;36m  File \u001b[0;32m\"<ipython-input-8-c65b3159e299>\"\u001b[0;36m, line \u001b[0;32m1\u001b[0m\n\u001b[0;31m    for = \"For\"\u001b[0m\n\u001b[0m        ^\u001b[0m\n\u001b[0;31mSyntaxError\u001b[0m\u001b[0;31m:\u001b[0m invalid syntax\n"
          ]
        }
      ]
    },
    {
      "cell_type": "code",
      "metadata": {
        "id": "cd8kF6cORCMu",
        "colab_type": "code",
        "colab": {
          "base_uri": "https://localhost:8080/",
          "height": 131
        },
        "outputId": "0e1b79cc-6ea7-4ea7-92c8-dea4f7deac6e"
      },
      "source": [
        "True = 1"
      ],
      "execution_count": 9,
      "outputs": [
        {
          "output_type": "error",
          "ename": "SyntaxError",
          "evalue": "ignored",
          "traceback": [
            "\u001b[0;36m  File \u001b[0;32m\"<ipython-input-9-1598b51f0f76>\"\u001b[0;36m, line \u001b[0;32m1\u001b[0m\n\u001b[0;31m    True = 1\u001b[0m\n\u001b[0m            ^\u001b[0m\n\u001b[0;31mSyntaxError\u001b[0m\u001b[0;31m:\u001b[0m can't assign to keyword\n"
          ]
        }
      ]
    },
    {
      "cell_type": "code",
      "metadata": {
        "id": "VdkisA-ZRCPb",
        "colab_type": "code",
        "colab": {}
      },
      "source": [
        "print = 5566"
      ],
      "execution_count": 0,
      "outputs": []
    },
    {
      "cell_type": "code",
      "metadata": {
        "id": "7cD-eB_jRCRq",
        "colab_type": "code",
        "colab": {
          "base_uri": "https://localhost:8080/",
          "height": 183
        },
        "outputId": "b4c819b2-c990-4e21-c0d5-e8b52f88d7b1"
      },
      "source": [
        "movie_title = \"Avengers: Endgame\"\n",
        "print(movie_title)"
      ],
      "execution_count": 11,
      "outputs": [
        {
          "output_type": "error",
          "ename": "TypeError",
          "evalue": "ignored",
          "traceback": [
            "\u001b[0;31m---------------------------------------------------------------------------\u001b[0m",
            "\u001b[0;31mTypeError\u001b[0m                                 Traceback (most recent call last)",
            "\u001b[0;32m<ipython-input-11-c009747c7322>\u001b[0m in \u001b[0;36m<module>\u001b[0;34m()\u001b[0m\n\u001b[1;32m      1\u001b[0m \u001b[0mmovie_title\u001b[0m \u001b[0;34m=\u001b[0m \u001b[0;34m\"Avengers: Endgame\"\u001b[0m\u001b[0;34m\u001b[0m\u001b[0;34m\u001b[0m\u001b[0m\n\u001b[0;32m----> 2\u001b[0;31m \u001b[0mprint\u001b[0m\u001b[0;34m(\u001b[0m\u001b[0mmovie_title\u001b[0m\u001b[0;34m)\u001b[0m\u001b[0;34m\u001b[0m\u001b[0;34m\u001b[0m\u001b[0m\n\u001b[0m",
            "\u001b[0;31mTypeError\u001b[0m: 'int' object is not callable"
          ]
        }
      ]
    },
    {
      "cell_type": "code",
      "metadata": {
        "id": "8SM9t-StRCTz",
        "colab_type": "code",
        "colab": {}
      },
      "source": [
        "print = 5566\n",
        "del print"
      ],
      "execution_count": 0,
      "outputs": []
    },
    {
      "cell_type": "code",
      "metadata": {
        "id": "MLm8FnQJRCW-",
        "colab_type": "code",
        "colab": {
          "base_uri": "https://localhost:8080/",
          "height": 35
        },
        "outputId": "596d4d3e-62dd-4b12-df3e-243d561be5a9"
      },
      "source": [
        "movie_title = \"Avengers: Endgame\"\n",
        "print(movie_title)"
      ],
      "execution_count": 13,
      "outputs": [
        {
          "output_type": "stream",
          "text": [
            "Avengers: Endgame\n"
          ],
          "name": "stdout"
        }
      ]
    },
    {
      "cell_type": "code",
      "metadata": {
        "id": "RiN6wtwTRVya",
        "colab_type": "code",
        "colab": {
          "base_uri": "https://localhost:8080/",
          "height": 104
        },
        "outputId": "16c12cd9-ebb0-4294-b9ef-17c689d884b1"
      },
      "source": [
        "help(abs)"
      ],
      "execution_count": 14,
      "outputs": [
        {
          "output_type": "stream",
          "text": [
            "Help on built-in function abs in module builtins:\n",
            "\n",
            "abs(x, /)\n",
            "    Return the absolute value of the argument.\n",
            "\n"
          ],
          "name": "stdout"
        }
      ]
    },
    {
      "cell_type": "code",
      "metadata": {
        "id": "25mu6wcNRV0Y",
        "colab_type": "code",
        "colab": {
          "base_uri": "https://localhost:8080/",
          "height": 139
        },
        "outputId": "b511b4b0-a8b5-4803-f0a8-744e6a356527"
      },
      "source": [
        "help(all)"
      ],
      "execution_count": 15,
      "outputs": [
        {
          "output_type": "stream",
          "text": [
            "Help on built-in function all in module builtins:\n",
            "\n",
            "all(iterable, /)\n",
            "    Return True if bool(x) is True for all values x in the iterable.\n",
            "    \n",
            "    If the iterable is empty, return True.\n",
            "\n"
          ],
          "name": "stdout"
        }
      ]
    },
    {
      "cell_type": "code",
      "metadata": {
        "id": "JGXzP_VJRV2F",
        "colab_type": "code",
        "colab": {
          "base_uri": "https://localhost:8080/",
          "height": 52
        },
        "outputId": "6a375c21-1cae-4410-dad4-dd65443785d8"
      },
      "source": [
        "my_object = 5566\n",
        "print(my_object)\n",
        "\n",
        "my_str = '5566'\n",
        "print(my_str)"
      ],
      "execution_count": 17,
      "outputs": [
        {
          "output_type": "stream",
          "text": [
            "5566\n",
            "5566\n"
          ],
          "name": "stdout"
        }
      ]
    },
    {
      "cell_type": "code",
      "metadata": {
        "id": "3aqKzCCXRV5c",
        "colab_type": "code",
        "colab": {
          "base_uri": "https://localhost:8080/",
          "height": 35
        },
        "outputId": "ec486cb4-424c-43c6-d170-889ef1e7806a"
      },
      "source": [
        "print(my_object**2)"
      ],
      "execution_count": 18,
      "outputs": [
        {
          "output_type": "stream",
          "text": [
            "30980356\n"
          ],
          "name": "stdout"
        }
      ]
    },
    {
      "cell_type": "code",
      "metadata": {
        "id": "zsUsu2YbRnWu",
        "colab_type": "code",
        "colab": {
          "base_uri": "https://localhost:8080/",
          "height": 166
        },
        "outputId": "d758c5e0-af99-4ebb-95a7-144c66454d9e"
      },
      "source": [
        "print(my_str**2)"
      ],
      "execution_count": 19,
      "outputs": [
        {
          "output_type": "error",
          "ename": "TypeError",
          "evalue": "ignored",
          "traceback": [
            "\u001b[0;31m---------------------------------------------------------------------------\u001b[0m",
            "\u001b[0;31mTypeError\u001b[0m                                 Traceback (most recent call last)",
            "\u001b[0;32m<ipython-input-19-e530050dfc4e>\u001b[0m in \u001b[0;36m<module>\u001b[0;34m()\u001b[0m\n\u001b[0;32m----> 1\u001b[0;31m \u001b[0mprint\u001b[0m\u001b[0;34m(\u001b[0m\u001b[0mmy_str\u001b[0m\u001b[0;34m**\u001b[0m\u001b[0;36m2\u001b[0m\u001b[0;34m)\u001b[0m\u001b[0;34m\u001b[0m\u001b[0;34m\u001b[0m\u001b[0m\n\u001b[0m",
            "\u001b[0;31mTypeError\u001b[0m: unsupported operand type(s) for ** or pow(): 'str' and 'int'"
          ]
        }
      ]
    },
    {
      "cell_type": "code",
      "metadata": {
        "id": "shU6YjfJRnYw",
        "colab_type": "code",
        "colab": {
          "base_uri": "https://localhost:8080/",
          "height": 52
        },
        "outputId": "84094a04-7ca4-466d-c349-000b3c1eb1ca"
      },
      "source": [
        "print(type(my_object))\n",
        "print(type(my_str))"
      ],
      "execution_count": 20,
      "outputs": [
        {
          "output_type": "stream",
          "text": [
            "<class 'int'>\n",
            "<class 'str'>\n"
          ],
          "name": "stdout"
        }
      ]
    },
    {
      "cell_type": "code",
      "metadata": {
        "id": "LNOpBx9rRnbE",
        "colab_type": "code",
        "colab": {
          "base_uri": "https://localhost:8080/",
          "height": 121
        },
        "outputId": "ccd3d6cf-fca7-4ab3-826b-d0ca2eed1f72"
      },
      "source": [
        "movie_title = \"Avengers: Endgame\"\n",
        "movie_length = 181\n",
        "movie_rating = 8.4\n",
        "\n",
        "print(movie_title)\n",
        "print(movie_length)\n",
        "print(movie_rating)\n",
        "\n",
        "print(type(movie_title))\n",
        "print(type(movie_length))\n",
        "print(type(movie_rating))"
      ],
      "execution_count": 21,
      "outputs": [
        {
          "output_type": "stream",
          "text": [
            "Avengers: Endgame\n",
            "181\n",
            "8.4\n",
            "<class 'str'>\n",
            "<class 'int'>\n",
            "<class 'float'>\n"
          ],
          "name": "stdout"
        }
      ]
    },
    {
      "cell_type": "code",
      "metadata": {
        "id": "RyX_dR4FRneU",
        "colab_type": "code",
        "colab": {}
      },
      "source": [
        ""
      ],
      "execution_count": 0,
      "outputs": []
    }
  ]
}