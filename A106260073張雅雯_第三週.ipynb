{
  "nbformat": 4,
  "nbformat_minor": 0,
  "metadata": {
    "colab": {
      "name": "A106260073張雅雯_第三週",
      "provenance": [],
      "collapsed_sections": [],
      "authorship_tag": "ABX9TyOjSelGDcsQgGvHCmBBAWNm",
      "include_colab_link": true
    },
    "kernelspec": {
      "name": "python3",
      "display_name": "Python 3"
    }
  },
  "cells": [
    {
      "cell_type": "markdown",
      "metadata": {
        "id": "view-in-github",
        "colab_type": "text"
      },
      "source": [
        "<a href=\"https://colab.research.google.com/github/polkm12123/Introduction-to-Data-Science/blob/master/A106260073%E5%BC%B5%E9%9B%85%E9%9B%AF_%E7%AC%AC%E4%B8%89%E9%80%B1.ipynb\" target=\"_parent\"><img src=\"https://colab.research.google.com/assets/colab-badge.svg\" alt=\"Open In Colab\"/></a>"
      ]
    },
    {
      "cell_type": "code",
      "metadata": {
        "id": "fxmflypzioGx",
        "colab_type": "code",
        "colab": {
          "base_uri": "https://localhost:8080/",
          "height": 68
        },
        "outputId": "c7ae293a-0804-4c6d-ce27-7121f8b4cbe7"
      },
      "source": [
        "movie_title= \"陽光普照\"\n",
        "movie_rating=7.7\n",
        "movie_time=156\n",
        "\n",
        "print(movie_title)\n",
        "print(movie_rating)\n",
        "print(movie_time)"
      ],
      "execution_count": 1,
      "outputs": [
        {
          "output_type": "stream",
          "text": [
            "陽光普照\n",
            "7.7\n",
            "156\n"
          ],
          "name": "stdout"
        }
      ]
    },
    {
      "cell_type": "code",
      "metadata": {
        "id": "cL7WsExDlHZn",
        "colab_type": "code",
        "colab": {
          "base_uri": "https://localhost:8080/",
          "height": 68
        },
        "outputId": "967b5712-1e41-437b-b515-bb80a054d60c"
      },
      "source": [
        "print(type(movie_title))\n",
        "print(type(movie_rating))\n",
        "print(type(movie_time))"
      ],
      "execution_count": 2,
      "outputs": [
        {
          "output_type": "stream",
          "text": [
            "<class 'str'>\n",
            "<class 'float'>\n",
            "<class 'int'>\n"
          ],
          "name": "stdout"
        }
      ]
    },
    {
      "cell_type": "code",
      "metadata": {
        "id": "6Il324kolHd9",
        "colab_type": "code",
        "colab": {
          "base_uri": "https://localhost:8080/",
          "height": 221
        },
        "outputId": "eab6f652-518a-4c59-81c7-ad7dd3e8cd8a"
      },
      "source": [
        "help(print)"
      ],
      "execution_count": 3,
      "outputs": [
        {
          "output_type": "stream",
          "text": [
            "Help on built-in function print in module builtins:\n",
            "\n",
            "print(...)\n",
            "    print(value, ..., sep=' ', end='\\n', file=sys.stdout, flush=False)\n",
            "    \n",
            "    Prints the values to a stream, or to sys.stdout by default.\n",
            "    Optional keyword arguments:\n",
            "    file:  a file-like object (stream); defaults to the current sys.stdout.\n",
            "    sep:   string inserted between values, default a space.\n",
            "    end:   string appended after the last value, default a newline.\n",
            "    flush: whether to forcibly flush the stream.\n",
            "\n"
          ],
          "name": "stdout"
        }
      ]
    },
    {
      "cell_type": "code",
      "metadata": {
        "id": "ZDyvnJSTlHil",
        "colab_type": "code",
        "colab": {
          "base_uri": "https://localhost:8080/",
          "height": 1000
        },
        "outputId": "76868a6d-8df6-4764-8756-5ad5af373b6c"
      },
      "source": [
        "help(type)"
      ],
      "execution_count": 4,
      "outputs": [
        {
          "output_type": "stream",
          "text": [
            "Help on class type in module builtins:\n",
            "\n",
            "class type(object)\n",
            " |  type(object_or_name, bases, dict)\n",
            " |  type(object) -> the object's type\n",
            " |  type(name, bases, dict) -> a new type\n",
            " |  \n",
            " |  Methods defined here:\n",
            " |  \n",
            " |  __call__(self, /, *args, **kwargs)\n",
            " |      Call self as a function.\n",
            " |  \n",
            " |  __delattr__(self, name, /)\n",
            " |      Implement delattr(self, name).\n",
            " |  \n",
            " |  __dir__(...)\n",
            " |      __dir__() -> list\n",
            " |      specialized __dir__ implementation for types\n",
            " |  \n",
            " |  __getattribute__(self, name, /)\n",
            " |      Return getattr(self, name).\n",
            " |  \n",
            " |  __init__(self, /, *args, **kwargs)\n",
            " |      Initialize self.  See help(type(self)) for accurate signature.\n",
            " |  \n",
            " |  __instancecheck__(...)\n",
            " |      __instancecheck__() -> bool\n",
            " |      check if an object is an instance\n",
            " |  \n",
            " |  __new__(*args, **kwargs)\n",
            " |      Create and return a new object.  See help(type) for accurate signature.\n",
            " |  \n",
            " |  __prepare__(...)\n",
            " |      __prepare__() -> dict\n",
            " |      used to create the namespace for the class statement\n",
            " |  \n",
            " |  __repr__(self, /)\n",
            " |      Return repr(self).\n",
            " |  \n",
            " |  __setattr__(self, name, value, /)\n",
            " |      Implement setattr(self, name, value).\n",
            " |  \n",
            " |  __sizeof__(...)\n",
            " |      __sizeof__() -> int\n",
            " |      return memory consumption of the type object\n",
            " |  \n",
            " |  __subclasscheck__(...)\n",
            " |      __subclasscheck__() -> bool\n",
            " |      check if a class is a subclass\n",
            " |  \n",
            " |  __subclasses__(...)\n",
            " |      __subclasses__() -> list of immediate subclasses\n",
            " |  \n",
            " |  mro(...)\n",
            " |      mro() -> list\n",
            " |      return a type's method resolution order\n",
            " |  \n",
            " |  ----------------------------------------------------------------------\n",
            " |  Data descriptors defined here:\n",
            " |  \n",
            " |  __abstractmethods__\n",
            " |  \n",
            " |  __dict__\n",
            " |  \n",
            " |  __text_signature__\n",
            " |  \n",
            " |  ----------------------------------------------------------------------\n",
            " |  Data and other attributes defined here:\n",
            " |  \n",
            " |  __base__ = <class 'object'>\n",
            " |      The most base type\n",
            " |  \n",
            " |  __bases__ = (<class 'object'>,)\n",
            " |  \n",
            " |  __basicsize__ = 864\n",
            " |  \n",
            " |  __dictoffset__ = 264\n",
            " |  \n",
            " |  __flags__ = 2148291584\n",
            " |  \n",
            " |  __itemsize__ = 40\n",
            " |  \n",
            " |  __mro__ = (<class 'type'>, <class 'object'>)\n",
            " |  \n",
            " |  __weakrefoffset__ = 368\n",
            "\n"
          ],
          "name": "stdout"
        }
      ]
    },
    {
      "cell_type": "code",
      "metadata": {
        "id": "mhs9dM8VlHmt",
        "colab_type": "code",
        "colab": {
          "base_uri": "https://localhost:8080/",
          "height": 493
        },
        "outputId": "5fdd7f29-5dfb-45aa-8395-c893dfdddaf7"
      },
      "source": [
        "help(help)"
      ],
      "execution_count": 5,
      "outputs": [
        {
          "output_type": "stream",
          "text": [
            "Help on _Helper in module _sitebuiltins object:\n",
            "\n",
            "class _Helper(builtins.object)\n",
            " |  Define the builtin 'help'.\n",
            " |  \n",
            " |  This is a wrapper around pydoc.help that provides a helpful message\n",
            " |  when 'help' is typed at the Python interactive prompt.\n",
            " |  \n",
            " |  Calling help() at the Python prompt starts an interactive help session.\n",
            " |  Calling help(thing) prints help for the python object 'thing'.\n",
            " |  \n",
            " |  Methods defined here:\n",
            " |  \n",
            " |  __call__(self, *args, **kwds)\n",
            " |      Call self as a function.\n",
            " |  \n",
            " |  __repr__(self)\n",
            " |      Return repr(self).\n",
            " |  \n",
            " |  ----------------------------------------------------------------------\n",
            " |  Data descriptors defined here:\n",
            " |  \n",
            " |  __dict__\n",
            " |      dictionary for instance variables (if defined)\n",
            " |  \n",
            " |  __weakref__\n",
            " |      list of weak references to the object (if defined)\n",
            "\n"
          ],
          "name": "stdout"
        }
      ]
    },
    {
      "cell_type": "code",
      "metadata": {
        "id": "DEHXNn7IlwNU",
        "colab_type": "code",
        "colab": {
          "base_uri": "https://localhost:8080/",
          "height": 34
        },
        "outputId": "fd3f1793-614a-4af4-dc22-fb13192fe532"
      },
      "source": [
        "movie_rating=8\n",
        "print(type(movie_rating))"
      ],
      "execution_count": 6,
      "outputs": [
        {
          "output_type": "stream",
          "text": [
            "<class 'int'>\n"
          ],
          "name": "stdout"
        }
      ]
    },
    {
      "cell_type": "code",
      "metadata": {
        "id": "7G7ikXt1lw2V",
        "colab_type": "code",
        "colab": {}
      },
      "source": [
        "movie_rating=7.7"
      ],
      "execution_count": 0,
      "outputs": []
    },
    {
      "cell_type": "code",
      "metadata": {
        "id": "dP0FDX4llw5U",
        "colab_type": "code",
        "colab": {}
      },
      "source": [
        "movie_time_hour=2\n",
        "movie_time_min=36"
      ],
      "execution_count": 0,
      "outputs": []
    },
    {
      "cell_type": "code",
      "metadata": {
        "id": "F3oyrQQ_lw8s",
        "colab_type": "code",
        "colab": {
          "base_uri": "https://localhost:8080/",
          "height": 34
        },
        "outputId": "8a14a055-d974-473d-b59e-64f84fa44c98"
      },
      "source": [
        "movie_time_hour*60+movie_time_min"
      ],
      "execution_count": 12,
      "outputs": [
        {
          "output_type": "execute_result",
          "data": {
            "text/plain": [
              "156"
            ]
          },
          "metadata": {
            "tags": []
          },
          "execution_count": 12
        }
      ]
    },
    {
      "cell_type": "code",
      "metadata": {
        "id": "XcThNDUelw_t",
        "colab_type": "code",
        "colab": {
          "base_uri": "https://localhost:8080/",
          "height": 34
        },
        "outputId": "8e640848-7752-45d6-cc67-1359e7c551ab"
      },
      "source": [
        "movie_time_hour+movie_time_min/60 #先乘除後加減"
      ],
      "execution_count": 14,
      "outputs": [
        {
          "output_type": "execute_result",
          "data": {
            "text/plain": [
              "2.6"
            ]
          },
          "metadata": {
            "tags": []
          },
          "execution_count": 14
        }
      ]
    },
    {
      "cell_type": "code",
      "metadata": {
        "id": "VA1UDl4-lxCd",
        "colab_type": "code",
        "colab": {
          "base_uri": "https://localhost:8080/",
          "height": 34
        },
        "outputId": "ed186a87-7b23-4614-a2b8-288671b35db6"
      },
      "source": [
        "9**2"
      ],
      "execution_count": 15,
      "outputs": [
        {
          "output_type": "execute_result",
          "data": {
            "text/plain": [
              "81"
            ]
          },
          "metadata": {
            "tags": []
          },
          "execution_count": 15
        }
      ]
    },
    {
      "cell_type": "code",
      "metadata": {
        "id": "dPy4ifAqoSQ7",
        "colab_type": "code",
        "colab": {
          "base_uri": "https://localhost:8080/",
          "height": 34
        },
        "outputId": "51f48678-710a-4177-e2fc-40f52ce22ff6"
      },
      "source": [
        "9**3"
      ],
      "execution_count": 16,
      "outputs": [
        {
          "output_type": "execute_result",
          "data": {
            "text/plain": [
              "729"
            ]
          },
          "metadata": {
            "tags": []
          },
          "execution_count": 16
        }
      ]
    },
    {
      "cell_type": "code",
      "metadata": {
        "id": "f29hTMSgoST5",
        "colab_type": "code",
        "colab": {
          "base_uri": "https://localhost:8080/",
          "height": 34
        },
        "outputId": "4a990f9e-e413-4bfe-c265-0d69a9cb3095"
      },
      "source": [
        "9**0.5"
      ],
      "execution_count": 17,
      "outputs": [
        {
          "output_type": "execute_result",
          "data": {
            "text/plain": [
              "3.0"
            ]
          },
          "metadata": {
            "tags": []
          },
          "execution_count": 17
        }
      ]
    },
    {
      "cell_type": "code",
      "metadata": {
        "id": "Wlbrag3-oSWq",
        "colab_type": "code",
        "colab": {
          "base_uri": "https://localhost:8080/",
          "height": 34
        },
        "outputId": "43803018-d0f6-4089-a1eb-6a2b36a1cdbf"
      },
      "source": [
        "9**1/3 #次方優先於乘除 需要優先的話，可利用小括號來做表示"
      ],
      "execution_count": 18,
      "outputs": [
        {
          "output_type": "execute_result",
          "data": {
            "text/plain": [
              "3.0"
            ]
          },
          "metadata": {
            "tags": []
          },
          "execution_count": 18
        }
      ]
    },
    {
      "cell_type": "code",
      "metadata": {
        "id": "Eo4QYsZToSZJ",
        "colab_type": "code",
        "colab": {
          "base_uri": "https://localhost:8080/",
          "height": 34
        },
        "outputId": "4e305d62-c638-446f-9e62-a5a562bed1db"
      },
      "source": [
        "55%2 #餘數 可判斷基數或偶數"
      ],
      "execution_count": 19,
      "outputs": [
        {
          "output_type": "execute_result",
          "data": {
            "text/plain": [
              "1"
            ]
          },
          "metadata": {
            "tags": []
          },
          "execution_count": 19
        }
      ]
    },
    {
      "cell_type": "code",
      "metadata": {
        "id": "J1b9juLDoSbv",
        "colab_type": "code",
        "colab": {
          "base_uri": "https://localhost:8080/",
          "height": 34
        },
        "outputId": "e21ed253-b8bf-44e5-b306-e17e83d3507c"
      },
      "source": [
        "66%2 #餘數"
      ],
      "execution_count": 20,
      "outputs": [
        {
          "output_type": "execute_result",
          "data": {
            "text/plain": [
              "0"
            ]
          },
          "metadata": {
            "tags": []
          },
          "execution_count": 20
        }
      ]
    },
    {
      "cell_type": "code",
      "metadata": {
        "id": "ba4227_lpgiD",
        "colab_type": "code",
        "colab": {
          "base_uri": "https://localhost:8080/",
          "height": 34
        },
        "outputId": "6a3db591-eef5-429c-c78a-387f14dbf20f"
      },
      "source": [
        "0%2"
      ],
      "execution_count": 21,
      "outputs": [
        {
          "output_type": "execute_result",
          "data": {
            "text/plain": [
              "0"
            ]
          },
          "metadata": {
            "tags": []
          },
          "execution_count": 21
        }
      ]
    },
    {
      "cell_type": "code",
      "metadata": {
        "id": "IifhIO21pgkx",
        "colab_type": "code",
        "colab": {
          "base_uri": "https://localhost:8080/",
          "height": 34
        },
        "outputId": "a13bed04-c27c-4930-ad38-9a2ec67f8fdf"
      },
      "source": [
        "#練習題\n",
        "celsius=28\n",
        "fahrenheit=print(celsius*9/5+32)"
      ],
      "execution_count": 25,
      "outputs": [
        {
          "output_type": "stream",
          "text": [
            "82.4\n"
          ],
          "name": "stdout"
        }
      ]
    },
    {
      "cell_type": "code",
      "metadata": {
        "id": "0vaMaQm5pgnC",
        "colab_type": "code",
        "colab": {
          "base_uri": "https://localhost:8080/",
          "height": 34
        },
        "outputId": "12102ada-e860-49b6-f9a9-4cd6df2529d3"
      },
      "source": [
        "current_celsius=28\n",
        "current_fahrenheit=current_celsius*9/5+32\n",
        "print(current_fahrenheit)"
      ],
      "execution_count": 26,
      "outputs": [
        {
          "output_type": "stream",
          "text": [
            "82.4\n"
          ],
          "name": "stdout"
        }
      ]
    },
    {
      "cell_type": "code",
      "metadata": {
        "id": "xuIJaKA3pgri",
        "colab_type": "code",
        "colab": {
          "base_uri": "https://localhost:8080/",
          "height": 34
        },
        "outputId": "2fb7683c-ed79-4248-8ec4-e118768c0c57"
      },
      "source": [
        "print(current_fahrenheit-32*5/9)"
      ],
      "execution_count": 29,
      "outputs": [
        {
          "output_type": "stream",
          "text": [
            "64.62222222222223\n"
          ],
          "name": "stdout"
        }
      ]
    },
    {
      "cell_type": "code",
      "metadata": {
        "id": "qqpcO-xjpgwp",
        "colab_type": "code",
        "colab": {
          "base_uri": "https://localhost:8080/",
          "height": 34
        },
        "outputId": "5a92d615-c0c6-4ff6-c818-b66589c0bcf2"
      },
      "source": [
        "current_celsius=current_fahrenheit-32*5/9 #先乘除後加減\n",
        "print(current_celsius)"
      ],
      "execution_count": 33,
      "outputs": [
        {
          "output_type": "stream",
          "text": [
            "64.62222222222223\n"
          ],
          "name": "stdout"
        }
      ]
    },
    {
      "cell_type": "code",
      "metadata": {
        "id": "tnttDLzVpgym",
        "colab_type": "code",
        "colab": {
          "base_uri": "https://localhost:8080/",
          "height": 34
        },
        "outputId": "a57c0806-b650-459c-aa67-4dafb6606789"
      },
      "source": [
        "current_celsius=(current_fahrenheit-32)*5/9 #優先順序\n",
        "print(current_celsius)"
      ],
      "execution_count": 35,
      "outputs": [
        {
          "output_type": "stream",
          "text": [
            "28.000000000000004\n"
          ],
          "name": "stdout"
        }
      ]
    },
    {
      "cell_type": "code",
      "metadata": {
        "id": "5qNuBammpg0_",
        "colab_type": "code",
        "colab": {
          "base_uri": "https://localhost:8080/",
          "height": 34
        },
        "outputId": "05dcfb16-5ffd-4819-c07b-e834ea983775"
      },
      "source": [
        "height=166\n",
        "shaq_weight=53\n",
        "shaq_height=height/100\n",
        "BMI=shaq_weight/(shaq_height)**2\n",
        "print(BMI)"
      ],
      "execution_count": 38,
      "outputs": [
        {
          "output_type": "stream",
          "text": [
            "19.233560749020178\n"
          ],
          "name": "stdout"
        }
      ]
    },
    {
      "cell_type": "code",
      "metadata": {
        "id": "6129Nw1Ypg3X",
        "colab_type": "code",
        "colab": {
          "base_uri": "https://localhost:8080/",
          "height": 34
        },
        "outputId": "79a66f41-a3d9-47de-a273-7ad9992bdbbd"
      },
      "source": [
        "zion_height=198\n",
        "zion_weight=129\n",
        "zion_bmi=zion_weight/(zion_height/100)**2\n",
        "print(zion_bmi)"
      ],
      "execution_count": 40,
      "outputs": [
        {
          "output_type": "stream",
          "text": [
            "32.90480563207836\n"
          ],
          "name": "stdout"
        }
      ]
    },
    {
      "cell_type": "code",
      "metadata": {
        "id": "FtfwQUzczCKX",
        "colab_type": "code",
        "colab": {
          "base_uri": "https://localhost:8080/",
          "height": 34
        },
        "outputId": "f4be3f6f-79f1-444e-8806-0fa6c9be8e24"
      },
      "source": [
        "movie_time_hour=2\n",
        "movie_time_min=36\n",
        "movie_time_min=movie_time_min+ movie_time_hour*60\n",
        "print(movie_time_min)"
      ],
      "execution_count": 41,
      "outputs": [
        {
          "output_type": "stream",
          "text": [
            "156\n"
          ],
          "name": "stdout"
        }
      ]
    },
    {
      "cell_type": "code",
      "metadata": {
        "id": "EXVmq59qzCMy",
        "colab_type": "code",
        "colab": {}
      },
      "source": [
        "movie_time_hour=2\n",
        "movie_time_min=36\n",
        "movie_time_minn+= movie_time_hour*60 #a+=b as in a=a+b  \n",
        "print(movie_time_min)"
      ],
      "execution_count": 0,
      "outputs": []
    },
    {
      "cell_type": "code",
      "metadata": {
        "id": "SCYA6EdtzCPG",
        "colab_type": "code",
        "colab": {}
      },
      "source": [
        "#數值運算符號\n",
        "#a += b as in a = a + b\n",
        "#a -= b as in a = a - b\n",
        "#a *= b as in a = a * b\n",
        "#a /= b as in a = a / b\n",
        "#a **= b as in a = a ** b\n",
        "#a %= b as in a = a % b\n",
        "#a //= b as in a = a // b"
      ],
      "execution_count": 0,
      "outputs": []
    },
    {
      "cell_type": "code",
      "metadata": {
        "id": "UM_UCx7hzCYM",
        "colab_type": "code",
        "colab": {
          "base_uri": "https://localhost:8080/",
          "height": 51
        },
        "outputId": "98b3319d-0e7c-4344-f37a-b5bf3181af12"
      },
      "source": [
        "movie_title='陽光普照'\n",
        "print(movie_title)\n",
        "print(type(movie_title))\n"
      ],
      "execution_count": 42,
      "outputs": [
        {
          "output_type": "stream",
          "text": [
            "陽光普照\n",
            "<class 'str'>\n"
          ],
          "name": "stdout"
        }
      ]
    },
    {
      "cell_type": "code",
      "metadata": {
        "id": "71hGMDfqzCa1",
        "colab_type": "code",
        "colab": {
          "base_uri": "https://localhost:8080/",
          "height": 51
        },
        "outputId": "f6580eb3-5ce9-49e2-a9d3-4aba399b0403"
      },
      "source": [
        "movie_title=\"陽光普照\"\n",
        "print(movie_title)\n",
        "print(type(movie_title))"
      ],
      "execution_count": 43,
      "outputs": [
        {
          "output_type": "stream",
          "text": [
            "陽光普照\n",
            "<class 'str'>\n"
          ],
          "name": "stdout"
        }
      ]
    },
    {
      "cell_type": "code",
      "metadata": {
        "id": "5ejJ5w3ozCfz",
        "colab_type": "code",
        "colab": {
          "base_uri": "https://localhost:8080/",
          "height": 105
        },
        "outputId": "fb07b854-2736-4ea9-c8e1-f581c1dae5c5"
      },
      "source": [
        "movie_storyline=\"\"\" #建立長文字，像是文章段落\n",
        "A Sun follows a troubled family of four. A-Ho, the younger son, has always been a problematic child, and his father, A-Wen has invested all his hopes and expectations in his introverted eldest son, A-Hao. While A-Hao is trying to get into medical school, A-Ho faces juvenile detention for a crime committed with his best friend - although not entirely of his own will. A-Wen abandons A-Ho, refusing to help and even requesting the judge to sentence his son as harshly as possible. Not long after A-Ho is sent to prison, to make matters worse, his girlfriend shows up on his mother Qin's doorstep. The teenage girl is pregnant and determined to have A-Ho's child, even though he is locked up and has no idea she is expecting.\n",
        "\"\"\"\n",
        "print(movie_storyline)\n",
        "print(type(movie_storyline))"
      ],
      "execution_count": 44,
      "outputs": [
        {
          "output_type": "stream",
          "text": [
            "\n",
            "A Sun follows a troubled family of four. A-Ho, the younger son, has always been a problematic child, and his father, A-Wen has invested all his hopes and expectations in his introverted eldest son, A-Hao. While A-Hao is trying to get into medical school, A-Ho faces juvenile detention for a crime committed with his best friend - although not entirely of his own will. A-Wen abandons A-Ho, refusing to help and even requesting the judge to sentence his son as harshly as possible. Not long after A-Ho is sent to prison, to make matters worse, his girlfriend shows up on his mother Qin's doorstep. The teenage girl is pregnant and determined to have A-Ho's child, even though he is locked up and has no idea she is expecting.\n",
            "\n",
            "<class 'str'>\n"
          ],
          "name": "stdout"
        }
      ]
    },
    {
      "cell_type": "code",
      "metadata": {
        "id": "wEstHVhhzCdS",
        "colab_type": "code",
        "colab": {}
      },
      "source": [
        "#單雙引號的差別-->有關於\" ' \"就會有所差別"
      ],
      "execution_count": 0,
      "outputs": []
    },
    {
      "cell_type": "code",
      "metadata": {
        "id": "ME0wamM3zCkA",
        "colab_type": "code",
        "colab": {
          "base_uri": "https://localhost:8080/",
          "height": 131
        },
        "outputId": "2c5031ee-4985-441e-f5a8-f8efa5b11ea7"
      },
      "source": [
        "shaq='Shaquilli o' Neal'"
      ],
      "execution_count": 44,
      "outputs": [
        {
          "output_type": "error",
          "ename": "SyntaxError",
          "evalue": "ignored",
          "traceback": [
            "\u001b[0;36m  File \u001b[0;32m\"<ipython-input-45-1a1d1676bd8c>\"\u001b[0;36m, line \u001b[0;32m1\u001b[0m\n\u001b[0;31m    shaq='Shaquilli o' Neal'\u001b[0m\n\u001b[0m                          ^\u001b[0m\n\u001b[0;31mSyntaxError\u001b[0m\u001b[0;31m:\u001b[0m invalid syntax\n"
          ]
        }
      ]
    },
    {
      "cell_type": "code",
      "metadata": {
        "id": "GoNec5-zzCm7",
        "colab_type": "code",
        "colab": {}
      },
      "source": [
        "shaq='Shaquilli o\\'Neal' #'\\'可以做跳脫字元\n",
        "print(shaq)\n",
        "print(type(shaq))"
      ],
      "execution_count": 0,
      "outputs": []
    },
    {
      "cell_type": "code",
      "metadata": {
        "id": "VKKH46UB2jnT",
        "colab_type": "code",
        "colab": {
          "base_uri": "https://localhost:8080/",
          "height": 51
        },
        "outputId": "a01c64d7-b1f5-4080-a59b-1f841cc3b552"
      },
      "source": [
        "shaq=\"Shaquilli o'Neal\"\n",
        "print(shaq)\n",
        "print(type(shaq))\n"
      ],
      "execution_count": 47,
      "outputs": [
        {
          "output_type": "stream",
          "text": [
            "Shaquilli o'Neal\n",
            "<class 'str'>\n"
          ],
          "name": "stdout"
        }
      ]
    },
    {
      "cell_type": "code",
      "metadata": {
        "id": "IfnlqhKy2jqZ",
        "colab_type": "code",
        "colab": {
          "base_uri": "https://localhost:8080/",
          "height": 68
        },
        "outputId": "ab6ffec7-c7b4-4c43-eebd-11591bd8d137"
      },
      "source": [
        "shaq=\"\"\"\n",
        "Shaquilli o'Neal\"\n",
        "\"\"\"\n",
        "print(shaq)"
      ],
      "execution_count": 50,
      "outputs": [
        {
          "output_type": "stream",
          "text": [
            "\n",
            "Shaquilli o'Neal\"\n",
            "\n"
          ],
          "name": "stdout"
        }
      ]
    },
    {
      "cell_type": "code",
      "metadata": {
        "id": "6LO35ejC2jtL",
        "colab_type": "code",
        "colab": {
          "base_uri": "https://localhost:8080/",
          "height": 51
        },
        "outputId": "d32b0a2b-c457-4e68-9424-0a72bd3635db"
      },
      "source": [
        "#練習題\n",
        "mcd=\"I'm lovin' it!\"\n",
        "print(mcd)\n",
        "print(type(mcd))"
      ],
      "execution_count": 53,
      "outputs": [
        {
          "output_type": "stream",
          "text": [
            "I'm lovin' it!\n",
            "<class 'str'>\n"
          ],
          "name": "stdout"
        }
      ]
    },
    {
      "cell_type": "code",
      "metadata": {
        "id": "Jn5W7XDw2jvm",
        "colab_type": "code",
        "colab": {
          "base_uri": "https://localhost:8080/",
          "height": 68
        },
        "outputId": "b84556ef-c951-4dba-b183-92cd68473d6a"
      },
      "source": [
        "ross_said=\"\"\"\n",
        "Let's put aside the fact that you \"accidentally\" pick up my grandmother's ring\n",
        "\"\"\"\n",
        "print(ross_said)"
      ],
      "execution_count": 55,
      "outputs": [
        {
          "output_type": "stream",
          "text": [
            "\n",
            "Let's put aside the fact that you \"accidentally\" pick up my grandmother's ring\n",
            "\n"
          ],
          "name": "stdout"
        }
      ]
    },
    {
      "cell_type": "code",
      "metadata": {
        "id": "EPIA6yCB2jyQ",
        "colab_type": "code",
        "colab": {
          "base_uri": "https://localhost:8080/",
          "height": 34
        },
        "outputId": "3f641b57-e63e-46db-dac8-5ab6830fe0cc"
      },
      "source": [
        "ross_said=\"Let's put aside the fact that you \\\"accidentally\\\"pick up my grandmother's ring\"\n",
        "print(ross_said)"
      ],
      "execution_count": 56,
      "outputs": [
        {
          "output_type": "stream",
          "text": [
            "Let's put aside the fact that you \"accidentally\"pick up my grandmother's ring\n"
          ],
          "name": "stdout"
        }
      ]
    },
    {
      "cell_type": "code",
      "metadata": {
        "id": "h6laVffO2j05",
        "colab_type": "code",
        "colab": {
          "base_uri": "https://localhost:8080/",
          "height": 34
        },
        "outputId": "595dca6c-c040-4210-89e8-d41b52b35d81"
      },
      "source": [
        "ross_said='Let\\'s put aside the fact that you \"accidentally\" pick up my grandmother\\'s ring'\n",
        "print(ross_said)"
      ],
      "execution_count": 57,
      "outputs": [
        {
          "output_type": "stream",
          "text": [
            "Let's put aside the fact that you \"accidentally\" pick up my grandmother's ring\n"
          ],
          "name": "stdout"
        }
      ]
    },
    {
      "cell_type": "code",
      "metadata": {
        "id": "L8dmp9EI2j3l",
        "colab_type": "code",
        "colab": {
          "base_uri": "https://localhost:8080/",
          "height": 68
        },
        "outputId": "9b8e629f-5178-473e-96f2-167e22ef575e"
      },
      "source": [
        "print(movie_title)\n",
        "print(movie_rating)\n",
        "print(movie_time)"
      ],
      "execution_count": 58,
      "outputs": [
        {
          "output_type": "stream",
          "text": [
            "陽光普照\n",
            "7.7\n",
            "156\n"
          ],
          "name": "stdout"
        }
      ]
    },
    {
      "cell_type": "code",
      "metadata": {
        "id": "klIyyCWO7LjG",
        "colab_type": "code",
        "colab": {
          "base_uri": "https://localhost:8080/",
          "height": 34
        },
        "outputId": "0e943a7e-5997-4c8a-c4f0-f3b0d8d86851"
      },
      "source": [
        "print(\"陽光普照的評等是7.7，片長為156分鐘\")"
      ],
      "execution_count": 59,
      "outputs": [
        {
          "output_type": "stream",
          "text": [
            "陽光普照的評等是7.7，片長為156分鐘\n"
          ],
          "name": "stdout"
        }
      ]
    },
    {
      "cell_type": "code",
      "metadata": {
        "id": "PtjVYBbS7LmL",
        "colab_type": "code",
        "colab": {
          "base_uri": "https://localhost:8080/",
          "height": 34
        },
        "outputId": "3f37640a-f4a3-4a6a-c85f-9f4f0746d9d9"
      },
      "source": [
        "#文字的嵌入-插入物件的值， 毫無影響\n",
        "\"{}的評論是{}，片長為{}分鐘\".format(movie_title, movie_rating,movie_time)"
      ],
      "execution_count": 62,
      "outputs": [
        {
          "output_type": "execute_result",
          "data": {
            "text/plain": [
              "'陽光普照的評論是7.7，片長為156分鐘'"
            ]
          },
          "metadata": {
            "tags": []
          },
          "execution_count": 62
        }
      ]
    },
    {
      "cell_type": "code",
      "metadata": {
        "id": "0vy7gnUI7LqY",
        "colab_type": "code",
        "colab": {
          "base_uri": "https://localhost:8080/",
          "height": 51
        },
        "outputId": "9b666ce5-ce01-432a-9bba-656bc4808d19"
      },
      "source": [
        "movie_title=\"Avengers Endgane\"\n",
        "movie_rating=8.5\n",
        "movie_time=181\n",
        "print(\"{}的評論是{}，片長為{}分鐘\".format(movie_title, movie_rating,movie_time))"
      ],
      "execution_count": 64,
      "outputs": [
        {
          "output_type": "stream",
          "text": [
            "Avengers Endgane的評論是8.5，片長為181分鐘\n",
            "ERROR! Session/line number was not unique in database. History logging moved to new session 66\n"
          ],
          "name": "stdout"
        }
      ]
    },
    {
      "cell_type": "code",
      "metadata": {
        "id": "w532d9NT7Lst",
        "colab_type": "code",
        "colab": {
          "base_uri": "https://localhost:8080/",
          "height": 34
        },
        "outputId": "d3b4d6f9-b361-4f78-89c3-1a0080122ace"
      },
      "source": [
        "movie_title=\"陽光普照\"\n",
        "movie_rating=7.7\n",
        "movie_time=156\n",
        "number_of_rating=1486\n",
        "print(\"{}的評論是{}，基於{}個評分，片長為{}分鐘\".format(movie_title, movie_rating,number_of_rating,movie_time))"
      ],
      "execution_count": 65,
      "outputs": [
        {
          "output_type": "stream",
          "text": [
            "陽光普照的評論是7.7，基於1486個評分，片長為156分鐘\n"
          ],
          "name": "stdout"
        }
      ]
    },
    {
      "cell_type": "code",
      "metadata": {
        "id": "TQGRSQ09Afu4",
        "colab_type": "code",
        "colab": {}
      },
      "source": [
        "#調整數值呈現的格式\n",
        "#{:.0f} 整數\n",
        "#{:.2f} 小數位數兩位的浮點數\n",
        "#{:,} 千分位逗點"
      ],
      "execution_count": 0,
      "outputs": []
    },
    {
      "cell_type": "code",
      "metadata": {
        "id": "cOo5Lun07LvN",
        "colab_type": "code",
        "colab": {
          "base_uri": "https://localhost:8080/",
          "height": 34
        },
        "outputId": "4d031496-9993-43e5-e472-5236875d3a02"
      },
      "source": [
        "movie_title=\"陽光普照\"\n",
        "movie_rating=7.7\n",
        "movie_time=156\n",
        "number_of_rating=1486\n",
        "print(\"{}的評論是{:0f}，基於{:,}個評分，片長為{:.2f}分鐘\".format(movie_title, movie_rating,number_of_rating,movie_time))"
      ],
      "execution_count": 66,
      "outputs": [
        {
          "output_type": "stream",
          "text": [
            "陽光普照的評論是7.700000，基於1,486個評分，片長為156.00分鐘\n"
          ],
          "name": "stdout"
        }
      ]
    },
    {
      "cell_type": "code",
      "metadata": {
        "id": "-mW-qdhg7LzW",
        "colab_type": "code",
        "colab": {
          "base_uri": "https://localhost:8080/",
          "height": 170
        },
        "outputId": "47c1c716-26d4-4bcc-a705-75aa1d14f030"
      },
      "source": [
        "help(input)"
      ],
      "execution_count": 68,
      "outputs": [
        {
          "output_type": "stream",
          "text": [
            "Help on method raw_input in module ipykernel.kernelbase:\n",
            "\n",
            "raw_input(prompt='') method of google.colab._kernel.Kernel instance\n",
            "    Forward raw_input to frontends\n",
            "    \n",
            "    Raises\n",
            "    ------\n",
            "    StdinNotImplentedError if active frontend doesn't support stdin.\n",
            "\n"
          ],
          "name": "stdout"
        }
      ]
    },
    {
      "cell_type": "code",
      "metadata": {
        "id": "uMO3-YWQ7L2K",
        "colab_type": "code",
        "colab": {
          "base_uri": "https://localhost:8080/",
          "height": 34
        },
        "outputId": "968f6f73-9a12-4c40-b1aa-bfedf1a8552a"
      },
      "source": [
        "movie_title=input(\"請輸入電影名稱\")"
      ],
      "execution_count": 69,
      "outputs": [
        {
          "output_type": "stream",
          "text": [
            "請輸入電影名稱陽光普照\n"
          ],
          "name": "stdout"
        }
      ]
    },
    {
      "cell_type": "code",
      "metadata": {
        "id": "ru-cfFvT7L5M",
        "colab_type": "code",
        "colab": {
          "base_uri": "https://localhost:8080/",
          "height": 34
        },
        "outputId": "a0c61d7f-8c7b-443c-ea2e-72390c8cf0fd"
      },
      "source": [
        "print(movie_title)"
      ],
      "execution_count": 70,
      "outputs": [
        {
          "output_type": "stream",
          "text": [
            "陽光普照\n"
          ],
          "name": "stdout"
        }
      ]
    },
    {
      "cell_type": "code",
      "metadata": {
        "id": "VliD-yBO2j5_",
        "colab_type": "code",
        "colab": {
          "base_uri": "https://localhost:8080/",
          "height": 51
        },
        "outputId": "8ff53368-dad7-4a88-a0a5-0a745434e1eb"
      },
      "source": [
        "movie_title=input(\"請輸入電影名稱\")\n",
        "movie_rating=input(\"請輸入電影的評等\")"
      ],
      "execution_count": 71,
      "outputs": [
        {
          "output_type": "stream",
          "text": [
            "請輸入電影名稱陽光普照\n",
            "請輸入電影的評等7.7\n"
          ],
          "name": "stdout"
        }
      ]
    },
    {
      "cell_type": "code",
      "metadata": {
        "id": "q9Eg2nBnBr4v",
        "colab_type": "code",
        "colab": {
          "base_uri": "https://localhost:8080/",
          "height": 51
        },
        "outputId": "f0e37d9a-b5ff-45f5-9016-8096736c7e19"
      },
      "source": [
        "print(movie_title)\n",
        "print(movie_rating)"
      ],
      "execution_count": 72,
      "outputs": [
        {
          "output_type": "stream",
          "text": [
            "陽光普照\n",
            "7.7\n"
          ],
          "name": "stdout"
        }
      ]
    },
    {
      "cell_type": "code",
      "metadata": {
        "id": "P5LSBR1fBr7U",
        "colab_type": "code",
        "colab": {
          "base_uri": "https://localhost:8080/",
          "height": 34
        },
        "outputId": "41a591ad-518a-48aa-b14d-c1f21e139b51"
      },
      "source": [
        "print(\"電影{}的評等為{}\".format(movie_title, movie_rating))"
      ],
      "execution_count": 74,
      "outputs": [
        {
          "output_type": "stream",
          "text": [
            "電影陽光普照的評等為7.7\n"
          ],
          "name": "stdout"
        }
      ]
    },
    {
      "cell_type": "code",
      "metadata": {
        "id": "ly1wrHwWBr9X",
        "colab_type": "code",
        "colab": {
          "base_uri": "https://localhost:8080/",
          "height": 85
        },
        "outputId": "15ca719a-ea68-4719-8db5-a5ff11afa987"
      },
      "source": [
        "城市=input(\"請輸入城市名稱:\") #屬於提示部分\n",
        "天氣=input(\"請輸入天氣:\")\n",
        "print(\"我在{}，天氣{}\".format(城市,天氣))\n",
        "\"我在{}，天氣{}\".format(城市,天氣)"
      ],
      "execution_count": 79,
      "outputs": [
        {
          "output_type": "stream",
          "text": [
            "請輸入城市名稱:台北\n",
            "請輸入天氣:晴天\n",
            "我在台北，天氣晴天\n"
          ],
          "name": "stdout"
        },
        {
          "output_type": "execute_result",
          "data": {
            "text/plain": [
              "'我在台北，天氣晴天'"
            ]
          },
          "metadata": {
            "tags": []
          },
          "execution_count": 79
        }
      ]
    },
    {
      "cell_type": "code",
      "metadata": {
        "id": "DDHTvENmBr_5",
        "colab_type": "code",
        "colab": {
          "base_uri": "https://localhost:8080/",
          "height": 34
        },
        "outputId": "e8157116-0043-43b3-e943-c465214916b5"
      },
      "source": [
        "print(55+66)"
      ],
      "execution_count": 80,
      "outputs": [
        {
          "output_type": "stream",
          "text": [
            "121\n"
          ],
          "name": "stdout"
        }
      ]
    },
    {
      "cell_type": "code",
      "metadata": {
        "id": "xsnVk0D2BsCa",
        "colab_type": "code",
        "colab": {
          "base_uri": "https://localhost:8080/",
          "height": 34
        },
        "outputId": "89054696-67ed-4034-8fe4-2e0486e3dcb0"
      },
      "source": [
        "print('55'+'66')"
      ],
      "execution_count": 81,
      "outputs": [
        {
          "output_type": "stream",
          "text": [
            "5566\n"
          ],
          "name": "stdout"
        }
      ]
    },
    {
      "cell_type": "code",
      "metadata": {
        "id": "cBJBpkWNBsEy",
        "colab_type": "code",
        "colab": {
          "base_uri": "https://localhost:8080/",
          "height": 68
        },
        "outputId": "78393f0e-872a-4ea0-9027-5d9321e38dde"
      },
      "source": [
        "城市=input(\"請輸入城市名稱:\") #屬於提示部分\n",
        "天氣=input(\"請輸入天氣:\")\n",
        "print(\"我在\"+城市+\"，天氣\"+天氣)"
      ],
      "execution_count": 83,
      "outputs": [
        {
          "output_type": "stream",
          "text": [
            "請輸入城市名稱:台北\n",
            "請輸入天氣:晴天\n",
            "我在台北，天氣晴天\n"
          ],
          "name": "stdout"
        }
      ]
    },
    {
      "cell_type": "code",
      "metadata": {
        "id": "274TBRQxBsHZ",
        "colab_type": "code",
        "colab": {
          "base_uri": "https://localhost:8080/",
          "height": 68
        },
        "outputId": "b594199b-1951-433c-aec5-e5001fae01b4"
      },
      "source": [
        "movie_title=input(\"請輸入電影名稱:\")\n",
        "movie_rating=input(\"請輸入電影的評等:\")\n",
        "print(\"電影\"+movie_title+\"評等為\"+movie_rating)"
      ],
      "execution_count": 85,
      "outputs": [
        {
          "output_type": "stream",
          "text": [
            "請輸入電影名稱:陽光普照\n",
            "請輸入電影的評等:7.7\n",
            "電影陽光普照評等為7.7\n"
          ],
          "name": "stdout"
        }
      ]
    },
    {
      "cell_type": "code",
      "metadata": {
        "id": "o_j3TuauFSTJ",
        "colab_type": "code",
        "colab": {
          "base_uri": "https://localhost:8080/",
          "height": 34
        },
        "outputId": "fe416696-7da3-48b8-d2cd-290be2e04558"
      },
      "source": [
        "print(55*66)"
      ],
      "execution_count": 86,
      "outputs": [
        {
          "output_type": "stream",
          "text": [
            "3630\n"
          ],
          "name": "stdout"
        }
      ]
    },
    {
      "cell_type": "code",
      "metadata": {
        "id": "CG5S9D6IFSV7",
        "colab_type": "code",
        "colab": {
          "base_uri": "https://localhost:8080/",
          "height": 34
        },
        "outputId": "e87e47c7-7c19-4dac-c9d9-82959cc83171"
      },
      "source": [
        "print(\"55\"*66)"
      ],
      "execution_count": 88,
      "outputs": [
        {
          "output_type": "stream",
          "text": [
            "555555555555555555555555555555555555555555555555555555555555555555555555555555555555555555555555555555555555555555555555555555555555\n"
          ],
          "name": "stdout"
        }
      ]
    },
    {
      "cell_type": "code",
      "metadata": {
        "id": "0cgnHHEjFSZt",
        "colab_type": "code",
        "colab": {
          "base_uri": "https://localhost:8080/",
          "height": 51
        },
        "outputId": "d0504e53-0491-4ede-b8fe-2486223f8b4a"
      },
      "source": [
        "print(True)\n",
        "print(False)\n",
        "#看起來像物件， 但其實是值"
      ],
      "execution_count": 89,
      "outputs": [
        {
          "output_type": "stream",
          "text": [
            "True\n",
            "False\n"
          ],
          "name": "stdout"
        }
      ]
    },
    {
      "cell_type": "code",
      "metadata": {
        "id": "Ft-ckBRXFSck",
        "colab_type": "code",
        "colab": {
          "base_uri": "https://localhost:8080/",
          "height": 51
        },
        "outputId": "a183d2a1-4367-41fa-ce13-3af0c4983d6b"
      },
      "source": [
        "print(1)\n",
        "print(0)"
      ],
      "execution_count": 90,
      "outputs": [
        {
          "output_type": "stream",
          "text": [
            "1\n",
            "0\n"
          ],
          "name": "stdout"
        }
      ]
    },
    {
      "cell_type": "code",
      "metadata": {
        "id": "7lIjkpG1FSfK",
        "colab_type": "code",
        "colab": {
          "base_uri": "https://localhost:8080/",
          "height": 51
        },
        "outputId": "8314093c-536c-425f-b8f6-2f4327f66f7b"
      },
      "source": [
        "print(type(True))\n",
        "print(type(False))"
      ],
      "execution_count": 92,
      "outputs": [
        {
          "output_type": "stream",
          "text": [
            "<class 'bool'>\n",
            "<class 'bool'>\n"
          ],
          "name": "stdout"
        }
      ]
    },
    {
      "cell_type": "code",
      "metadata": {
        "id": "vbgMP8IKFShx",
        "colab_type": "code",
        "colab": {
          "base_uri": "https://localhost:8080/",
          "height": 165
        },
        "outputId": "598e7b8b-4c6e-4fb6-d0fa-14bbb4fc971a"
      },
      "source": [
        "print(true)\n",
        "#大小寫有差別，小寫的會被認為要找true的物件"
      ],
      "execution_count": 93,
      "outputs": [
        {
          "output_type": "error",
          "ename": "NameError",
          "evalue": "ignored",
          "traceback": [
            "\u001b[0;31m---------------------------------------------------------------------------\u001b[0m",
            "\u001b[0;31mNameError\u001b[0m                                 Traceback (most recent call last)",
            "\u001b[0;32m<ipython-input-93-d6f700e50a15>\u001b[0m in \u001b[0;36m<module>\u001b[0;34m()\u001b[0m\n\u001b[0;32m----> 1\u001b[0;31m \u001b[0mprint\u001b[0m\u001b[0;34m(\u001b[0m\u001b[0mtrue\u001b[0m\u001b[0;34m)\u001b[0m\u001b[0;34m\u001b[0m\u001b[0;34m\u001b[0m\u001b[0m\n\u001b[0m",
            "\u001b[0;31mNameError\u001b[0m: name 'true' is not defined"
          ]
        }
      ]
    },
    {
      "cell_type": "code",
      "metadata": {
        "id": "Qnbb34QHFSlA",
        "colab_type": "code",
        "colab": {}
      },
      "source": [
        "#避免這種容易混淆的宣告\n",
        "true=True\n",
        "false=False"
      ],
      "execution_count": 0,
      "outputs": []
    },
    {
      "cell_type": "code",
      "metadata": {
        "id": "1RIaeerCFSn5",
        "colab_type": "code",
        "colab": {
          "base_uri": "https://localhost:8080/",
          "height": 51
        },
        "outputId": "5cce086a-4a22-4451-e419-66e78bc79856"
      },
      "source": [
        "print(55==66)\n",
        "print(55!=66)\n",
        "#\"!=\"-->不等於的意思"
      ],
      "execution_count": 97,
      "outputs": [
        {
          "output_type": "stream",
          "text": [
            "False\n",
            "True\n"
          ],
          "name": "stdout"
        }
      ]
    },
    {
      "cell_type": "code",
      "metadata": {
        "id": "mO-hqlwwFSq9",
        "colab_type": "code",
        "colab": {
          "base_uri": "https://localhost:8080/",
          "height": 85
        },
        "outputId": "3a22a06c-b29b-4285-8802-ba53e51c39de"
      },
      "source": [
        "print(55>=66)\n",
        "print(55>66)\n",
        "print(55<=66)\n",
        "print(55<66)"
      ],
      "execution_count": 98,
      "outputs": [
        {
          "output_type": "stream",
          "text": [
            "False\n",
            "False\n",
            "True\n",
            "True\n"
          ],
          "name": "stdout"
        }
      ]
    },
    {
      "cell_type": "code",
      "metadata": {
        "id": "KO9dzGPNFSvs",
        "colab_type": "code",
        "colab": {
          "base_uri": "https://localhost:8080/",
          "height": 34
        },
        "outputId": "3aa63b1f-86a0-458c-8e6f-2fbe346d4494"
      },
      "source": [
        "movie_rating=7.7\n",
        "print(movie_rating>8)"
      ],
      "execution_count": 99,
      "outputs": [
        {
          "output_type": "stream",
          "text": [
            "False\n"
          ],
          "name": "stdout"
        }
      ]
    },
    {
      "cell_type": "code",
      "metadata": {
        "id": "b3EoSd41FStp",
        "colab_type": "code",
        "colab": {
          "base_uri": "https://localhost:8080/",
          "height": 34
        },
        "outputId": "5e5f9930-3051-4660-a25b-9841686f44a0"
      },
      "source": [
        "id_last_digit=7\n",
        "id_last_digit%2==1"
      ],
      "execution_count": 107,
      "outputs": [
        {
          "output_type": "execute_result",
          "data": {
            "text/plain": [
              "True"
            ]
          },
          "metadata": {
            "tags": []
          },
          "execution_count": 107
        }
      ]
    },
    {
      "cell_type": "code",
      "metadata": {
        "id": "uPzBvN5DJXlJ",
        "colab_type": "code",
        "colab": {}
      },
      "source": [
        ""
      ],
      "execution_count": 0,
      "outputs": []
    }
  ]
}