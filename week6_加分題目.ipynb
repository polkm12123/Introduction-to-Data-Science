{
  "nbformat": 4,
  "nbformat_minor": 0,
  "metadata": {
    "colab": {
      "name": "week6 加分題目",
      "provenance": [],
      "collapsed_sections": [],
      "authorship_tag": "ABX9TyOVfnlJBwhrgoeZS701WRJm",
      "include_colab_link": true
    },
    "kernelspec": {
      "name": "python3",
      "display_name": "Python 3"
    }
  },
  "cells": [
    {
      "cell_type": "markdown",
      "metadata": {
        "id": "view-in-github",
        "colab_type": "text"
      },
      "source": [
        "<a href=\"https://colab.research.google.com/github/polkm12123/Introduction-to-Data-Science/blob/master/week6_%E5%8A%A0%E5%88%86%E9%A1%8C%E7%9B%AE.ipynb\" target=\"_parent\"><img src=\"https://colab.research.google.com/assets/colab-badge.svg\" alt=\"Open In Colab\"/></a>"
      ]
    },
    {
      "cell_type": "code",
      "metadata": {
        "id": "uCvMCtqzEhND",
        "colab_type": "code",
        "colab": {}
      },
      "source": [
        "(1)若x = \"Python\", y = \"Python\"，則(x is y) 和 (x==y)的結果是True還是False?\n",
        "\n",
        "(2)若x = \"Python\", y = x，則(x is y) 和 (x==y)的結果是True還是False?\n",
        "\n"
      ],
      "execution_count": 0,
      "outputs": []
    },
    {
      "cell_type": "code",
      "metadata": {
        "id": "NVvP0qwZFg8y",
        "colab_type": "code",
        "colab": {}
      },
      "source": [
        "x = \"Python\"\n",
        "y = \"Python\""
      ],
      "execution_count": 0,
      "outputs": []
    },
    {
      "cell_type": "code",
      "metadata": {
        "id": "mXIJc1FkGkbQ",
        "colab_type": "code",
        "colab": {
          "base_uri": "https://localhost:8080/",
          "height": 35
        },
        "outputId": "36cb3fad-ff10-4af9-99d0-3dd0abd4170c"
      },
      "source": [
        "print(x is y)"
      ],
      "execution_count": 2,
      "outputs": [
        {
          "output_type": "stream",
          "text": [
            "True\n"
          ],
          "name": "stdout"
        }
      ]
    },
    {
      "cell_type": "code",
      "metadata": {
        "id": "8P9RM-NMGln6",
        "colab_type": "code",
        "colab": {
          "base_uri": "https://localhost:8080/",
          "height": 35
        },
        "outputId": "3b2e3bca-7bfe-4961-bece-293074de6d56"
      },
      "source": [
        "print(x==y)"
      ],
      "execution_count": 3,
      "outputs": [
        {
          "output_type": "stream",
          "text": [
            "True\n"
          ],
          "name": "stdout"
        }
      ]
    },
    {
      "cell_type": "code",
      "metadata": {
        "id": "cxjlDS4RGoMW",
        "colab_type": "code",
        "colab": {}
      },
      "source": [
        "x = \"Python\"\n",
        "y=x\n"
      ],
      "execution_count": 0,
      "outputs": []
    },
    {
      "cell_type": "code",
      "metadata": {
        "id": "lCGUrgXUGr82",
        "colab_type": "code",
        "colab": {
          "base_uri": "https://localhost:8080/",
          "height": 35
        },
        "outputId": "9caef2a0-69f4-4925-8242-87d2c9b444ad"
      },
      "source": [
        "print(x is y)"
      ],
      "execution_count": 9,
      "outputs": [
        {
          "output_type": "stream",
          "text": [
            "True\n"
          ],
          "name": "stdout"
        }
      ]
    },
    {
      "cell_type": "code",
      "metadata": {
        "id": "NxsDWx7NGr_4",
        "colab_type": "code",
        "colab": {
          "base_uri": "https://localhost:8080/",
          "height": 35
        },
        "outputId": "edad2b54-be49-42c0-dae0-fe0a27476653"
      },
      "source": [
        "print(x==y)"
      ],
      "execution_count": 10,
      "outputs": [
        {
          "output_type": "stream",
          "text": [
            "True\n"
          ],
          "name": "stdout"
        }
      ]
    },
    {
      "cell_type": "code",
      "metadata": {
        "id": "IT_-D40VGyLu",
        "colab_type": "code",
        "colab": {}
      },
      "source": [
        "#(3) 二者答案為什麼一樣或不一樣？\n",
        "因x值得字串與y值的字串是一樣的。is:是否為相同的值"
      ],
      "execution_count": 0,
      "outputs": []
    }
  ]
}
